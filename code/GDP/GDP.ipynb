{
 "cells": [
  {
   "cell_type": "code",
   "execution_count": 1,
   "metadata": {
    "collapsed": true
   },
   "outputs": [],
   "source": [
    "import sys\n",
    "sys.path.insert(0, '../classes')\n",
    "\n",
    "from Model import Model as Model\n",
    "\n",
    "import pickle\n",
    "\n",
    "\n",
    "%matplotlib inline\n",
    "import numpy as np\n",
    "import pandas as pd\n",
    "\n",
    "import seaborn as sns\n",
    "import matplotlib.pyplot as plt\n",
    "from matplotlib.ticker import MaxNLocator\n",
    "\n",
    "from importlib import reload\n",
    "\n",
    "def print_full(x):\n",
    "    pd.set_option('display.max_rows', len(x))\n",
    "    print(x)\n",
    "    pd.reset_option('display.max_rows')\n",
    "    \n",
    "params = {\n",
    " 'grid.color': '.9',\n",
    " 'axes.edgecolor': '.5',\n",
    " 'text.color': '.3',\n",
    " 'xtick.color': '.5',\n",
    " 'xtick.direction': 'out',\n",
    " 'xtick.major.size': 6.0,\n",
    " 'xtick.minor.size': 3.0,\n",
    " 'ytick.color': '.5',\n",
    " 'ytick.direction': 'out',\n",
    " 'ytick.major.size': 6.0,\n",
    " 'ytick.minor.size': 3.0    \n",
    "}\n",
    "sns.set_style(\"whitegrid\", params)"
   ]
  },
  {
   "cell_type": "code",
   "execution_count": 2,
   "metadata": {},
   "outputs": [
    {
     "data": {
      "text/html": [
       "<div>\n",
       "<style>\n",
       "    .dataframe thead tr:only-child th {\n",
       "        text-align: right;\n",
       "    }\n",
       "\n",
       "    .dataframe thead th {\n",
       "        text-align: left;\n",
       "    }\n",
       "\n",
       "    .dataframe tbody tr th {\n",
       "        vertical-align: top;\n",
       "    }\n",
       "</style>\n",
       "<table border=\"1\" class=\"dataframe\">\n",
       "  <thead>\n",
       "    <tr style=\"text-align: right;\">\n",
       "      <th></th>\n",
       "      <th>GDPC1</th>\n",
       "      <th>CPIAUCSL</th>\n",
       "      <th>FEDFUNDS</th>\n",
       "      <th>INDPRO</th>\n",
       "      <th>PAYEMS</th>\n",
       "      <th>UNRATE</th>\n",
       "    </tr>\n",
       "    <tr>\n",
       "      <th>DATE</th>\n",
       "      <th></th>\n",
       "      <th></th>\n",
       "      <th></th>\n",
       "      <th></th>\n",
       "      <th></th>\n",
       "      <th></th>\n",
       "    </tr>\n",
       "  </thead>\n",
       "  <tbody>\n",
       "    <tr>\n",
       "      <th>1959-01-01</th>\n",
       "      <td>2976.6</td>\n",
       "      <td>29.01</td>\n",
       "      <td>2.48</td>\n",
       "      <td>22.7253</td>\n",
       "      <td>52480.0</td>\n",
       "      <td>6.0</td>\n",
       "    </tr>\n",
       "    <tr>\n",
       "      <th>1959-04-01</th>\n",
       "      <td>3049.0</td>\n",
       "      <td>28.98</td>\n",
       "      <td>2.96</td>\n",
       "      <td>24.0048</td>\n",
       "      <td>53320.0</td>\n",
       "      <td>5.2</td>\n",
       "    </tr>\n",
       "    <tr>\n",
       "      <th>1959-07-01</th>\n",
       "      <td>3043.1</td>\n",
       "      <td>29.15</td>\n",
       "      <td>3.47</td>\n",
       "      <td>23.8101</td>\n",
       "      <td>53803.0</td>\n",
       "      <td>5.1</td>\n",
       "    </tr>\n",
       "    <tr>\n",
       "      <th>1959-10-01</th>\n",
       "      <td>3055.1</td>\n",
       "      <td>29.35</td>\n",
       "      <td>3.98</td>\n",
       "      <td>22.8087</td>\n",
       "      <td>53359.0</td>\n",
       "      <td>5.7</td>\n",
       "    </tr>\n",
       "    <tr>\n",
       "      <th>1960-01-01</th>\n",
       "      <td>3123.2</td>\n",
       "      <td>29.37</td>\n",
       "      <td>3.99</td>\n",
       "      <td>25.0061</td>\n",
       "      <td>54274.0</td>\n",
       "      <td>5.2</td>\n",
       "    </tr>\n",
       "  </tbody>\n",
       "</table>\n",
       "</div>"
      ],
      "text/plain": [
       "             GDPC1  CPIAUCSL  FEDFUNDS   INDPRO   PAYEMS  UNRATE\n",
       "DATE                                                            \n",
       "1959-01-01  2976.6     29.01      2.48  22.7253  52480.0     6.0\n",
       "1959-04-01  3049.0     28.98      2.96  24.0048  53320.0     5.2\n",
       "1959-07-01  3043.1     29.15      3.47  23.8101  53803.0     5.1\n",
       "1959-10-01  3055.1     29.35      3.98  22.8087  53359.0     5.7\n",
       "1960-01-01  3123.2     29.37      3.99  25.0061  54274.0     5.2"
      ]
     },
     "execution_count": 2,
     "metadata": {},
     "output_type": "execute_result"
    }
   ],
   "source": [
    "\"\"\"\n",
    " FEDFUNDS     : Effective Fed Funds Rate, percent.\n",
    " GDP          : Real GDP, 3 decimals, billions of Chained 2000 Dollars.\n",
    " INDPRO       : Industrial Production Index\n",
    " CPIAUCSL     : Consumer Price Index for All Urban Consumers: All Items\n",
    " UNRATE       : Civilian Unemployment Rate\n",
    " PAYEMS       : All Employees: Total Nonfarm Payrolls\n",
    "\"\"\"\n",
    "\n",
    "data = pd.read_csv('quarterly.csv', index_col = 'DATE')\n",
    "data.head()"
   ]
  },
  {
   "cell_type": "code",
   "execution_count": 21,
   "metadata": {},
   "outputs": [
    {
     "data": {
      "text/html": [
       "<div>\n",
       "<style>\n",
       "    .dataframe thead tr:only-child th {\n",
       "        text-align: right;\n",
       "    }\n",
       "\n",
       "    .dataframe thead th {\n",
       "        text-align: left;\n",
       "    }\n",
       "\n",
       "    .dataframe tbody tr th {\n",
       "        vertical-align: top;\n",
       "    }\n",
       "</style>\n",
       "<table border=\"1\" class=\"dataframe\">\n",
       "  <thead>\n",
       "    <tr style=\"text-align: right;\">\n",
       "      <th></th>\n",
       "      <th>0</th>\n",
       "      <th>1</th>\n",
       "      <th>2</th>\n",
       "      <th>3</th>\n",
       "      <th>4</th>\n",
       "      <th>5</th>\n",
       "      <th>6</th>\n",
       "      <th>7</th>\n",
       "      <th>8</th>\n",
       "      <th>9</th>\n",
       "      <th>...</th>\n",
       "      <th>179</th>\n",
       "      <th>180</th>\n",
       "      <th>181</th>\n",
       "      <th>186</th>\n",
       "      <th>195</th>\n",
       "      <th>197</th>\n",
       "      <th>198</th>\n",
       "      <th>199</th>\n",
       "      <th>200</th>\n",
       "      <th>201</th>\n",
       "    </tr>\n",
       "  </thead>\n",
       "  <tbody>\n",
       "    <tr>\n",
       "      <th>0</th>\n",
       "      <td>NaN</td>\n",
       "      <td>NaN</td>\n",
       "      <td>NaN</td>\n",
       "      <td>NaN</td>\n",
       "      <td>NaN</td>\n",
       "      <td>NaN</td>\n",
       "      <td>NaN</td>\n",
       "      <td>NaN</td>\n",
       "      <td>NaN</td>\n",
       "      <td>NaN</td>\n",
       "      <td>...</td>\n",
       "      <td>NaN</td>\n",
       "      <td>NaN</td>\n",
       "      <td>NaN</td>\n",
       "      <td>NaN</td>\n",
       "      <td>5.859993</td>\n",
       "      <td>NaN</td>\n",
       "      <td>NaN</td>\n",
       "      <td>NaN</td>\n",
       "      <td>NaN</td>\n",
       "      <td>NaN</td>\n",
       "    </tr>\n",
       "    <tr>\n",
       "      <th>1</th>\n",
       "      <td>0.014227</td>\n",
       "      <td>0.005304</td>\n",
       "      <td>0.022827</td>\n",
       "      <td>0.003951</td>\n",
       "      <td>0.001112</td>\n",
       "      <td>0.062618</td>\n",
       "      <td>0.018332</td>\n",
       "      <td>0.012693</td>\n",
       "      <td>0.013744</td>\n",
       "      <td>0.028256</td>\n",
       "      <td>...</td>\n",
       "      <td>0.003183</td>\n",
       "      <td>0.006014</td>\n",
       "      <td>0.040836</td>\n",
       "      <td>-0.001972</td>\n",
       "      <td>7.463962</td>\n",
       "      <td>-0.041741</td>\n",
       "      <td>-0.013931</td>\n",
       "      <td>-0.002364</td>\n",
       "      <td>0.016019</td>\n",
       "      <td>-0.004836</td>\n",
       "    </tr>\n",
       "    <tr>\n",
       "      <th>2</th>\n",
       "      <td>-0.011699</td>\n",
       "      <td>0.000418</td>\n",
       "      <td>0.005026</td>\n",
       "      <td>0.002466</td>\n",
       "      <td>-0.003265</td>\n",
       "      <td>-0.079012</td>\n",
       "      <td>-0.001480</td>\n",
       "      <td>0.015249</td>\n",
       "      <td>0.011848</td>\n",
       "      <td>-0.024915</td>\n",
       "      <td>...</td>\n",
       "      <td>-0.002238</td>\n",
       "      <td>0.000258</td>\n",
       "      <td>0.034865</td>\n",
       "      <td>0.004471</td>\n",
       "      <td>7.134122</td>\n",
       "      <td>-0.001249</td>\n",
       "      <td>0.001657</td>\n",
       "      <td>0.005996</td>\n",
       "      <td>-0.010793</td>\n",
       "      <td>-0.013843</td>\n",
       "    </tr>\n",
       "    <tr>\n",
       "      <th>3</th>\n",
       "      <td>-0.005819</td>\n",
       "      <td>-0.008827</td>\n",
       "      <td>-0.062926</td>\n",
       "      <td>0.001149</td>\n",
       "      <td>-0.000902</td>\n",
       "      <td>0.019813</td>\n",
       "      <td>-0.023673</td>\n",
       "      <td>-0.018783</td>\n",
       "      <td>-0.017363</td>\n",
       "      <td>-0.034727</td>\n",
       "      <td>...</td>\n",
       "      <td>-0.002049</td>\n",
       "      <td>0.000497</td>\n",
       "      <td>-0.008452</td>\n",
       "      <td>0.001178</td>\n",
       "      <td>7.536827</td>\n",
       "      <td>0.014089</td>\n",
       "      <td>0.001296</td>\n",
       "      <td>0.007746</td>\n",
       "      <td>0.027083</td>\n",
       "      <td>-0.018261</td>\n",
       "    </tr>\n",
       "    <tr>\n",
       "      <th>4</th>\n",
       "      <td>0.012316</td>\n",
       "      <td>-0.000460</td>\n",
       "      <td>0.017535</td>\n",
       "      <td>-0.001931</td>\n",
       "      <td>-0.004577</td>\n",
       "      <td>0.083615</td>\n",
       "      <td>0.020861</td>\n",
       "      <td>0.017329</td>\n",
       "      <td>0.019564</td>\n",
       "      <td>0.024249</td>\n",
       "      <td>...</td>\n",
       "      <td>0.006901</td>\n",
       "      <td>0.010527</td>\n",
       "      <td>-0.037736</td>\n",
       "      <td>0.001021</td>\n",
       "      <td>13.838466</td>\n",
       "      <td>0.026844</td>\n",
       "      <td>0.008344</td>\n",
       "      <td>-0.008004</td>\n",
       "      <td>-0.027850</td>\n",
       "      <td>-0.006025</td>\n",
       "    </tr>\n",
       "  </tbody>\n",
       "</table>\n",
       "<p>5 rows × 168 columns</p>\n",
       "</div>"
      ],
      "text/plain": [
       "        0         1         2         3         4         5         6    \\\n",
       "0       NaN       NaN       NaN       NaN       NaN       NaN       NaN   \n",
       "1  0.014227  0.005304  0.022827  0.003951  0.001112  0.062618  0.018332   \n",
       "2 -0.011699  0.000418  0.005026  0.002466 -0.003265 -0.079012 -0.001480   \n",
       "3 -0.005819 -0.008827 -0.062926  0.001149 -0.000902  0.019813 -0.023673   \n",
       "4  0.012316 -0.000460  0.017535 -0.001931 -0.004577  0.083615  0.020861   \n",
       "\n",
       "        7         8         9      ...          179       180       181  \\\n",
       "0       NaN       NaN       NaN    ...          NaN       NaN       NaN   \n",
       "1  0.012693  0.013744  0.028256    ...     0.003183  0.006014  0.040836   \n",
       "2  0.015249  0.011848 -0.024915    ...    -0.002238  0.000258  0.034865   \n",
       "3 -0.018783 -0.017363 -0.034727    ...    -0.002049  0.000497 -0.008452   \n",
       "4  0.017329  0.019564  0.024249    ...     0.006901  0.010527 -0.037736   \n",
       "\n",
       "        186        195       197       198       199       200       201  \n",
       "0       NaN   5.859993       NaN       NaN       NaN       NaN       NaN  \n",
       "1 -0.001972   7.463962 -0.041741 -0.013931 -0.002364  0.016019 -0.004836  \n",
       "2  0.004471   7.134122 -0.001249  0.001657  0.005996 -0.010793 -0.013843  \n",
       "3  0.001178   7.536827  0.014089  0.001296  0.007746  0.027083 -0.018261  \n",
       "4  0.001021  13.838466  0.026844  0.008344 -0.008004 -0.027850 -0.006025  \n",
       "\n",
       "[5 rows x 168 columns]"
      ]
     },
     "execution_count": 21,
     "metadata": {},
     "output_type": "execute_result"
    }
   ],
   "source": [
    "import scipy.io as sio\n",
    "\n",
    "factors_data = sio.loadmat('factors.mat')\n",
    "\n",
    "# process the factors: raw\n",
    "\n",
    "factors_q = pd.DataFrame(factors_data['quarterly'])\n",
    "\n",
    "# drop the last period (as done with the data)\n",
    "factors_q = factors_q[:-1]\n",
    "\n",
    "# drop every col that has missings after the beginning\n",
    "factors_q = factors_q.iloc[:, list(factors_q[5:].isnull().sum(axis=0)==0)]\n",
    "\n",
    "\n",
    "factors_q.head()"
   ]
  },
  {
   "cell_type": "code",
   "execution_count": 623,
   "metadata": {},
   "outputs": [
    {
     "data": {
      "image/png": "[encoded data removed]",
      "text/plain": [
       "<matplotlib.figure.Figure at 0x11dbbc4e0>"
      ]
     },
     "metadata": {},
     "output_type": "display_data"
    },
    {
     "data": {
      "image/png": "[encoded data removed]",
      "text/plain": [
       "<matplotlib.figure.Figure at 0x11e822a58>"
      ]
     },
     "metadata": {},
     "output_type": "display_data"
    }
   ],
   "source": [
    "df_raw = data.reset_index(drop = True)\n",
    "df_raw.columns = ['GDP', 'CPI', 'FF', 'IP', 'emp', 'unemp']\n",
    "\n",
    "# put the interest variable, GDP, in the format we want to predict: the percentage growth from last period\n",
    "df = df_raw.copy()\n",
    "fig, ax = plt.subplots(figsize=(8,5))\n",
    "\n",
    "dates = pd.to_datetime(data.index, format='%Y-%m-%d')\n",
    "plt.plot(dates, df['GDP'])\n",
    "ax.set_xlim([dates[0] - pd.DateOffset(months=6), dates[-1] + pd.DateOffset(months=6)])\n",
    "plt.savefig('../../latex/plots/GDP_raw.eps', format='eps', dpi=200)\n",
    "\n",
    "df['GDP'] = df_raw[['GDP']].pct_change()\n",
    "df = df.iloc[1:]\n",
    "\n",
    "fig, ax = plt.subplots(figsize=(8,5))\n",
    "\n",
    "dates = pd.to_datetime(data.index[1:], format='%Y-%m-%d')\n",
    "plt.plot(dates, df['GDP'])\n",
    "ax.set_xlim([dates[0] - pd.DateOffset(months=6), dates[-1] + pd.DateOffset(months=6)])\n",
    "plt.savefig('../../latex/plots/GDP.eps', format='eps', dpi=200)"
   ]
  },
  {
   "cell_type": "markdown",
   "metadata": {},
   "source": [
    "# descriptive stats"
   ]
  },
  {
   "cell_type": "code",
   "execution_count": 598,
   "metadata": {},
   "outputs": [],
   "source": [
    "import statsmodels.tsa.stattools as tsa\n",
    "\n",
    "def f(x):\n",
    "    return str(x.round(3))\n",
    "\n",
    "df_raw.describe().loc[['count', 'mean', 'std', 'min', 'max']].to_latex('../../latex/tabs/q_stats_raw.tex', formatters=[f]*df_raw.shape[1])\n",
    "\n",
    "tmp = df_raw.copy()\n",
    "\n",
    "tmp['GDP'] = tmp['GDP'].pct_change()\n",
    "tmp['IP'] = tmp['IP'].apply(np.log).diff(1)\n",
    "tmp['emp'] = tmp['emp'].apply(np.log).diff(1)\n",
    "tmp['CPI'] = tmp['CPI'].apply(np.log).diff(2)\n",
    "tmp['FF'] = tmp['FF'].diff(1)\n",
    "tmp = tmp.iloc[2:]\n",
    "tmp2 = tmp.describe().loc[['count', 'mean', 'std', 'min', 'max']]\n",
    "\n",
    "def g(x):\n",
    "    _, pvalue, *_ = tsa.adfuller(x)\n",
    "    return pvalue\n",
    "\n",
    "tmp2.loc['adfuller'] = tmp.apply(g, axis=0)\n",
    "tmp2.to_latex('../../latex/tabs/q_stats.tex', formatters=[f]*df_raw.shape[1])"
   ]
  },
  {
   "cell_type": "code",
   "execution_count": null,
   "metadata": {},
   "outputs": [],
   "source": [
    "o = {\n",
    "    'diffs': {\n",
    "        'IP': 1,\n",
    "        'GDP': 0,\n",
    "        'emp': 1,\n",
    "        'CPI': 2,\n",
    "        'FF': 1\n",
    "    }\n",
    "}"
   ]
  },
  {
   "cell_type": "code",
   "execution_count": 599,
   "metadata": {},
   "outputs": [
    {
     "name": "stdout",
     "output_type": "stream",
     "text": [
      "p-value: 1.64153231343e-10\n"
     ]
    }
   ],
   "source": [
    "import statsmodels.tsa.stattools as tsa\n",
    "\n",
    "_, pvalue, *_ = tsa.adfuller(df['GDP'])\n",
    "print(\"p-value: \" + str(pvalue))"
   ]
  },
  {
   "cell_type": "markdown",
   "metadata": {},
   "source": [
    "Reject the unit root hypothesis => stationary"
   ]
  },
  {
   "cell_type": "code",
   "execution_count": 28,
   "metadata": {
    "collapsed": true
   },
   "outputs": [],
   "source": [
    "def splitTimeData(df, ratio):\n",
    "    rows = len(df.index)\n",
    "    trainRows = int(rows * (1 - ratio))\n",
    "    testRows = rows - trainRows\n",
    "    \n",
    "    train = df.iloc[0:trainRows-1]\n",
    "    test = df\n",
    "    start = trainRows\n",
    "    \n",
    "    return train, test, start\n",
    "\n",
    "df_train, df_test, start = splitTimeData(df, 0.18)"
   ]
  },
  {
   "cell_type": "code",
   "execution_count": 30,
   "metadata": {
    "collapsed": true
   },
   "outputs": [],
   "source": [
    "'''\n",
    "standard transformations\n",
    "'''\n",
    "from Transform import Transform as Transform\n",
    "\n",
    "cols = cols = ['IP', 'GDP', 'emp', 'unemp', 'CPI', 'FF']\n",
    "\n",
    "# not FF, GDP or unemp\n",
    "t1 = Transform('log', ['IP', 'emp', 'CPI'])\n",
    "\n",
    "o = {\n",
    "    'diffs': {\n",
    "        'IP': 1,\n",
    "        'GDP': 0,\n",
    "        'emp': 1,\n",
    "        'CPI': 2,\n",
    "        'FF': 1\n",
    "    }\n",
    "}\n",
    "\n",
    "\n",
    "t2 = Transform('diff', cols, o)\n",
    "t3 = Transform('standardize', cols)\n",
    "# t3 = Transform('normalize', cols)\n",
    "\n",
    "transfs =  [t1, t2, t3]"
   ]
  },
  {
   "cell_type": "code",
   "execution_count": 31,
   "metadata": {
    "collapsed": true
   },
   "outputs": [],
   "source": [
    "'''\n",
    "standard scorefuns\n",
    "'''\n",
    "\n",
    "def RMSE(y_hat, y):\n",
    "    start = y_hat.first_valid_index()\n",
    "    errors = y.loc[start:] - y_hat\n",
    "    RMSE = np.sqrt(np.mean(np.square(errors)))[0]\n",
    "    return RMSE\n",
    "\n",
    "def MAE(y_hat, y):\n",
    "    start = y_hat.first_valid_index()\n",
    "    errors = y.loc[start:] - y_hat\n",
    "    MAE = np.mean(np.absolute(errors))[0]\n",
    "    return MAE"
   ]
  },
  {
   "cell_type": "code",
   "execution_count": 32,
   "metadata": {
    "collapsed": true
   },
   "outputs": [],
   "source": [
    "TEST_OFFSET = df_train.last_valid_index() + 1"
   ]
  },
  {
   "cell_type": "code",
   "execution_count": 405,
   "metadata": {
    "collapsed": true
   },
   "outputs": [],
   "source": [
    "try:\n",
    "    with open(\"results.p\", \"rb\" ) as f:\n",
    "        results = pickle.load(f)\n",
    "except:\n",
    "    results = {}\n",
    "results.keys()"
   ]
  },
  {
   "cell_type": "markdown",
   "metadata": {},
   "source": [
    "# Baseline"
   ]
  },
  {
   "cell_type": "code",
   "execution_count": 406,
   "metadata": {},
   "outputs": [
    {
     "name": "stdout",
     "output_type": "stream",
     "text": [
      "step: 190\n",
      "step: 200\n",
      "step: 210\n",
      "step: 220\n",
      "step: 190\n",
      "step: 200\n",
      "step: 210\n",
      "step: 220\n",
      "step: 190\n",
      "step: 200\n",
      "step: 210\n",
      "step: 220\n"
     ]
    },
    {
     "data": {
      "text/plain": [
       "[0.0072212569384425499, 0.0093430396086289381, 0.010466315408835523]"
      ]
     },
     "execution_count": 406,
     "metadata": {},
     "output_type": "execute_result"
    }
   ],
   "source": [
    "from LastPeriod import LastPeriod as LastPeriod\n",
    "\n",
    "# test\n",
    "cols = ['GDP']\n",
    "y_col = ['GDP']\n",
    "\n",
    "X_train, y_train = df_train[cols], df_train[y_col]\n",
    "X_test, y_test = df_test[cols], df_test[y_col]\n",
    "\n",
    "lags = 1\n",
    "\n",
    "def gen_x(X, start):\n",
    "    X = LastPeriod.gen_X(X, start)\n",
    "    return X\n",
    "\n",
    "def gen_y(y, start):\n",
    "    y = LastPeriod.gen_y(y, start)\n",
    "    return y\n",
    "\n",
    "model = LastPeriod()\n",
    "\n",
    "m = Model(model, transfs, gen_x, gen_y, RMSE)\n",
    "\n",
    "window =  [1, 4, 12]\n",
    "ret_base = m.expanding_window(X_test, y_test, TEST_OFFSET, window, 'direct')\n",
    "results['BASE'] = ret_base\n",
    "\n",
    "[ret_base[h][0] for h in window]"
   ]
  },
  {
   "cell_type": "markdown",
   "metadata": {},
   "source": [
    "# Univariate"
   ]
  },
  {
   "cell_type": "markdown",
   "metadata": {},
   "source": [
    "## AR"
   ]
  },
  {
   "cell_type": "code",
   "execution_count": 407,
   "metadata": {},
   "outputs": [
    {
     "name": "stdout",
     "output_type": "stream",
     "text": [
      "step: 170\n",
      "step: 175\n",
      "step: 180\n",
      "step: 185\n",
      "step: 190\n",
      "step: 195\n",
      "step: 200\n",
      "step: 205\n",
      "step: 210\n",
      "step: 215\n",
      "step: 220\n"
     ]
    },
    {
     "data": {
      "text/plain": [
       "[0.0066269986735853744, 0.0078888382317660564, 0.0079724063885839198]"
      ]
     },
     "execution_count": 407,
     "metadata": {},
     "output_type": "execute_result"
    }
   ],
   "source": [
    "from var_model import VAR as VAR\n",
    "\n",
    "cols = ['GDP']\n",
    "y_col = ['GDP']\n",
    "\n",
    "X_train, y_train = df_train[cols], df_train[y_col]\n",
    "X_test, y_test = df_test[cols], df_test[y_col]\n",
    "\n",
    "lags = 9\n",
    "\n",
    "\n",
    "def gen_x(X, start):\n",
    "    X = VAR.gen_X(X, lags, start)\n",
    "#     X = X[:, 1:] # remove constant\n",
    "    return X\n",
    "\n",
    "def gen_y(y, start):\n",
    "    y = VAR.gen_y(y, lags, start)\n",
    "    return y\n",
    "\n",
    "model = VAR()\n",
    "\n",
    "m = Model(model, transfs, gen_x, gen_y, RMSE)\n",
    "\n",
    "window = [1, 4, 12]\n",
    "ret_AR = m.expanding_window(X_test, y_test, TEST_OFFSET, window, 'dynamic')\n",
    "results['AR'] = ret_AR\n",
    "[ret_AR[h][0] for h in window]"
   ]
  },
  {
   "cell_type": "markdown",
   "metadata": {},
   "source": [
    "## MA"
   ]
  },
  {
   "cell_type": "code",
   "execution_count": 408,
   "metadata": {},
   "outputs": [
    {
     "name": "stdout",
     "output_type": "stream",
     "text": [
      "step: 170\n",
      "step: 175\n",
      "step: 180\n",
      "step: 185\n",
      "step: 190\n",
      "step: 195\n",
      "step: 200\n",
      "step: 205\n",
      "step: 210\n",
      "step: 215\n",
      "step: 220\n"
     ]
    },
    {
     "data": {
      "text/plain": [
       "[0.0066287688630359805, 0.0079699114846011592, 0.0080635770161951621]"
      ]
     },
     "execution_count": 408,
     "metadata": {},
     "output_type": "execute_result"
    }
   ],
   "source": [
    "from ARMA import ARMA as ARMA\n",
    "from var_model import VAR as VAR\n",
    "\n",
    "# test\n",
    "cols = ['GDP']\n",
    "y_col = ['GDP']\n",
    "\n",
    "X_train, y_train = df_train[cols], df_train[y_col]\n",
    "X_test, y_test = df_test[cols], df_test[y_col]\n",
    "\n",
    "\n",
    "lags = 1\n",
    "\n",
    "def gen_x(X, start):\n",
    "    X = VAR.gen_X(X, lags, start)\n",
    "    X = X[:, 1:] # remove constant\n",
    "    return X\n",
    "\n",
    "def gen_y(y, start):\n",
    "    y = VAR.gen_y(y, lags, start)\n",
    "    return y\n",
    "\n",
    "model = ARMA(0, 6)\n",
    "\n",
    "\n",
    "m = Model(model, transfs, gen_x, gen_y, RMSE)\n",
    "\n",
    "window =  [1, 4, 12]\n",
    "ret_MA = m.expanding_window(X_test, y_test, TEST_OFFSET, window, 'dynamic-ar')\n",
    "results['MA'] = ret_MA\n",
    "[ret_MA[h][0] for h in window]"
   ]
  },
  {
   "cell_type": "markdown",
   "metadata": {},
   "source": [
    "## ARMA"
   ]
  },
  {
   "cell_type": "code",
   "execution_count": 409,
   "metadata": {},
   "outputs": [
    {
     "name": "stdout",
     "output_type": "stream",
     "text": [
      "step: 170\n",
      "step: 175\n",
      "step: 180\n",
      "step: 185\n",
      "step: 190\n",
      "step: 195\n",
      "step: 200\n",
      "step: 205\n",
      "step: 210\n",
      "step: 215\n",
      "step: 220\n"
     ]
    },
    {
     "data": {
      "text/plain": [
       "[0.0066478838056817022, 0.0077841448274712762, 0.0080527523401103026]"
      ]
     },
     "execution_count": 409,
     "metadata": {},
     "output_type": "execute_result"
    }
   ],
   "source": [
    "from ARMA import ARMA as ARMA\n",
    "from var_model import VAR as VAR\n",
    "\n",
    "# test\n",
    "cols = ['GDP']\n",
    "y_col = ['GDP']\n",
    "\n",
    "X_train, y_train = df_train[cols], df_train[y_col]\n",
    "X_test, y_test = df_test[cols], df_test[y_col]\n",
    "\n",
    "\n",
    "lags = 1\n",
    "\n",
    "def gen_x(X, start):\n",
    "    X = VAR.gen_X(X, lags, start)\n",
    "    X = X[:, 1:] # remove constant\n",
    "    return X\n",
    "\n",
    "def gen_y(y, start):\n",
    "    y = VAR.gen_y(y, lags, start)\n",
    "    return y\n",
    "\n",
    "model = ARMA(4, 1)\n",
    "\n",
    "\n",
    "m = Model(model, transfs, gen_x, gen_y, RMSE)\n",
    "\n",
    "window =  [1, 4, 12]\n",
    "ret_ARMA = m.expanding_window(X_test, y_test, TEST_OFFSET, window, 'dynamic-ar')\n",
    "results['ARMA'] = ret_ARMA\n",
    "[ret_ARMA[h][0] for h in window]"
   ]
  },
  {
   "cell_type": "markdown",
   "metadata": {},
   "source": [
    "## MSAR"
   ]
  },
  {
   "cell_type": "code",
   "execution_count": 410,
   "metadata": {},
   "outputs": [
    {
     "name": "stdout",
     "output_type": "stream",
     "text": [
      "step: 170\n",
      "step: 175\n",
      "step: 180\n",
      "step: 185\n"
     ]
    },
    {
     "name": "stderr",
     "output_type": "stream",
     "text": [
      "/usr/local/lib/python3.6/site-packages/statsmodels/tsa/regime_switching/markov_switching.py:391: RuntimeWarning: invalid value encountered in true_divide\n",
      "  predicted_joint_probabilities[..., t+1])\n"
     ]
    },
    {
     "name": "stdout",
     "output_type": "stream",
     "text": [
      "step: 190\n",
      "step: 195\n",
      "step: 200\n",
      "step: 205\n",
      "step: 210\n",
      "step: 215\n",
      "step: 220\n"
     ]
    },
    {
     "data": {
      "text/plain": [
       "[0.0067519626531526407, 0.007798057535031609, 0.0080888914235125731]"
      ]
     },
     "execution_count": 410,
     "metadata": {},
     "output_type": "execute_result"
    }
   ],
   "source": [
    "from MSReg import MSReg\n",
    "\n",
    "cols = ['GDP']\n",
    "y_col = ['GDP']\n",
    "\n",
    "X_train, y_train = df_train[cols], df_train[y_col]\n",
    "X_test, y_test = df_test[cols], df_test[y_col]\n",
    "\n",
    "lags = 5\n",
    "\n",
    "def gen_x(X, start):\n",
    "    X = VAR.gen_X(X, lags, start)\n",
    "#     X = X[:, 1:] # remove constant\n",
    "    return X\n",
    "\n",
    "def gen_y(y, start):\n",
    "    y = VAR.gen_y(y, lags, start)\n",
    "    return y\n",
    "\n",
    "model = MSReg(2)\n",
    "\n",
    "m = Model(model, transfs, gen_x, gen_y, RMSE)\n",
    "\n",
    "\n",
    "window = [1, 4, 12]\n",
    "ret_MSAR = m.expanding_window(X_test, y_test, TEST_OFFSET, window, 'dynamic-ar')\n",
    "results['MSAR'] = ret_MSAR\n",
    "[ret_MSAR[h][0] for h in window]"
   ]
  },
  {
   "cell_type": "markdown",
   "metadata": {},
   "source": [
    "## SPLITAR"
   ]
  },
  {
   "cell_type": "code",
   "execution_count": 519,
   "metadata": {},
   "outputs": [
    {
     "name": "stdout",
     "output_type": "stream",
     "text": [
      "step: 170\n",
      "step: 175\n",
      "step: 180\n",
      "step: 185\n",
      "step: 190\n",
      "step: 195\n",
      "step: 200\n",
      "step: 205\n",
      "step: 210\n",
      "step: 215\n",
      "step: 220\n"
     ]
    },
    {
     "data": {
      "text/plain": [
       "[0.0065744570705370256, 0.0080187154322115886, 0.0084770770920459468]"
      ]
     },
     "execution_count": 519,
     "metadata": {},
     "output_type": "execute_result"
    }
   ],
   "source": [
    "from splitVAR import splitVAR as splitVAR\n",
    "\n",
    "cols = ['GDP']\n",
    "y_col = ['GDP']\n",
    "\n",
    "X_train, y_train = df_train[cols], df_train[y_col]\n",
    "X_test, y_test = df_test[cols], df_test[y_col]\n",
    "\n",
    "lags = 5\n",
    "\n",
    "\n",
    "def gen_x(X, start):\n",
    "    X = VAR.gen_X(X, lags, start)\n",
    "#     X = X[:, 1:] # remove constant\n",
    "    return X\n",
    "\n",
    "def gen_y(y, start):\n",
    "    y = VAR.gen_y(y, lags, start)\n",
    "    return y\n",
    "\n",
    "model = model = splitVAR(2, proba = True, WLS = True, lags = lags, variables = cols, pred_vars = cols, reg_vars = cols)\n",
    "\n",
    "\n",
    "m = Model(model, transfs, gen_x, gen_y, RMSE)\n",
    "\n",
    "window = [1, 4, 12]\n",
    "ret_splitAR = m.expanding_window(X_test, y_test, TEST_OFFSET, window, 'dynamic')\n",
    "results['SPLITAR'] = ret_splitAR\n",
    "[ret_splitAR[h][0] for h in window]"
   ]
  },
  {
   "cell_type": "markdown",
   "metadata": {},
   "source": [
    "## MLPAR"
   ]
  },
  {
   "cell_type": "code",
   "execution_count": null,
   "metadata": {
    "collapsed": true,
    "scrolled": true
   },
   "outputs": [],
   "source": [
    "from MLP import MLP\n",
    "\n",
    "cols = ['GDP']\n",
    "y_col = ['GDP']\n",
    "\n",
    "X_train, y_train = df_train[cols], df_train[y_col]\n",
    "X_test, y_test = df_test[cols], df_test[y_col]\n",
    "\n",
    "lags = 9\n",
    "\n",
    "\n",
    "def gen_x(X, start):\n",
    "    X = VAR.gen_X(X, lags, start)\n",
    "#     X = X[:, 1:] # remove constant\n",
    "    return X\n",
    "\n",
    "def gen_y(y, start):\n",
    "    y = VAR.gen_y(y, lags, start)\n",
    "    return y\n",
    "\n",
    "model = MLP((4,), training_epochs = 2000, beta=1e-5, debug = False)\n",
    "\n",
    "m = Model(model, transfs, gen_x, gen_y, RMSE)\n",
    "\n",
    "window = [1, 4, 12]\n",
    "ret_MLPAR = m.expanding_window(X_test, y_test, TEST_OFFSET, window, 'dynamic')\n",
    "results['MLPAR'] = ret_MLPAR\n",
    "[ret_MLPAR[h][0] for h in window]"
   ]
  },
  {
   "cell_type": "code",
   "execution_count": 414,
   "metadata": {},
   "outputs": [
    {
     "data": {
      "text/plain": [
       "[0.0080559940388906948, 0.0079963441088366279, 0.0083869625973054616]"
      ]
     },
     "execution_count": 414,
     "metadata": {},
     "output_type": "execute_result"
    }
   ],
   "source": [
    "# get it from the file\n",
    "with open(\"MLPAR.p\", \"rb\" ) as f:\n",
    "    ret_MLPAR = pickle.load(f)\n",
    "    results['MLPAR'] = ret_MLPAR\n",
    "[ret_MLPAR[h][0] for h in window]"
   ]
  },
  {
   "cell_type": "markdown",
   "metadata": {},
   "source": [
    "# Multivariate"
   ]
  },
  {
   "cell_type": "markdown",
   "metadata": {},
   "source": [
    "## VAR"
   ]
  },
  {
   "cell_type": "code",
   "execution_count": 415,
   "metadata": {
    "scrolled": false
   },
   "outputs": [
    {
     "name": "stdout",
     "output_type": "stream",
     "text": [
      "step: 170\n",
      "step: 175\n",
      "step: 180\n",
      "step: 185\n",
      "step: 190\n",
      "step: 195\n",
      "step: 200\n",
      "step: 205\n",
      "step: 210\n",
      "step: 215\n",
      "step: 220\n"
     ]
    },
    {
     "data": {
      "text/plain": [
       "[0.0066191446854490634, 0.0076989889875191389, 0.0081060593281606971]"
      ]
     },
     "execution_count": 415,
     "metadata": {},
     "output_type": "execute_result"
    }
   ],
   "source": [
    "from var_model import VAR as VAR\n",
    "\n",
    "cols = ['GDP', 'IP']\n",
    "y_col = ['GDP']\n",
    "\n",
    "X_train, y_train = df_train[cols], df_train[y_col]\n",
    "X_test, y_test = df_test[cols], df_test[y_col]\n",
    "\n",
    "lags = 4\n",
    "\n",
    "\n",
    "def gen_x(X, start):\n",
    "    X = VAR.gen_X(X, lags, start)\n",
    "#     X = X[:, 1:] # remove constant\n",
    "    return X\n",
    "\n",
    "def gen_y(y, start):\n",
    "    y = VAR.gen_y(y, lags, start)\n",
    "    return y\n",
    "\n",
    "model = VAR()\n",
    "\n",
    "m = Model(model, transfs, gen_x, gen_y, RMSE)\n",
    "\n",
    "window = [1, 4, 12]\n",
    "ret_VAR = m.expanding_window(X_test, y_test, TEST_OFFSET, window, 'dynamic')\n",
    "results['VAR'] = ret_VAR\n",
    "[ret_VAR[h][0] for h in window]"
   ]
  },
  {
   "cell_type": "markdown",
   "metadata": {},
   "source": [
    "## MSVAR"
   ]
  },
  {
   "cell_type": "code",
   "execution_count": 416,
   "metadata": {},
   "outputs": [
    {
     "name": "stdout",
     "output_type": "stream",
     "text": [
      "step: 170\n"
     ]
    },
    {
     "name": "stderr",
     "output_type": "stream",
     "text": [
      "/usr/local/lib/python3.6/site-packages/statsmodels/base/model.py:496: ConvergenceWarning: Maximum Likelihood optimization failed to converge. Check mle_retvals\n",
      "  \"Check mle_retvals\", ConvergenceWarning)\n",
      "/usr/local/lib/python3.6/site-packages/statsmodels/base/model.py:496: ConvergenceWarning: Maximum Likelihood optimization failed to converge. Check mle_retvals\n",
      "  \"Check mle_retvals\", ConvergenceWarning)\n",
      "/usr/local/lib/python3.6/site-packages/statsmodels/base/model.py:496: ConvergenceWarning: Maximum Likelihood optimization failed to converge. Check mle_retvals\n",
      "  \"Check mle_retvals\", ConvergenceWarning)\n"
     ]
    },
    {
     "name": "stdout",
     "output_type": "stream",
     "text": [
      "step: 175\n"
     ]
    },
    {
     "name": "stderr",
     "output_type": "stream",
     "text": [
      "/usr/local/lib/python3.6/site-packages/statsmodels/base/model.py:496: ConvergenceWarning: Maximum Likelihood optimization failed to converge. Check mle_retvals\n",
      "  \"Check mle_retvals\", ConvergenceWarning)\n"
     ]
    },
    {
     "name": "stdout",
     "output_type": "stream",
     "text": [
      "step: 180\n",
      "step: 185\n",
      "step: 190\n",
      "step: 195\n",
      "step: 200\n",
      "step: 205\n",
      "step: 210\n",
      "step: 215\n",
      "step: 220\n"
     ]
    },
    {
     "data": {
      "text/plain": [
       "[0.0068827277143088603, 0.0076688451599557948, 0.0079751893072326184]"
      ]
     },
     "execution_count": 416,
     "metadata": {},
     "output_type": "execute_result"
    }
   ],
   "source": [
    "from var_model import VAR as VAR\n",
    "\n",
    "cols = ['GDP', 'unemp']\n",
    "y_col = ['GDP']\n",
    "\n",
    "X_train, y_train = df_train[cols], df_train[y_col]\n",
    "X_test, y_test = df_test[cols], df_test[y_col]\n",
    "\n",
    "lags = 4\n",
    "\n",
    "\n",
    "def gen_x(X, start):\n",
    "    X = VAR.gen_X(X, lags, start)\n",
    "#     X = X[:, 1:] # remove constant\n",
    "    return X\n",
    "\n",
    "def gen_y(y, start):\n",
    "    y = VAR.gen_y(y, lags, start)\n",
    "    return y\n",
    "\n",
    "model = MSReg(2)\n",
    "\n",
    "m = Model(model, transfs, gen_x, gen_y, RMSE)\n",
    "\n",
    "window = [1, 4, 12]\n",
    "ret_MSVAR = m.expanding_window(X_test, y_test, TEST_OFFSET, window, 'dynamic-ar')\n",
    "results['MSVAR'] = ret_MSVAR\n",
    "[ret_MSVAR[h][0] for h in window]"
   ]
  },
  {
   "cell_type": "markdown",
   "metadata": {},
   "source": [
    "## SPLITVAR"
   ]
  },
  {
   "cell_type": "code",
   "execution_count": 521,
   "metadata": {},
   "outputs": [
    {
     "name": "stdout",
     "output_type": "stream",
     "text": [
      "step: 170\n",
      "step: 175\n",
      "step: 180\n",
      "step: 185\n",
      "step: 190\n",
      "step: 195\n",
      "step: 200\n",
      "step: 205\n",
      "step: 210\n",
      "step: 215\n",
      "step: 220\n"
     ]
    },
    {
     "data": {
      "text/plain": [
       "[0.0064774987395959166, 0.0079285242114750434, 0.008499308057805615]"
      ]
     },
     "execution_count": 521,
     "metadata": {},
     "output_type": "execute_result"
    }
   ],
   "source": [
    "from var_model import VAR as VAR\n",
    "\n",
    "cols = ['GDP', 'unemp']\n",
    "y_col = ['GDP']\n",
    "\n",
    "X_train, y_train = df_train[cols], df_train[y_col]\n",
    "X_test, y_test = df_test[cols], df_test[y_col]\n",
    "\n",
    "lags = 4\n",
    "\n",
    "\n",
    "def gen_x(X, start):\n",
    "    X = VAR.gen_X(X, lags, start)\n",
    "#     X = X[:, 1:] # remove constant\n",
    "    return X\n",
    "\n",
    "def gen_y(y, start):\n",
    "    y = VAR.gen_y(y, lags, start)\n",
    "    return y\n",
    "\n",
    "model = splitVAR(2, proba = True, WLS = True, lags = lags, variables = cols, pred_vars = cols, reg_vars = cols)\n",
    "\n",
    "m = Model(model, transfs, gen_x, gen_y, RMSE)\n",
    "\n",
    "window = [1, 4, 12]\n",
    "ret_SPLITVAR = m.expanding_window(X_test, y_test, TEST_OFFSET, window, 'dynamic')\n",
    "results['SPLITVAR'] = ret_SPLITVAR\n",
    "[ret_SPLITVAR[h][0] for h in window]"
   ]
  },
  {
   "cell_type": "markdown",
   "metadata": {},
   "source": [
    "## MLPVAR"
   ]
  },
  {
   "cell_type": "code",
   "execution_count": null,
   "metadata": {
    "collapsed": true
   },
   "outputs": [],
   "source": [
    "from MLP import MLP\n",
    "\n",
    "cols = ['GDP', 'CPI']\n",
    "y_col = ['GDP']\n",
    "\n",
    "X_train, y_train = df_train[cols], df_train[y_col]\n",
    "X_test, y_test = df_test[cols], df_test[y_col]\n",
    "\n",
    "lags = 4\n",
    "\n",
    "\n",
    "def gen_x(X, start):\n",
    "    X = VAR.gen_X(X, lags, start)\n",
    "#     X = X[:, 1:] # remove constant\n",
    "    return X\n",
    "\n",
    "def gen_y(y, start):\n",
    "    y = VAR.gen_y(y, lags, start)\n",
    "    return y\n",
    "\n",
    "model = MLP((4,), training_epochs = 2000, beta=1e-5, debug = True)\n",
    "\n",
    "m = Model(model, transfs, gen_x, gen_y, RMSE)\n",
    "\n",
    "window = [1, 4, 12]\n",
    "ret_MLPVAR = m.expanding_window(X_test, y_test, TEST_OFFSET, window, 'dynamic')\n",
    "results['MLPVAR'] = ret_MLPVAR\n",
    "[ret_MLPVAR[h][0] for h in window]"
   ]
  },
  {
   "cell_type": "code",
   "execution_count": 418,
   "metadata": {},
   "outputs": [
    {
     "data": {
      "text/plain": [
       "[0.0067597710337673452, 0.0081692706076712772, 0.008659292242025822]"
      ]
     },
     "execution_count": 418,
     "metadata": {},
     "output_type": "execute_result"
    }
   ],
   "source": [
    "# get it from the file\n",
    "with open(\"MLPVAR.p\", \"rb\" ) as f:\n",
    "    ret_MLPVAR = pickle.load(f)\n",
    "    results['MLPVAR'] = ret_MLPVAR\n",
    "    \n",
    "[ret_MLPVAR[h][0] for h in window]"
   ]
  },
  {
   "cell_type": "markdown",
   "metadata": {},
   "source": [
    "# Factors"
   ]
  },
  {
   "cell_type": "markdown",
   "metadata": {},
   "source": [
    "## FAVAR"
   ]
  },
  {
   "cell_type": "code",
   "execution_count": 460,
   "metadata": {},
   "outputs": [
    {
     "name": "stdout",
     "output_type": "stream",
     "text": [
      "step: 170\n",
      "step: 175\n",
      "step: 180\n",
      "step: 185\n",
      "step: 190\n",
      "step: 195\n",
      "step: 200\n",
      "step: 205\n",
      "step: 210\n",
      "step: 215\n",
      "step: 220\n"
     ]
    },
    {
     "data": {
      "text/plain": [
       "[0.0065468124381959855, 0.0071238348042620718, 0.00763993906063112]"
      ]
     },
     "execution_count": 460,
     "metadata": {},
     "output_type": "execute_result"
    }
   ],
   "source": [
    "import FAVAR\n",
    "reload(FAVAR)\n",
    "FAVAR = 1\n",
    "from FAVAR import FAVAR\n",
    "\n",
    "import Model\n",
    "reload(Model)\n",
    "Model = 1\n",
    "from Model import Model\n",
    "\n",
    "\n",
    "favar = FAVAR(factors_q)\n",
    "cols = ['GDP']\n",
    "y_col = ['GDP']\n",
    "\n",
    "\n",
    "X_train, y_train = df_train[cols], df_train[y_col]\n",
    "X_test, y_test = df_test[cols], df_test[y_col]\n",
    "\n",
    "\n",
    "n_factors = 1\n",
    "X_train = favar.addFactors(X_train, n_factors)\n",
    "X_test = favar.addFactors(X_test, n_factors)\n",
    "\n",
    "\n",
    "lags = 4\n",
    "\n",
    "\n",
    "def gen_x(X, start):\n",
    "    X = VAR.gen_X(X, lags, start)\n",
    "    X = X[:, 1:] # remove constant\n",
    "    return X\n",
    "\n",
    "def gen_y(y, start):\n",
    "    y = VAR.gen_y(y, lags, start)\n",
    "    return y\n",
    "\n",
    "model = VAR()\n",
    "\n",
    "m = Model(model, transfs, gen_x, gen_y, RMSE)\n",
    "\n",
    "window = [1, 4, 12]\n",
    "ret_FAVAR = m.expanding_window(X_test, y_test, TEST_OFFSET, window, 'dynamic')\n",
    "results['FAVAR'] = ret_FAVAR\n",
    "[ret_FAVAR[h][0] for h in window]"
   ]
  },
  {
   "cell_type": "markdown",
   "metadata": {},
   "source": [
    "## MSFAVAR"
   ]
  },
  {
   "cell_type": "code",
   "execution_count": 461,
   "metadata": {},
   "outputs": [
    {
     "name": "stdout",
     "output_type": "stream",
     "text": [
      "step: 170\n"
     ]
    },
    {
     "name": "stderr",
     "output_type": "stream",
     "text": [
      "/usr/local/lib/python3.6/site-packages/statsmodels/tsa/regime_switching/markov_switching.py:391: RuntimeWarning: invalid value encountered in true_divide\n",
      "  predicted_joint_probabilities[..., t+1])\n",
      "/usr/local/lib/python3.6/site-packages/statsmodels/base/model.py:496: ConvergenceWarning: Maximum Likelihood optimization failed to converge. Check mle_retvals\n",
      "  \"Check mle_retvals\", ConvergenceWarning)\n"
     ]
    },
    {
     "name": "stdout",
     "output_type": "stream",
     "text": [
      "step: 175\n",
      "step: 180\n",
      "step: 185\n"
     ]
    },
    {
     "name": "stderr",
     "output_type": "stream",
     "text": [
      "/usr/local/lib/python3.6/site-packages/statsmodels/base/model.py:496: ConvergenceWarning: Maximum Likelihood optimization failed to converge. Check mle_retvals\n",
      "  \"Check mle_retvals\", ConvergenceWarning)\n"
     ]
    },
    {
     "name": "stdout",
     "output_type": "stream",
     "text": [
      "step: 190\n",
      "step: 195\n",
      "step: 200\n",
      "step: 205\n",
      "step: 210\n",
      "step: 215\n",
      "step: 220\n"
     ]
    },
    {
     "data": {
      "text/plain": [
       "[0.0061895610558222458, 0.0069418823458037814, 0.0076052207784917071]"
      ]
     },
     "execution_count": 461,
     "metadata": {},
     "output_type": "execute_result"
    }
   ],
   "source": [
    "cols = ['GDP']\n",
    "y_col = ['GDP']\n",
    "\n",
    "X_train, y_train = df_train[cols], df_train[y_col]\n",
    "X_test, y_test = df_test[cols], df_test[y_col]\n",
    "\n",
    "n_factors = 1\n",
    "X_train = favar.addFactors(X_train, n_factors)\n",
    "X_test = favar.addFactors(X_test, n_factors)\n",
    "\n",
    "lags = 4\n",
    "\n",
    "def gen_x(X, start):\n",
    "    X = VAR.gen_X(X, lags, start)\n",
    "#     X = X[:, 1:] # remove constant\n",
    "    return X\n",
    "\n",
    "def gen_y(y, start):\n",
    "    y = VAR.gen_y(y, lags, start)\n",
    "    return y\n",
    "\n",
    "model = MSReg(2)\n",
    "m = Model(model, transfs, gen_x, gen_y, RMSE)\n",
    "\n",
    "window = [1, 4, 12]\n",
    "ret_MSFAVAR = m.expanding_window(X_test, y_test, TEST_OFFSET, window, 'dynamic-ar')\n",
    "results['MSFAVAR'] = ret_MSFAVAR\n",
    "[ret_MSFAVAR[h][0] for h in window]"
   ]
  },
  {
   "cell_type": "markdown",
   "metadata": {},
   "source": [
    "## SPLITFAVAR"
   ]
  },
  {
   "cell_type": "code",
   "execution_count": 506,
   "metadata": {},
   "outputs": [
    {
     "name": "stdout",
     "output_type": "stream",
     "text": [
      "step: 170\n",
      "step: 175\n",
      "step: 180\n",
      "step: 185\n",
      "step: 190\n",
      "step: 195\n",
      "step: 200\n",
      "step: 205\n",
      "step: 210\n",
      "step: 215\n",
      "step: 220\n"
     ]
    },
    {
     "data": {
      "text/plain": [
       "[0.0064134080368465048, 0.0067110138877337225, 0.0075996120463741523]"
      ]
     },
     "execution_count": 506,
     "metadata": {},
     "output_type": "execute_result"
    }
   ],
   "source": [
    "import splitVAR\n",
    "reload(splitVAR)\n",
    "splitVAR = 1\n",
    "from splitVAR import splitVAR\n",
    "\n",
    "cols = ['GDP']\n",
    "y_col = ['GDP']\n",
    "\n",
    "X_train, y_train = df_train[cols], df_train[y_col]\n",
    "X_test, y_test = df_test[cols], df_test[y_col]\n",
    "\n",
    "n_factors = 1\n",
    "X_train = favar.addFactors(X_train, n_factors)\n",
    "X_test = favar.addFactors(X_test, n_factors)\n",
    "\n",
    "lags = 4\n",
    "\n",
    "def gen_x(X, start):\n",
    "    X = VAR.gen_X(X, lags, start)\n",
    "#     X = X[:, 1:] # remove constant\n",
    "    return X\n",
    "\n",
    "def gen_y(y, start):\n",
    "    y = VAR.gen_y(y, lags, start)\n",
    "    return y\n",
    "\n",
    "model = splitVAR(2, proba = True, WLS = True, lags = lags, variables = cols, pred_vars = cols, reg_vars = cols, clustering_type = 'kmeans')\n",
    "m = Model(model, transfs, gen_x, gen_y, RMSE)\n",
    "\n",
    "window = [1, 4, 12]\n",
    "ret_SPLITFAVAR = m.expanding_window(X_test, y_test, TEST_OFFSET, window, 'dynamic')\n",
    "results['SPLITFAVAR'] = ret_SPLITFAVAR\n",
    "[ret_SPLITFAVAR[h][0] for h in window]"
   ]
  },
  {
   "cell_type": "markdown",
   "metadata": {},
   "source": [
    "## MLPFAVAR"
   ]
  },
  {
   "cell_type": "code",
   "execution_count": null,
   "metadata": {
    "collapsed": true
   },
   "outputs": [],
   "source": [
    "favar = FAVAR(factors_q)\n",
    "\n",
    "cols = ['GDP']\n",
    "y_col = ['GDP']\n",
    "\n",
    "# x_cols, y_col = get_cols(cols, 'GDP')\n",
    "X_train, y_train = df_train[cols], df_train[y_col]\n",
    "X_test, y_test = df_test[cols], df_test[y_col]\n",
    "\n",
    "n_factors = 1\n",
    "X_train = favar.addFactors(X_train, n_factors)\n",
    "X_test = favar.addFactors(X_test, n_factors)\n",
    "\n",
    "lags = 4\n",
    "\n",
    "def gen_x(X, start):\n",
    "    X = VAR.gen_X(X, lags, start)\n",
    "#     X = X[:, 1:] # remove constant\n",
    "    return X\n",
    "\n",
    "def gen_y(y, start):\n",
    "    y = VAR.gen_y(y, lags, start)\n",
    "    return y\n",
    "\n",
    "model = MLP((4,), training_epochs = 2000, beta=1e-5, debug = True)\n",
    "m = Model(model, transfs, gen_x, gen_y, RMSE)\n",
    "\n",
    "window = [1, 4, 12]\n",
    "ret_MLPFAVAR = m.expanding_window(X_test, y_test, TEST_OFFSET, window, 'dynamic')\n",
    "results['MLPFAVAR'] = ret_MLPFAVAR\n",
    "[ret_MLPFAVAR[h][0] for h in window]"
   ]
  },
  {
   "cell_type": "code",
   "execution_count": 422,
   "metadata": {},
   "outputs": [
    {
     "data": {
      "text/plain": [
       "[0.0071035152676413174, 0.0084389959510687441, 0.007992247176027931]"
      ]
     },
     "execution_count": 422,
     "metadata": {},
     "output_type": "execute_result"
    }
   ],
   "source": [
    "# get it from the file\n",
    "with open(\"MLPFAVAR.p\", \"rb\" ) as f:\n",
    "    ret_MLPFAVAR = pickle.load(f)\n",
    "    results['MLPFAVAR'] = ret_MLPFAVAR\n",
    "[ret_MLPFAVAR[h][0] for h in window]"
   ]
  },
  {
   "cell_type": "code",
   "execution_count": null,
   "metadata": {
    "collapsed": true
   },
   "outputs": [],
   "source": []
  },
  {
   "cell_type": "markdown",
   "metadata": {},
   "source": [
    "# Results"
   ]
  },
  {
   "cell_type": "code",
   "execution_count": 522,
   "metadata": {},
   "outputs": [
    {
     "name": "stdout",
     "output_type": "stream",
     "text": [
      "                  AR         MA      ARMA      MSAR   SPLITAR     MLPAR  \\\n",
      "BASE       -0.697715  -0.653622 -0.606275 -0.523371 -0.773147  0.766984   \n",
      "AR               NaN  0.0141088   0.13064  0.650041 -0.258183   2.80682   \n",
      "MA               NaN        NaN  0.180694  0.733282 -0.219287     3.162   \n",
      "ARMA             NaN        NaN       NaN  0.773034 -0.305856   3.13774   \n",
      "MSAR             NaN        NaN       NaN       NaN -0.757701   2.68478   \n",
      "SPLITAR          NaN        NaN       NaN       NaN       NaN   2.79837   \n",
      "MLPAR            NaN        NaN       NaN       NaN       NaN       NaN   \n",
      "VAR              NaN        NaN       NaN       NaN       NaN       NaN   \n",
      "MSVAR            NaN        NaN       NaN       NaN       NaN       NaN   \n",
      "SPLITVAR         NaN        NaN       NaN       NaN       NaN       NaN   \n",
      "MLPVAR           NaN        NaN       NaN       NaN       NaN       NaN   \n",
      "FAVAR            NaN        NaN       NaN       NaN       NaN       NaN   \n",
      "MSFAVAR          NaN        NaN       NaN       NaN       NaN       NaN   \n",
      "SPLITFAVAR       NaN        NaN       NaN       NaN       NaN       NaN   \n",
      "\n",
      "                  VAR     MSVAR  SPLITVAR     MLPVAR      FAVAR   MSFAVAR  \\\n",
      "BASE        -0.637491 -0.407673 -0.995205  -0.533021   -1.20474  -1.94433   \n",
      "AR         -0.0436866  0.658987 -0.502556   0.555999  -0.102385 -0.540035   \n",
      "MA         -0.0562504  0.620312 -0.429236   0.481305 -0.0997449 -0.510482   \n",
      "ARMA        -0.196943  0.561054 -0.449689   0.463434  -0.115719 -0.504216   \n",
      "MSAR        -0.559763  0.343567 -0.792461  0.0318457  -0.253686 -0.671644   \n",
      "SPLITAR      0.188073   1.03579 -0.429731   0.759748 -0.0352064 -0.481658   \n",
      "MLPAR        -2.96227  -1.95512  -2.57249   -2.41352   -1.51568  -1.78483   \n",
      "VAR               NaN   0.62862 -0.380671   0.527628 -0.0795618 -0.459092   \n",
      "MSVAR             NaN       NaN  -1.42745  -0.374802  -0.468368 -0.982259   \n",
      "SPLITVAR          NaN       NaN       NaN    0.96215   0.102834 -0.437987   \n",
      "MLPVAR            NaN       NaN       NaN        NaN  -0.275332 -0.728571   \n",
      "FAVAR             NaN       NaN       NaN        NaN        NaN  -1.61612   \n",
      "MSFAVAR           NaN       NaN       NaN        NaN        NaN       NaN   \n",
      "SPLITFAVAR        NaN       NaN       NaN        NaN        NaN       NaN   \n",
      "\n",
      "           SPLITFAVAR  MLPFAVAR  \n",
      "BASE         -1.38829  -0.14273  \n",
      "AR          -0.303118   0.35971  \n",
      "MA          -0.288584  0.348532  \n",
      "ARMA        -0.293128  0.324551  \n",
      "MSAR        -0.460008  0.261773  \n",
      "SPLITAR     -0.232511  0.403447  \n",
      "MLPAR        -1.75998 -0.672115  \n",
      "VAR         -0.249016  0.337898  \n",
      "MSVAR       -0.776476  0.182067  \n",
      "SPLITVAR    -0.113308   0.52131  \n",
      "MLPVAR      -0.499575  0.268918  \n",
      "FAVAR       -0.712484  0.720867  \n",
      "MSFAVAR      0.875246   1.17855  \n",
      "SPLITFAVAR        NaN  0.795003  \n",
      "                  AR        MA      ARMA       MSAR   SPLITAR      MLPAR  \\\n",
      "BASE       -0.665737 -0.612925 -0.713139  -0.742949 -0.612167  -0.646653   \n",
      "AR               NaN  0.622077  -1.75526  -0.292898  0.835581   0.205627   \n",
      "MA               NaN       NaN  -1.32764  -0.443965  0.239435  0.0428626   \n",
      "ARMA             NaN       NaN       NaN  0.0461344   2.05303   0.418755   \n",
      "MSAR             NaN       NaN       NaN        NaN  0.759538   0.435295   \n",
      "SPLITAR          NaN       NaN       NaN        NaN       NaN   -0.05018   \n",
      "MLPAR            NaN       NaN       NaN        NaN       NaN        NaN   \n",
      "VAR              NaN       NaN       NaN        NaN       NaN        NaN   \n",
      "MSVAR            NaN       NaN       NaN        NaN       NaN        NaN   \n",
      "SPLITVAR         NaN       NaN       NaN        NaN       NaN        NaN   \n",
      "MLPVAR           NaN       NaN       NaN        NaN       NaN        NaN   \n",
      "FAVAR            NaN       NaN       NaN        NaN       NaN        NaN   \n",
      "MSFAVAR          NaN       NaN       NaN        NaN       NaN        NaN   \n",
      "SPLITFAVAR       NaN       NaN       NaN        NaN       NaN        NaN   \n",
      "\n",
      "                 VAR      MSVAR   SPLITVAR    MLPVAR     FAVAR   MSFAVAR  \\\n",
      "BASE        -0.74841  -0.813466   -0.69546 -0.551713  -1.13866  -1.24747   \n",
      "AR          -2.02959  -0.476341  0.0560577   0.60956 -0.664865 -0.797879   \n",
      "MA          -1.94622  -0.549459 -0.0522253  0.374226 -0.676941 -0.799249   \n",
      "ARMA        -1.27974  -0.259736   0.205555  0.805365 -0.581528 -0.718641   \n",
      "MSAR       -0.306498  -0.381561   0.223246  0.802988 -0.697962 -0.860006   \n",
      "SPLITAR     -1.96514  -0.871448  -0.140804  0.346657 -0.838863 -0.974014   \n",
      "MLPAR      -0.539166   -1.14181  -0.186156   0.39462  -1.28941  -1.44329   \n",
      "VAR              NaN -0.0609256   0.301498  0.872545 -0.486865 -0.620729   \n",
      "MSVAR            NaN        NaN   0.793297   1.28688 -0.760822 -0.978249   \n",
      "SPLITVAR         NaN        NaN        NaN  0.592005  -1.42122  -1.72793   \n",
      "MLPVAR           NaN        NaN        NaN       NaN  -1.12985  -1.30255   \n",
      "FAVAR            NaN        NaN        NaN       NaN       NaN  -1.44293   \n",
      "MSFAVAR          NaN        NaN        NaN       NaN       NaN       NaN   \n",
      "SPLITFAVAR       NaN        NaN        NaN       NaN       NaN       NaN   \n",
      "\n",
      "           SPLITFAVAR  MLPFAVAR  \n",
      "BASE         -1.26683 -0.588048  \n",
      "AR          -0.921318  0.451595  \n",
      "MA          -0.914079  0.362882  \n",
      "ARMA        -0.849996  0.545465  \n",
      "MSAR         -1.00137  0.601287  \n",
      "SPLITAR      -1.09453  0.360749  \n",
      "MLPAR        -1.64169  0.462886  \n",
      "VAR         -0.754681  0.606622  \n",
      "MSVAR        -1.14526  0.801116  \n",
      "SPLITVAR     -1.79032  0.526829  \n",
      "MLPVAR       -1.37673  0.225219  \n",
      "FAVAR        -2.07097   1.64131  \n",
      "MSFAVAR     -0.928344   1.90915  \n",
      "SPLITFAVAR        NaN   2.07502  \n"
     ]
    },
    {
     "data": {
      "text/html": [
       "<div>\n",
       "<style>\n",
       "    .dataframe thead tr:only-child th {\n",
       "        text-align: right;\n",
       "    }\n",
       "\n",
       "    .dataframe thead th {\n",
       "        text-align: left;\n",
       "    }\n",
       "\n",
       "    .dataframe tbody tr th {\n",
       "        vertical-align: top;\n",
       "    }\n",
       "</style>\n",
       "<table border=\"1\" class=\"dataframe\">\n",
       "  <thead>\n",
       "    <tr style=\"text-align: right;\">\n",
       "      <th></th>\n",
       "      <th>AR</th>\n",
       "      <th>MA</th>\n",
       "      <th>ARMA</th>\n",
       "      <th>MSAR</th>\n",
       "      <th>SPLITAR</th>\n",
       "      <th>MLPAR</th>\n",
       "      <th>VAR</th>\n",
       "      <th>MSVAR</th>\n",
       "      <th>SPLITVAR</th>\n",
       "      <th>MLPVAR</th>\n",
       "      <th>FAVAR</th>\n",
       "      <th>MSFAVAR</th>\n",
       "      <th>SPLITFAVAR</th>\n",
       "      <th>MLPFAVAR</th>\n",
       "    </tr>\n",
       "  </thead>\n",
       "  <tbody>\n",
       "    <tr>\n",
       "      <th>BASE</th>\n",
       "      <td>-1.76988</td>\n",
       "      <td>-1.70429</td>\n",
       "      <td>-1.70923</td>\n",
       "      <td>-1.66688</td>\n",
       "      <td>-1.41846</td>\n",
       "      <td>-1.44552</td>\n",
       "      <td>-1.66482</td>\n",
       "      <td>-1.91422</td>\n",
       "      <td>-1.3711</td>\n",
       "      <td>-1.52198</td>\n",
       "      <td>-3.33469</td>\n",
       "      <td>-3.82378</td>\n",
       "      <td>-3.45469</td>\n",
       "      <td>-2.53213</td>\n",
       "    </tr>\n",
       "    <tr>\n",
       "      <th>AR</th>\n",
       "      <td>NaN</td>\n",
       "      <td>3.27926</td>\n",
       "      <td>3.04293</td>\n",
       "      <td>0.378174</td>\n",
       "      <td>3.27422</td>\n",
       "      <td>2.93043</td>\n",
       "      <td>3.18237</td>\n",
       "      <td>0.0169577</td>\n",
       "      <td>3.72521</td>\n",
       "      <td>2.388</td>\n",
       "      <td>-0.411998</td>\n",
       "      <td>-0.378011</td>\n",
       "      <td>-0.419096</td>\n",
       "      <td>0.0316105</td>\n",
       "    </tr>\n",
       "    <tr>\n",
       "      <th>MA</th>\n",
       "      <td>NaN</td>\n",
       "      <td>NaN</td>\n",
       "      <td>-2.83633</td>\n",
       "      <td>0.0815792</td>\n",
       "      <td>3.10635</td>\n",
       "      <td>2.77627</td>\n",
       "      <td>2.30904</td>\n",
       "      <td>-0.520811</td>\n",
       "      <td>3.61519</td>\n",
       "      <td>2.14358</td>\n",
       "      <td>-0.519624</td>\n",
       "      <td>-0.468211</td>\n",
       "      <td>-0.516861</td>\n",
       "      <td>-0.112072</td>\n",
       "    </tr>\n",
       "    <tr>\n",
       "      <th>ARMA</th>\n",
       "      <td>NaN</td>\n",
       "      <td>NaN</td>\n",
       "      <td>NaN</td>\n",
       "      <td>0.115969</td>\n",
       "      <td>3.20794</td>\n",
       "      <td>2.8358</td>\n",
       "      <td>2.74596</td>\n",
       "      <td>-0.456206</td>\n",
       "      <td>3.63857</td>\n",
       "      <td>2.16065</td>\n",
       "      <td>-0.505791</td>\n",
       "      <td>-0.456644</td>\n",
       "      <td>-0.504393</td>\n",
       "      <td>-0.0949661</td>\n",
       "    </tr>\n",
       "    <tr>\n",
       "      <th>MSAR</th>\n",
       "      <td>NaN</td>\n",
       "      <td>NaN</td>\n",
       "      <td>NaN</td>\n",
       "      <td>NaN</td>\n",
       "      <td>1.00465</td>\n",
       "      <td>0.883429</td>\n",
       "      <td>0.0537188</td>\n",
       "      <td>-0.414885</td>\n",
       "      <td>1.17994</td>\n",
       "      <td>1.74577</td>\n",
       "      <td>-0.593789</td>\n",
       "      <td>-0.533371</td>\n",
       "      <td>-0.595691</td>\n",
       "      <td>-0.171471</td>\n",
       "    </tr>\n",
       "    <tr>\n",
       "      <th>SPLITAR</th>\n",
       "      <td>NaN</td>\n",
       "      <td>NaN</td>\n",
       "      <td>NaN</td>\n",
       "      <td>NaN</td>\n",
       "      <td>NaN</td>\n",
       "      <td>-1.3024</td>\n",
       "      <td>-2.9252</td>\n",
       "      <td>-2.20231</td>\n",
       "      <td>0.138891</td>\n",
       "      <td>0.594115</td>\n",
       "      <td>-0.98976</td>\n",
       "      <td>-0.866494</td>\n",
       "      <td>-0.950211</td>\n",
       "      <td>-0.718221</td>\n",
       "    </tr>\n",
       "    <tr>\n",
       "      <th>MLPAR</th>\n",
       "      <td>NaN</td>\n",
       "      <td>NaN</td>\n",
       "      <td>NaN</td>\n",
       "      <td>NaN</td>\n",
       "      <td>NaN</td>\n",
       "      <td>NaN</td>\n",
       "      <td>-2.56756</td>\n",
       "      <td>-1.82847</td>\n",
       "      <td>0.944797</td>\n",
       "      <td>0.945875</td>\n",
       "      <td>-0.870098</td>\n",
       "      <td>-0.767279</td>\n",
       "      <td>-0.841439</td>\n",
       "      <td>-0.584758</td>\n",
       "    </tr>\n",
       "    <tr>\n",
       "      <th>VAR</th>\n",
       "      <td>NaN</td>\n",
       "      <td>NaN</td>\n",
       "      <td>NaN</td>\n",
       "      <td>NaN</td>\n",
       "      <td>NaN</td>\n",
       "      <td>NaN</td>\n",
       "      <td>NaN</td>\n",
       "      <td>-0.701909</td>\n",
       "      <td>3.73085</td>\n",
       "      <td>1.94411</td>\n",
       "      <td>-0.561292</td>\n",
       "      <td>-0.504037</td>\n",
       "      <td>-0.55471</td>\n",
       "      <td>-0.1745</td>\n",
       "    </tr>\n",
       "    <tr>\n",
       "      <th>MSVAR</th>\n",
       "      <td>NaN</td>\n",
       "      <td>NaN</td>\n",
       "      <td>NaN</td>\n",
       "      <td>NaN</td>\n",
       "      <td>NaN</td>\n",
       "      <td>NaN</td>\n",
       "      <td>NaN</td>\n",
       "      <td>NaN</td>\n",
       "      <td>1.97513</td>\n",
       "      <td>3.26644</td>\n",
       "      <td>-0.511512</td>\n",
       "      <td>-0.451046</td>\n",
       "      <td>-0.511119</td>\n",
       "      <td>0.0355731</td>\n",
       "    </tr>\n",
       "    <tr>\n",
       "      <th>SPLITVAR</th>\n",
       "      <td>NaN</td>\n",
       "      <td>NaN</td>\n",
       "      <td>NaN</td>\n",
       "      <td>NaN</td>\n",
       "      <td>NaN</td>\n",
       "      <td>NaN</td>\n",
       "      <td>NaN</td>\n",
       "      <td>NaN</td>\n",
       "      <td>NaN</td>\n",
       "      <td>0.540679</td>\n",
       "      <td>-0.968823</td>\n",
       "      <td>-0.855867</td>\n",
       "      <td>-0.926376</td>\n",
       "      <td>-0.710389</td>\n",
       "    </tr>\n",
       "    <tr>\n",
       "      <th>MLPVAR</th>\n",
       "      <td>NaN</td>\n",
       "      <td>NaN</td>\n",
       "      <td>NaN</td>\n",
       "      <td>NaN</td>\n",
       "      <td>NaN</td>\n",
       "      <td>NaN</td>\n",
       "      <td>NaN</td>\n",
       "      <td>NaN</td>\n",
       "      <td>NaN</td>\n",
       "      <td>NaN</td>\n",
       "      <td>-1.58674</td>\n",
       "      <td>-1.33408</td>\n",
       "      <td>-1.45671</td>\n",
       "      <td>-1.33408</td>\n",
       "    </tr>\n",
       "    <tr>\n",
       "      <th>FAVAR</th>\n",
       "      <td>NaN</td>\n",
       "      <td>NaN</td>\n",
       "      <td>NaN</td>\n",
       "      <td>NaN</td>\n",
       "      <td>NaN</td>\n",
       "      <td>NaN</td>\n",
       "      <td>NaN</td>\n",
       "      <td>NaN</td>\n",
       "      <td>NaN</td>\n",
       "      <td>NaN</td>\n",
       "      <td>NaN</td>\n",
       "      <td>-0.207152</td>\n",
       "      <td>-0.390912</td>\n",
       "      <td>1.49698</td>\n",
       "    </tr>\n",
       "    <tr>\n",
       "      <th>MSFAVAR</th>\n",
       "      <td>NaN</td>\n",
       "      <td>NaN</td>\n",
       "      <td>NaN</td>\n",
       "      <td>NaN</td>\n",
       "      <td>NaN</td>\n",
       "      <td>NaN</td>\n",
       "      <td>NaN</td>\n",
       "      <td>NaN</td>\n",
       "      <td>NaN</td>\n",
       "      <td>NaN</td>\n",
       "      <td>NaN</td>\n",
       "      <td>NaN</td>\n",
       "      <td>-0.0466434</td>\n",
       "      <td>1.03198</td>\n",
       "    </tr>\n",
       "    <tr>\n",
       "      <th>SPLITFAVAR</th>\n",
       "      <td>NaN</td>\n",
       "      <td>NaN</td>\n",
       "      <td>NaN</td>\n",
       "      <td>NaN</td>\n",
       "      <td>NaN</td>\n",
       "      <td>NaN</td>\n",
       "      <td>NaN</td>\n",
       "      <td>NaN</td>\n",
       "      <td>NaN</td>\n",
       "      <td>NaN</td>\n",
       "      <td>NaN</td>\n",
       "      <td>NaN</td>\n",
       "      <td>NaN</td>\n",
       "      <td>1.35166</td>\n",
       "    </tr>\n",
       "  </tbody>\n",
       "</table>\n",
       "</div>"
      ],
      "text/plain": [
       "                 AR       MA     ARMA       MSAR  SPLITAR     MLPAR  \\\n",
       "BASE       -1.76988 -1.70429 -1.70923   -1.66688 -1.41846  -1.44552   \n",
       "AR              NaN  3.27926  3.04293   0.378174  3.27422   2.93043   \n",
       "MA              NaN      NaN -2.83633  0.0815792  3.10635   2.77627   \n",
       "ARMA            NaN      NaN      NaN   0.115969  3.20794    2.8358   \n",
       "MSAR            NaN      NaN      NaN        NaN  1.00465  0.883429   \n",
       "SPLITAR         NaN      NaN      NaN        NaN      NaN   -1.3024   \n",
       "MLPAR           NaN      NaN      NaN        NaN      NaN       NaN   \n",
       "VAR             NaN      NaN      NaN        NaN      NaN       NaN   \n",
       "MSVAR           NaN      NaN      NaN        NaN      NaN       NaN   \n",
       "SPLITVAR        NaN      NaN      NaN        NaN      NaN       NaN   \n",
       "MLPVAR          NaN      NaN      NaN        NaN      NaN       NaN   \n",
       "FAVAR           NaN      NaN      NaN        NaN      NaN       NaN   \n",
       "MSFAVAR         NaN      NaN      NaN        NaN      NaN       NaN   \n",
       "SPLITFAVAR      NaN      NaN      NaN        NaN      NaN       NaN   \n",
       "\n",
       "                  VAR      MSVAR  SPLITVAR    MLPVAR     FAVAR   MSFAVAR  \\\n",
       "BASE         -1.66482   -1.91422   -1.3711  -1.52198  -3.33469  -3.82378   \n",
       "AR            3.18237  0.0169577   3.72521     2.388 -0.411998 -0.378011   \n",
       "MA            2.30904  -0.520811   3.61519   2.14358 -0.519624 -0.468211   \n",
       "ARMA          2.74596  -0.456206   3.63857   2.16065 -0.505791 -0.456644   \n",
       "MSAR        0.0537188  -0.414885   1.17994   1.74577 -0.593789 -0.533371   \n",
       "SPLITAR       -2.9252   -2.20231  0.138891  0.594115  -0.98976 -0.866494   \n",
       "MLPAR        -2.56756   -1.82847  0.944797  0.945875 -0.870098 -0.767279   \n",
       "VAR               NaN  -0.701909   3.73085   1.94411 -0.561292 -0.504037   \n",
       "MSVAR             NaN        NaN   1.97513   3.26644 -0.511512 -0.451046   \n",
       "SPLITVAR          NaN        NaN       NaN  0.540679 -0.968823 -0.855867   \n",
       "MLPVAR            NaN        NaN       NaN       NaN  -1.58674  -1.33408   \n",
       "FAVAR             NaN        NaN       NaN       NaN       NaN -0.207152   \n",
       "MSFAVAR           NaN        NaN       NaN       NaN       NaN       NaN   \n",
       "SPLITFAVAR        NaN        NaN       NaN       NaN       NaN       NaN   \n",
       "\n",
       "           SPLITFAVAR   MLPFAVAR  \n",
       "BASE         -3.45469   -2.53213  \n",
       "AR          -0.419096  0.0316105  \n",
       "MA          -0.516861  -0.112072  \n",
       "ARMA        -0.504393 -0.0949661  \n",
       "MSAR        -0.595691  -0.171471  \n",
       "SPLITAR     -0.950211  -0.718221  \n",
       "MLPAR       -0.841439  -0.584758  \n",
       "VAR          -0.55471    -0.1745  \n",
       "MSVAR       -0.511119  0.0355731  \n",
       "SPLITVAR    -0.926376  -0.710389  \n",
       "MLPVAR       -1.45671   -1.33408  \n",
       "FAVAR       -0.390912    1.49698  \n",
       "MSFAVAR    -0.0466434    1.03198  \n",
       "SPLITFAVAR        NaN    1.35166  "
      ]
     },
     "execution_count": 522,
     "metadata": {},
     "output_type": "execute_result"
    }
   ],
   "source": [
    "def SE(pred, real):\n",
    "    return (pred - real)*(pred - real)\n",
    "\n",
    "def AE(pred, real):\n",
    "    return abs(pred - real)\n",
    "    \n",
    "def DM(results, y, loss, cols = None):\n",
    "    if cols is None:\n",
    "        cols = list(results.keys())\n",
    "    \n",
    "    ret = {}\n",
    "    for h in [1, 4, 12]:\n",
    "        ret[h] = pd.DataFrame(columns=cols[1:], index=cols[0:-1])\n",
    "        for i in range(len(cols)-1):\n",
    "            row = {}\n",
    "            col1 = cols[i]\n",
    "            for j in range(i+1, len(cols)):\n",
    "                col2 = cols[j]\n",
    "                pred1 = results[col1][h][1]\n",
    "                pred2 = results[col2][h][1]\n",
    "                row[col2] = DM_comparison(pred2, pred1, y, loss, h)\n",
    "            ret[h].loc[col1] = pd.Series(row)\n",
    "            \n",
    "            \n",
    "    return ret\n",
    "\n",
    "def DM_comparison(pred1, pred2, real, loss, h):\n",
    "    first = pred1.first_valid_index()\n",
    "    # remove the y values that were used for training\n",
    "    real = real.loc[first:]\n",
    "    \n",
    "    # apply the loss function to every element \n",
    "    def f(row):\n",
    "        return loss(row.iloc[0], row.iloc[1])\n",
    "\n",
    "    loss1 = pd.concat([pred1, real], axis=1).apply(f, axis=1)\n",
    "    loss2 = pd.concat([pred2, real], axis=1).apply(f, axis=1)\n",
    "    d = loss1 - loss2\n",
    "    d = d.reset_index(drop=True)\n",
    "#     print(d)\n",
    "    T = len(d)\n",
    "    Z = np.mean(d) / np.sqrt(NW(d, h)/T)\n",
    "#     return NW(d, h)\n",
    "    return Z\n",
    "\n",
    "def autocov(d, tau):\n",
    "    T = len(d)\n",
    "    mu = np.mean(d)\n",
    "    return np.mean([(d[i] - mu)*(d[i-tau] - mu) for i in range(tau, T)])\n",
    "    \n",
    "def NW(d, h):\n",
    "    q = h-1\n",
    "    V = autocov(d, 0) + 2*np.sum([(1 - (nu)/(q+1)) * autocov(d, nu) for nu in range(1, q)])\n",
    "    return V\n",
    "    \n",
    "\n",
    "\n",
    "ret_DM = DM(results, y_test, SE)#, ['FAVAR', 'MSFAVAR', 'ARMA'])\n",
    "\n",
    "print(ret_DM[1])\n",
    "print(ret_DM[4])\n",
    "ret_DM[12]"
   ]
  },
  {
   "cell_type": "code",
   "execution_count": 524,
   "metadata": {
    "collapsed": true
   },
   "outputs": [],
   "source": [
    "pickle.dump(results, open( \"results.p\", \"wb\" ) )"
   ]
  },
  {
   "cell_type": "code",
   "execution_count": 523,
   "metadata": {
    "collapsed": true
   },
   "outputs": [],
   "source": [
    "import io\n",
    "import math\n",
    "\n",
    "\n",
    "def process_val(val):\n",
    "    if math.isnan(val):\n",
    "        return '-'\n",
    "    else:\n",
    "        if abs(val) > 1.96:\n",
    "            return '\\\\textbf{ ' + '{:.2f}'.format(round(val, 2)) + '}'\n",
    "        else:\n",
    "            return '{:.2f}'.format(round(val, 2))\n",
    "\n",
    "                                   \n",
    "def convertToLaTeX(df, alignment=\"c\", title=''):\n",
    "    \"\"\"\n",
    "    Convert a pandas dataframe to a LaTeX tabular.\n",
    "    Prints labels in bold, does not use math mode\n",
    "    \"\"\"\n",
    "    numColumns = df.shape[1]\n",
    "    numRows = df.shape[0]\n",
    "    output = io.StringIO()\n",
    "    colFormat = (\"%s|%s\" % ('r', alignment * numColumns))\n",
    "    #Write header\n",
    "    output.write(\"\\\\begin{tabular}{%s}\\n\" % colFormat)\n",
    "    columnLabels = [\"\\\\rot{ \\\\textbf{%s} }\" % label for label in df.columns]\n",
    "    output.write(\"%s& %s\\\\\\\\\\\\hline\\n\" % (title, \" & \".join(columnLabels)))\n",
    "    #Write data lines\n",
    "    for i in range(numRows):\n",
    "        output.write(\"\\\\textbf{%s} & %s\\\\\\\\\\n\"\n",
    "                     % (df.index[i], \" & \".join([process_val(val) for val in df.iloc[i]])))\n",
    "    #Write footer\n",
    "    output.write(\"\\\\end{tabular}\")\n",
    "    return output.getvalue()\n",
    "\n",
    "out = 'GDP'\n",
    "for h in [1, 4, 12]:\n",
    "    with open('../../latex/tabs/DM_' + out + '_' + str(h) + '.tex', \"w\" ) as f:\n",
    "        f.write(convertToLaTeX(ret_DM[h], title=out + ': ' + str(h) + ' ahead'))"
   ]
  },
  {
   "cell_type": "code",
   "execution_count": 525,
   "metadata": {
    "scrolled": true
   },
   "outputs": [
    {
     "data": {
      "text/html": [
       "<div>\n",
       "<style>\n",
       "    .dataframe thead tr:only-child th {\n",
       "        text-align: right;\n",
       "    }\n",
       "\n",
       "    .dataframe thead th {\n",
       "        text-align: left;\n",
       "    }\n",
       "\n",
       "    .dataframe tbody tr th {\n",
       "        vertical-align: top;\n",
       "    }\n",
       "</style>\n",
       "<table border=\"1\" class=\"dataframe\">\n",
       "  <thead>\n",
       "    <tr>\n",
       "      <th>Loss</th>\n",
       "      <th colspan=\"3\" halign=\"left\">RMSE</th>\n",
       "      <th colspan=\"3\" halign=\"left\">MAE</th>\n",
       "    </tr>\n",
       "    <tr>\n",
       "      <th>Periods ahead</th>\n",
       "      <th>1</th>\n",
       "      <th>4</th>\n",
       "      <th>12</th>\n",
       "      <th>1</th>\n",
       "      <th>4</th>\n",
       "      <th>12</th>\n",
       "    </tr>\n",
       "  </thead>\n",
       "  <tbody>\n",
       "    <tr>\n",
       "      <th>BASE</th>\n",
       "      <td>1.000000</td>\n",
       "      <td>1.293825</td>\n",
       "      <td>1.449376</td>\n",
       "      <td>1.000000</td>\n",
       "      <td>1.152143</td>\n",
       "      <td>1.170600</td>\n",
       "    </tr>\n",
       "    <tr>\n",
       "      <th>AR</th>\n",
       "      <td>0.917707</td>\n",
       "      <td>1.092447</td>\n",
       "      <td>1.104019</td>\n",
       "      <td>0.815382</td>\n",
       "      <td>0.899611</td>\n",
       "      <td>0.875509</td>\n",
       "    </tr>\n",
       "    <tr>\n",
       "      <th>MA</th>\n",
       "      <td>0.917952</td>\n",
       "      <td>1.103674</td>\n",
       "      <td>1.116645</td>\n",
       "      <td>0.797736</td>\n",
       "      <td>0.870454</td>\n",
       "      <td>0.884026</td>\n",
       "    </tr>\n",
       "    <tr>\n",
       "      <th>ARMA</th>\n",
       "      <td>0.920599</td>\n",
       "      <td>1.077949</td>\n",
       "      <td>1.115146</td>\n",
       "      <td>0.773875</td>\n",
       "      <td>0.852419</td>\n",
       "      <td>0.881914</td>\n",
       "    </tr>\n",
       "    <tr>\n",
       "      <th>MSAR</th>\n",
       "      <td>0.935012</td>\n",
       "      <td>1.079875</td>\n",
       "      <td>1.120150</td>\n",
       "      <td>0.800572</td>\n",
       "      <td>0.935796</td>\n",
       "      <td>0.917644</td>\n",
       "    </tr>\n",
       "    <tr>\n",
       "      <th>SPLITAR</th>\n",
       "      <td>0.910431</td>\n",
       "      <td>1.110432</td>\n",
       "      <td>1.173906</td>\n",
       "      <td>0.790050</td>\n",
       "      <td>0.924567</td>\n",
       "      <td>0.936708</td>\n",
       "    </tr>\n",
       "    <tr>\n",
       "      <th>MLPAR</th>\n",
       "      <td>1.115594</td>\n",
       "      <td>1.107334</td>\n",
       "      <td>1.161427</td>\n",
       "      <td>1.017494</td>\n",
       "      <td>0.979177</td>\n",
       "      <td>0.907812</td>\n",
       "    </tr>\n",
       "    <tr>\n",
       "      <th>VAR</th>\n",
       "      <td>0.916619</td>\n",
       "      <td>1.066156</td>\n",
       "      <td>1.122527</td>\n",
       "      <td>0.791730</td>\n",
       "      <td>0.843280</td>\n",
       "      <td>0.890614</td>\n",
       "    </tr>\n",
       "    <tr>\n",
       "      <th>MSVAR</th>\n",
       "      <td>0.953120</td>\n",
       "      <td>1.061982</td>\n",
       "      <td>1.104405</td>\n",
       "      <td>0.819054</td>\n",
       "      <td>0.923986</td>\n",
       "      <td>0.879136</td>\n",
       "    </tr>\n",
       "    <tr>\n",
       "      <th>SPLITVAR</th>\n",
       "      <td>0.897004</td>\n",
       "      <td>1.097942</td>\n",
       "      <td>1.176985</td>\n",
       "      <td>0.827602</td>\n",
       "      <td>0.976080</td>\n",
       "      <td>0.943779</td>\n",
       "    </tr>\n",
       "    <tr>\n",
       "      <th>MLPVAR</th>\n",
       "      <td>0.936093</td>\n",
       "      <td>1.131281</td>\n",
       "      <td>1.199139</td>\n",
       "      <td>0.799059</td>\n",
       "      <td>0.931050</td>\n",
       "      <td>0.981400</td>\n",
       "    </tr>\n",
       "    <tr>\n",
       "      <th>FAVAR</th>\n",
       "      <td>0.906603</td>\n",
       "      <td>0.986509</td>\n",
       "      <td>1.057979</td>\n",
       "      <td>0.861604</td>\n",
       "      <td>0.861148</td>\n",
       "      <td>0.879817</td>\n",
       "    </tr>\n",
       "    <tr>\n",
       "      <th>MSFAVAR</th>\n",
       "      <td>0.857131</td>\n",
       "      <td>0.961312</td>\n",
       "      <td>1.053171</td>\n",
       "      <td>0.842083</td>\n",
       "      <td>0.836400</td>\n",
       "      <td>0.892936</td>\n",
       "    </tr>\n",
       "    <tr>\n",
       "      <th>SPLITFAVAR</th>\n",
       "      <td>0.888129</td>\n",
       "      <td>0.929342</td>\n",
       "      <td>1.052395</td>\n",
       "      <td>0.842817</td>\n",
       "      <td>0.828791</td>\n",
       "      <td>0.898903</td>\n",
       "    </tr>\n",
       "    <tr>\n",
       "      <th>MLPFAVAR</th>\n",
       "      <td>0.983695</td>\n",
       "      <td>1.168633</td>\n",
       "      <td>1.106767</td>\n",
       "      <td>0.914933</td>\n",
       "      <td>1.089134</td>\n",
       "      <td>0.947811</td>\n",
       "    </tr>\n",
       "  </tbody>\n",
       "</table>\n",
       "</div>"
      ],
      "text/plain": [
       "Loss               RMSE                           MAE                    \n",
       "Periods ahead        1         4         12        1         4         12\n",
       "BASE           1.000000  1.293825  1.449376  1.000000  1.152143  1.170600\n",
       "AR             0.917707  1.092447  1.104019  0.815382  0.899611  0.875509\n",
       "MA             0.917952  1.103674  1.116645  0.797736  0.870454  0.884026\n",
       "ARMA           0.920599  1.077949  1.115146  0.773875  0.852419  0.881914\n",
       "MSAR           0.935012  1.079875  1.120150  0.800572  0.935796  0.917644\n",
       "SPLITAR        0.910431  1.110432  1.173906  0.790050  0.924567  0.936708\n",
       "MLPAR          1.115594  1.107334  1.161427  1.017494  0.979177  0.907812\n",
       "VAR            0.916619  1.066156  1.122527  0.791730  0.843280  0.890614\n",
       "MSVAR          0.953120  1.061982  1.104405  0.819054  0.923986  0.879136\n",
       "SPLITVAR       0.897004  1.097942  1.176985  0.827602  0.976080  0.943779\n",
       "MLPVAR         0.936093  1.131281  1.199139  0.799059  0.931050  0.981400\n",
       "FAVAR          0.906603  0.986509  1.057979  0.861604  0.861148  0.879817\n",
       "MSFAVAR        0.857131  0.961312  1.053171  0.842083  0.836400  0.892936\n",
       "SPLITFAVAR     0.888129  0.929342  1.052395  0.842817  0.828791  0.898903\n",
       "MLPFAVAR       0.983695  1.168633  1.106767  0.914933  1.089134  0.947811"
      ]
     },
     "execution_count": 525,
     "metadata": {},
     "output_type": "execute_result"
    }
   ],
   "source": [
    "def cost_comparison(results, y, losses, losses_names, models=None):\n",
    "    if models is None:\n",
    "        models = list(results.keys())\n",
    "        \n",
    "    hs = results[models[0]].keys()\n",
    "\n",
    "    tuples = [(loss, h) for loss in losses_names for h in hs]\n",
    "    index = pd.MultiIndex.from_tuples(tuples, names=['Loss', 'Periods ahead'])\n",
    "    ret = pd.DataFrame(columns = index)\n",
    "#     ret.loc['base'] = pd.Series(np.random.randn(6), index=index)\n",
    "    for model in models:\n",
    "        s = pd.Series(index=index)\n",
    "        for loss_idx in range(len(losses)):\n",
    "            for h in hs:\n",
    "                loss = losses[loss_idx]\n",
    "                s.loc[(losses_names[loss_idx], h)] = loss(results[model][h][1], y)                \n",
    "        ret.loc[model] = s\n",
    "        \n",
    "    \n",
    "    return ret\n",
    "    \n",
    "\n",
    "def scale_losses(ret_losses):\n",
    "    losses = list(ret_losses.columns.get_level_values(0).unique())\n",
    "    hs = list(ret_losses.columns.get_level_values(1).unique())\n",
    "    \n",
    "    for loss in losses:\n",
    "        ref = ret_losses[loss][hs[0]].iloc[0]\n",
    "        ret_losses[loss] = ret_losses[loss] / ref\n",
    "    \n",
    "    return ret_losses\n",
    "    \n",
    "def is_col_min(df):\n",
    "    return df == df.min()\n",
    "    \n",
    "ret_losses_r = cost_comparison(results, y_test, [RMSE, MAE], ['RMSE', 'MAE'])\n",
    "\n",
    "# scale the results so that the 1 period loss is always 1\n",
    "\n",
    "ret_losses = scale_losses(ret_losses_r.copy())\n",
    "\n",
    "ret_losses_is_min = is_col_min(ret_losses)\n",
    "\n",
    "pickle.dump(ret_losses, open( \"../agg/GDP.p\", \"wb\" ) )\n",
    "\n",
    "ret_losses"
   ]
  },
  {
   "cell_type": "code",
   "execution_count": 526,
   "metadata": {
    "collapsed": true
   },
   "outputs": [],
   "source": [
    "from itertools import groupby\n",
    "\n",
    "def process_val(val, i, j):\n",
    "    if ret_losses_is_min.iloc[i, j]: # is col min\n",
    "        return '{\\\\color{red} \\\\textbf{' + str(round(val, 2)) + '}}'\n",
    "    else:\n",
    "        return str(round(val, 2))\n",
    "\n",
    "def convertToLaTeX(df, alignment=\"c\"):\n",
    "    \"\"\"\n",
    "    Convert a pandas dataframe to a LaTeX tabular.\n",
    "    Prints labels in bold, does not use math mode\n",
    "    \"\"\"\n",
    "    first = list(df.columns.get_level_values(0))\n",
    "    first_group = [(key, len(list(group))) for key, group in groupby(first)]\n",
    "    second = list(df.columns.get_level_values(1))\n",
    "    \n",
    "    numColumns = df.shape[1]\n",
    "    numRows = df.shape[0]\n",
    "    output = io.StringIO()\n",
    "    cols_align = \"|\".join([\"%s\" % (alignment * l) for key, l in first_group])\n",
    "    colFormat = (\"%s|%s\" % ('l', cols_align))\n",
    "    #Write header\n",
    "    output.write(\"\\\\begin{tabular}{%s}\\n\" % colFormat)\n",
    "    output.write('\\\\toprule\\n')\n",
    "        \n",
    "    # top cols    \n",
    "    columnLabels = [\"\\multicolumn{%i}{c}{%s}\" % (l, label) for label, l in first_group]\n",
    "    output.write(\"%s & %s\\\\\\\\\\n\" % (df.columns.names[0],\" & \".join(columnLabels)))\n",
    "    \n",
    "    # second col\n",
    "    columnLabels = [\"%s\" % label for label in second]\n",
    "    output.write(\"%s & %s\\\\\\\\\\\\hline\\n\" % (df.columns.names[1],\" & \".join(columnLabels)))\n",
    "\n",
    "#     columnLabels = [\"\\\\rot{ \\\\textbf{%s} }\" % label for label in df.columns]\n",
    "#     output.write(\"& %s\\\\\\\\\\\\hline\\n\" % \" & \".join(columnLabels))\n",
    "    #Write data lines\n",
    "    for i in range(numRows):\n",
    "        output.write(\"%s & %s\\\\\\\\\\n\"\n",
    "                     % (df.index[i], \" & \".join([process_val(df.iloc[i, j], i, j) for j in range(numColumns)])))\n",
    "    #Write footer\n",
    "    output.write(\"\\\\end{tabular}\")\n",
    "    return output.getvalue()\n",
    "\n",
    "with open('../../latex/tabs/GDP_losses.tex', \"w\" ) as f:\n",
    "    f.write(convertToLaTeX(ret_losses))"
   ]
  },
  {
   "cell_type": "code",
   "execution_count": 321,
   "metadata": {},
   "outputs": [
    {
     "data": {
      "text/plain": [
       "'loss'"
      ]
     },
     "execution_count": 321,
     "metadata": {},
     "output_type": "execute_result"
    }
   ],
   "source": [
    "# ret_losses.to_latex('../../latex/tabs/test3.tex')\n",
    "ret_losses.columns.names[0]"
   ]
  },
  {
   "cell_type": "code",
   "execution_count": 624,
   "metadata": {},
   "outputs": [
    {
     "data": {
      "image/png": "[encoded data removed]",
      "text/plain": [
       "<matplotlib.figure.Figure at 0x11d456c50>"
      ]
     },
     "metadata": {},
     "output_type": "display_data"
    }
   ],
   "source": [
    "import matplotlib.patches as mpatches\n",
    "\n",
    "\n",
    "df = ret_losses_r['RMSE'].transpose()\n",
    "\n",
    "plt.plot(df['BASE'], color='y', linestyle = ':')\n",
    "plt.plot(df['AR'], color='r')\n",
    "plt.plot(df['MA'], color='r')\n",
    "plt.plot(df['ARMA'], color='r', linestyle = '-')\n",
    "plt.plot(df['MSAR'], color='r', linestyle = '--')\n",
    "plt.plot(df['SPLITAR'], color='r', linestyle = '-.')\n",
    "plt.plot(df['MLPAR'], color='r', linestyle = ':')\n",
    "plt.plot(df['VAR'], color='b', linestyle = '-')\n",
    "plt.plot(df['MSVAR'], color='b', linestyle = '--')\n",
    "plt.plot(df['SPLITVAR'], color='b', linestyle = '-.')\n",
    "plt.plot(df['MLPVAR'], color='b', linestyle = ':')\n",
    "plt.plot(df['FAVAR'], color='c', linestyle = '-')\n",
    "plt.plot(df['MSFAVAR'], color='c', linestyle = '--')\n",
    "plt.plot(df['SPLITFAVAR'], color='c', linestyle = '-.')\n",
    "plt.plot(df['MLPFAVAR'], color='c', linestyle = ':')\n",
    "\n",
    "plt.xticks([1, 4, 12])\n",
    "plt.xlabel('periods ahead')\n",
    "plt.ylabel('RMSE')\n",
    "\n",
    "RW = mpatches.Patch(color='y', label='Random Walk')\n",
    "uni = mpatches.Patch(color='red', label='Univariate')\n",
    "multi = mpatches.Patch(color='blue', label='Multivariate')\n",
    "factors = mpatches.Patch(color='cyan', label='Factors')\n",
    "\n",
    "\n",
    "\n",
    "plt.legend(handles=[RW, uni, multi, factors], loc='lower right', frameon=True)\n",
    "\n",
    "plt.title('GDP')\n",
    "plt.savefig('../../latex/plots/GDP_all.eps', format='eps', dpi=200)"
   ]
  },
  {
   "cell_type": "code",
   "execution_count": 529,
   "metadata": {},
   "outputs": [
    {
     "data": {
      "image/png": "[encoded data removed]",
      "text/plain": [
       "<matplotlib.figure.Figure at 0x11e672f98>"
      ]
     },
     "metadata": {},
     "output_type": "display_data"
    }
   ],
   "source": [
    "fig, ax = plt.subplots(figsize=(8,5))\n",
    "\n",
    "\n",
    "plt.plot(df['FAVAR'], label='FAVAR')\n",
    "plt.plot(df['MSFAVAR'], label='MSFAVAR')\n",
    "plt.plot(df['SPLITFAVAR'], label='SPLITFAVAR')\n",
    "plt.plot(df['MLPFAVAR'], label='MLPFAVAR')\n",
    "\n",
    "plt.xticks([1, 4, 12])\n",
    "plt.xlabel('periods ahead')\n",
    "plt.ylabel('RMSE')\n",
    "\n",
    "legend = ax.legend(loc='lower right', frameon=True)\n",
    "\n",
    "plt.savefig('../../latex/plots/GDP_favar.eps', format='eps', dpi=200)"
   ]
  }
 ],
 "metadata": {
  "kernelspec": {
   "display_name": "Python 3",
   "language": "python",
   "name": "python3"
  },
  "language_info": {
   "codemirror_mode": {
    "name": "ipython",
    "version": 3
   },
   "file_extension": ".py",
   "mimetype": "text/x-python",
   "name": "python",
   "nbconvert_exporter": "python",
   "pygments_lexer": "ipython3",
   "version": "3.6.1"
  }
 },
 "nbformat": 4,
 "nbformat_minor": 2
}
