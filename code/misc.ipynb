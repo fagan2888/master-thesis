{
 "cells": [
  {
   "cell_type": "code",
   "execution_count": 33,
   "metadata": {
    "collapsed": true
   },
   "outputs": [],
   "source": [
    "import sys\n",
    "import math\n",
    "\n",
    "%matplotlib inline\n",
    "import numpy as np\n",
    "import pandas as pd\n",
    "\n",
    "import seaborn as sns\n",
    "import matplotlib.pyplot as plt\n",
    "from matplotlib.ticker import MaxNLocator\n",
    "\n",
    "from importlib import reload\n",
    "\n",
    "def print_full(x):\n",
    "    pd.set_option('display.max_rows', len(x))\n",
    "    print(x)\n",
    "    pd.reset_option('display.max_rows')\n",
    "    \n",
    "params = {\n",
    " 'grid.color': '.9',\n",
    " 'axes.edgecolor': '.5',\n",
    " 'text.color': '.3',\n",
    " 'xtick.color': '.5',\n",
    " 'xtick.direction': 'out',\n",
    " 'xtick.major.size': 6.0,\n",
    " 'xtick.minor.size': 3.0,\n",
    " 'ytick.color': '.5',\n",
    " 'ytick.direction': 'out',\n",
    " 'ytick.major.size': 6.0,\n",
    " 'ytick.minor.size': 3.0    \n",
    "}\n",
    "sns.set_style(\"whitegrid\", params)"
   ]
  },
  {
   "cell_type": "code",
   "execution_count": 81,
   "metadata": {},
   "outputs": [],
   "source": [
    "x = np.linspace(-5, 5, 2000)\n",
    "def f(x):\n",
    "    return 1/(1+np.exp(-x))\n",
    "y = np.vectorize(f)(x)\n",
    "\n",
    "def f2(x):\n",
    "    return float(max(x, 0))\n",
    "y2 = np.vectorize(f2)(x)"
   ]
  },
  {
   "cell_type": "code",
   "execution_count": 91,
   "metadata": {},
   "outputs": [
    {
     "data": {
      "image/png": "[encoded data removed]",
      "text/plain": [
       "<matplotlib.figure.Figure at 0x117fe6d30>"
      ]
     },
     "metadata": {},
     "output_type": "display_data"
    }
   ],
   "source": [
    "fig, ax = plt.subplots(figsize=(5,3))\n",
    "\n",
    "\n",
    "plt.plot(x, y, label = 'Sigmoid')\n",
    "plt.plot(x, y2, label = 'ReLU')\n",
    "\n",
    "legend = ax.legend(loc='lower right', frameon=True)\n",
    "\n",
    "ax.set_xlim([-3,3])\n",
    "ax.set_ylim([-.2,3])\n",
    "\n",
    "\n",
    "plt.savefig('../latex/plots/activations.eps', format='eps', dpi=200)"
   ]
  },
  {
   "cell_type": "code",
   "execution_count": null,
   "metadata": {},
   "outputs": [],
   "source": []
  }
 ],
 "metadata": {
  "kernelspec": {
   "display_name": "Python 3",
   "language": "python",
   "name": "python3"
  },
  "language_info": {
   "codemirror_mode": {
    "name": "ipython",
    "version": 3
   },
   "file_extension": ".py",
   "mimetype": "text/x-python",
   "name": "python",
   "nbconvert_exporter": "python",
   "pygments_lexer": "ipython3",
   "version": "3.6.1"
  }
 },
 "nbformat": 4,
 "nbformat_minor": 2
}
