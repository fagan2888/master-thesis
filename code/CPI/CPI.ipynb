{
 "cells": [
  {
   "cell_type": "code",
   "execution_count": 1,
   "metadata": {
    "collapsed": true
   },
   "outputs": [],
   "source": [
    "import sys\n",
    "sys.path.insert(0, '../classes')\n",
    "\n",
    "from Model import Model as Model\n",
    "\n",
    "import pickle\n",
    "\n",
    "\n",
    "%matplotlib inline\n",
    "import numpy as np\n",
    "import pandas as pd\n",
    "\n",
    "import seaborn as sns\n",
    "import matplotlib.pyplot as plt\n",
    "from matplotlib.ticker import MaxNLocator\n",
    "\n",
    "from importlib import reload\n",
    "\n",
    "def print_full(x):\n",
    "    pd.set_option('display.max_rows', len(x))\n",
    "    print(x)\n",
    "    pd.reset_option('display.max_rows')\n",
    "    \n",
    "params = {\n",
    " 'grid.color': '.9',\n",
    " 'axes.edgecolor': '.5',\n",
    " 'text.color': '.3',\n",
    " 'xtick.color': '.5',\n",
    " 'xtick.direction': 'out',\n",
    " 'xtick.major.size': 6.0,\n",
    " 'xtick.minor.size': 3.0,\n",
    " 'ytick.color': '.5',\n",
    " 'ytick.direction': 'out',\n",
    " 'ytick.major.size': 6.0,\n",
    " 'ytick.minor.size': 3.0    \n",
    "}\n",
    "sns.set_style(\"whitegrid\", params)"
   ]
  },
  {
   "cell_type": "code",
   "execution_count": 8,
   "metadata": {},
   "outputs": [
    {
     "data": {
      "text/html": [
       "<div>\n",
       "<style>\n",
       "    .dataframe thead tr:only-child th {\n",
       "        text-align: right;\n",
       "    }\n",
       "\n",
       "    .dataframe thead th {\n",
       "        text-align: left;\n",
       "    }\n",
       "\n",
       "    .dataframe tbody tr th {\n",
       "        vertical-align: top;\n",
       "    }\n",
       "</style>\n",
       "<table border=\"1\" class=\"dataframe\">\n",
       "  <thead>\n",
       "    <tr style=\"text-align: right;\">\n",
       "      <th></th>\n",
       "      <th>CPIAUCSL</th>\n",
       "      <th>FEDFUNDS</th>\n",
       "      <th>INDPRO</th>\n",
       "      <th>PAYEMS</th>\n",
       "      <th>UNRATE</th>\n",
       "    </tr>\n",
       "    <tr>\n",
       "      <th>DATE</th>\n",
       "      <th></th>\n",
       "      <th></th>\n",
       "      <th></th>\n",
       "      <th></th>\n",
       "      <th></th>\n",
       "    </tr>\n",
       "  </thead>\n",
       "  <tbody>\n",
       "    <tr>\n",
       "      <th>1959-01-01</th>\n",
       "      <td>29.01</td>\n",
       "      <td>2.48</td>\n",
       "      <td>22.7253</td>\n",
       "      <td>52480.0</td>\n",
       "      <td>6.0</td>\n",
       "    </tr>\n",
       "    <tr>\n",
       "      <th>1959-02-01</th>\n",
       "      <td>29.00</td>\n",
       "      <td>2.43</td>\n",
       "      <td>23.1703</td>\n",
       "      <td>52687.0</td>\n",
       "      <td>5.9</td>\n",
       "    </tr>\n",
       "    <tr>\n",
       "      <th>1959-03-01</th>\n",
       "      <td>28.97</td>\n",
       "      <td>2.80</td>\n",
       "      <td>23.5041</td>\n",
       "      <td>53016.0</td>\n",
       "      <td>5.6</td>\n",
       "    </tr>\n",
       "    <tr>\n",
       "      <th>1959-04-01</th>\n",
       "      <td>28.98</td>\n",
       "      <td>2.96</td>\n",
       "      <td>24.0048</td>\n",
       "      <td>53320.0</td>\n",
       "      <td>5.2</td>\n",
       "    </tr>\n",
       "    <tr>\n",
       "      <th>1959-05-01</th>\n",
       "      <td>29.04</td>\n",
       "      <td>2.90</td>\n",
       "      <td>24.3664</td>\n",
       "      <td>53549.0</td>\n",
       "      <td>5.1</td>\n",
       "    </tr>\n",
       "  </tbody>\n",
       "</table>\n",
       "</div>"
      ],
      "text/plain": [
       "            CPIAUCSL  FEDFUNDS   INDPRO   PAYEMS  UNRATE\n",
       "DATE                                                    \n",
       "1959-01-01     29.01      2.48  22.7253  52480.0     6.0\n",
       "1959-02-01     29.00      2.43  23.1703  52687.0     5.9\n",
       "1959-03-01     28.97      2.80  23.5041  53016.0     5.6\n",
       "1959-04-01     28.98      2.96  24.0048  53320.0     5.2\n",
       "1959-05-01     29.04      2.90  24.3664  53549.0     5.1"
      ]
     },
     "execution_count": 8,
     "metadata": {},
     "output_type": "execute_result"
    }
   ],
   "source": [
    "\"\"\"\n",
    " CPIAUCSL     : Consumer Price Index for All Urban Consumers: All Items\n",
    " FEDFUNDS     : Effective Fed Funds Rate, percent.\n",
    " INDPRO       : Industrial Production Index\n",
    " UNRATE       : Civilian Unemployment Rate\n",
    " PAYEMS       : All Employees: Total Nonfarm Payrolls\n",
    "\"\"\"\n",
    "\n",
    "data = pd.read_csv('monthly.csv', index_col = 'DATE')\n",
    "data.head()"
   ]
  },
  {
   "cell_type": "code",
   "execution_count": 7,
   "metadata": {},
   "outputs": [
    {
     "data": {
      "text/html": [
       "<div>\n",
       "<style>\n",
       "    .dataframe thead tr:only-child th {\n",
       "        text-align: right;\n",
       "    }\n",
       "\n",
       "    .dataframe thead th {\n",
       "        text-align: left;\n",
       "    }\n",
       "\n",
       "    .dataframe tbody tr th {\n",
       "        vertical-align: top;\n",
       "    }\n",
       "</style>\n",
       "<table border=\"1\" class=\"dataframe\">\n",
       "  <thead>\n",
       "    <tr style=\"text-align: right;\">\n",
       "      <th></th>\n",
       "      <th>0</th>\n",
       "      <th>1</th>\n",
       "      <th>2</th>\n",
       "      <th>3</th>\n",
       "      <th>4</th>\n",
       "      <th>5</th>\n",
       "      <th>7</th>\n",
       "      <th>8</th>\n",
       "      <th>9</th>\n",
       "      <th>10</th>\n",
       "      <th>...</th>\n",
       "      <th>115</th>\n",
       "      <th>116</th>\n",
       "      <th>117</th>\n",
       "      <th>118</th>\n",
       "      <th>119</th>\n",
       "      <th>121</th>\n",
       "      <th>122</th>\n",
       "      <th>123</th>\n",
       "      <th>127</th>\n",
       "      <th>133</th>\n",
       "    </tr>\n",
       "  </thead>\n",
       "  <tbody>\n",
       "    <tr>\n",
       "      <th>0</th>\n",
       "      <td>NaN</td>\n",
       "      <td>NaN</td>\n",
       "      <td>NaN</td>\n",
       "      <td>NaN</td>\n",
       "      <td>NaN</td>\n",
       "      <td>NaN</td>\n",
       "      <td>NaN</td>\n",
       "      <td>NaN</td>\n",
       "      <td>NaN</td>\n",
       "      <td>NaN</td>\n",
       "      <td>...</td>\n",
       "      <td>NaN</td>\n",
       "      <td>NaN</td>\n",
       "      <td>NaN</td>\n",
       "      <td>NaN</td>\n",
       "      <td>NaN</td>\n",
       "      <td>NaN</td>\n",
       "      <td>NaN</td>\n",
       "      <td>NaN</td>\n",
       "      <td>NaN</td>\n",
       "      <td>95.2</td>\n",
       "    </tr>\n",
       "    <tr>\n",
       "      <th>1</th>\n",
       "      <td>0.019397</td>\n",
       "      <td>0.008625</td>\n",
       "      <td>0.007307</td>\n",
       "      <td>0.031175</td>\n",
       "      <td>0.045030</td>\n",
       "      <td>0.017353</td>\n",
       "      <td>0.005238</td>\n",
       "      <td>-0.040087</td>\n",
       "      <td>0.009512</td>\n",
       "      <td>0.007499</td>\n",
       "      <td>...</td>\n",
       "      <td>0.002912</td>\n",
       "      <td>0.003149</td>\n",
       "      <td>0.003312</td>\n",
       "      <td>0.010540</td>\n",
       "      <td>0.011394</td>\n",
       "      <td>0.010540</td>\n",
       "      <td>-0.015400</td>\n",
       "      <td>-0.002654</td>\n",
       "      <td>0.001995</td>\n",
       "      <td>95.8</td>\n",
       "    </tr>\n",
       "    <tr>\n",
       "      <th>2</th>\n",
       "      <td>0.014303</td>\n",
       "      <td>0.004893</td>\n",
       "      <td>0.000000</td>\n",
       "      <td>0.025645</td>\n",
       "      <td>0.038646</td>\n",
       "      <td>0.014914</td>\n",
       "      <td>0.019389</td>\n",
       "      <td>0.061534</td>\n",
       "      <td>-0.004743</td>\n",
       "      <td>0.008682</td>\n",
       "      <td>...</td>\n",
       "      <td>0.001128</td>\n",
       "      <td>0.004179</td>\n",
       "      <td>0.004038</td>\n",
       "      <td>0.008906</td>\n",
       "      <td>0.006671</td>\n",
       "      <td>0.008906</td>\n",
       "      <td>0.024884</td>\n",
       "      <td>0.030673</td>\n",
       "      <td>-0.001424</td>\n",
       "      <td>96.4</td>\n",
       "    </tr>\n",
       "    <tr>\n",
       "      <th>3</th>\n",
       "      <td>0.021077</td>\n",
       "      <td>0.014546</td>\n",
       "      <td>0.015651</td>\n",
       "      <td>0.027245</td>\n",
       "      <td>0.029658</td>\n",
       "      <td>0.030500</td>\n",
       "      <td>0.006382</td>\n",
       "      <td>0.002650</td>\n",
       "      <td>0.016509</td>\n",
       "      <td>0.018348</td>\n",
       "      <td>...</td>\n",
       "      <td>-0.002436</td>\n",
       "      <td>0.000671</td>\n",
       "      <td>0.000084</td>\n",
       "      <td>0.006635</td>\n",
       "      <td>0.009462</td>\n",
       "      <td>0.006635</td>\n",
       "      <td>0.016777</td>\n",
       "      <td>0.012837</td>\n",
       "      <td>-0.001998</td>\n",
       "      <td>96.9</td>\n",
       "    </tr>\n",
       "    <tr>\n",
       "      <th>4</th>\n",
       "      <td>0.014950</td>\n",
       "      <td>0.009584</td>\n",
       "      <td>0.004768</td>\n",
       "      <td>0.025425</td>\n",
       "      <td>0.034042</td>\n",
       "      <td>0.008942</td>\n",
       "      <td>0.020156</td>\n",
       "      <td>0.018347</td>\n",
       "      <td>0.000000</td>\n",
       "      <td>0.022770</td>\n",
       "      <td>...</td>\n",
       "      <td>0.006001</td>\n",
       "      <td>0.006082</td>\n",
       "      <td>0.006035</td>\n",
       "      <td>0.009587</td>\n",
       "      <td>0.010178</td>\n",
       "      <td>0.009587</td>\n",
       "      <td>0.014949</td>\n",
       "      <td>0.022136</td>\n",
       "      <td>-0.000095</td>\n",
       "      <td>97.5</td>\n",
       "    </tr>\n",
       "  </tbody>\n",
       "</table>\n",
       "<p>5 rows × 102 columns</p>\n",
       "</div>"
      ],
      "text/plain": [
       "        0         1         2         3         4         5         7    \\\n",
       "0       NaN       NaN       NaN       NaN       NaN       NaN       NaN   \n",
       "1  0.019397  0.008625  0.007307  0.031175  0.045030  0.017353  0.005238   \n",
       "2  0.014303  0.004893  0.000000  0.025645  0.038646  0.014914  0.019389   \n",
       "3  0.021077  0.014546  0.015651  0.027245  0.029658  0.030500  0.006382   \n",
       "4  0.014950  0.009584  0.004768  0.025425  0.034042  0.008942  0.020156   \n",
       "\n",
       "        8         9         10   ...        115       116       117       118  \\\n",
       "0       NaN       NaN       NaN  ...        NaN       NaN       NaN       NaN   \n",
       "1 -0.040087  0.009512  0.007499  ...   0.002912  0.003149  0.003312  0.010540   \n",
       "2  0.061534 -0.004743  0.008682  ...   0.001128  0.004179  0.004038  0.008906   \n",
       "3  0.002650  0.016509  0.018348  ...  -0.002436  0.000671  0.000084  0.006635   \n",
       "4  0.018347  0.000000  0.022770  ...   0.006001  0.006082  0.006035  0.009587   \n",
       "\n",
       "        119       121       122       123       127   133  \n",
       "0       NaN       NaN       NaN       NaN       NaN  95.2  \n",
       "1  0.011394  0.010540 -0.015400 -0.002654  0.001995  95.8  \n",
       "2  0.006671  0.008906  0.024884  0.030673 -0.001424  96.4  \n",
       "3  0.009462  0.006635  0.016777  0.012837 -0.001998  96.9  \n",
       "4  0.010178  0.009587  0.014949  0.022136 -0.000095  97.5  \n",
       "\n",
       "[5 rows x 102 columns]"
      ]
     },
     "execution_count": 7,
     "metadata": {},
     "output_type": "execute_result"
    }
   ],
   "source": [
    "import scipy.io as sio\n",
    "\n",
    "factors_data = sio.loadmat('factors.mat')\n",
    "\n",
    "# process the factors: raw\n",
    "\n",
    "factors_q = pd.DataFrame(factors_data['monthly'])\n",
    "\n",
    "# drop the last period (as done with the data)\n",
    "factors_q = factors_q[:-1]\n",
    "\n",
    "# drop every col that has missings after the beginning\n",
    "factors_q = factors_q.iloc[:, list(factors_q[5:].isnull().sum(axis=0)==0)]\n",
    "\n",
    "\n",
    "factors_q.head()"
   ]
  },
  {
   "cell_type": "code",
   "execution_count": 147,
   "metadata": {},
   "outputs": [
    {
     "data": {
      "image/png": "[encoded data removed]",
      "text/plain": [
       "<matplotlib.figure.Figure at 0x110775fd0>"
      ]
     },
     "metadata": {},
     "output_type": "display_data"
    },
    {
     "data": {
      "image/png": "[encoded data removed]",
      "text/plain": [
       "<matplotlib.figure.Figure at 0x110bee8d0>"
      ]
     },
     "metadata": {},
     "output_type": "display_data"
    }
   ],
   "source": [
    "df_raw = data.reset_index(drop = True)\n",
    "df_raw.columns = ['CPI', 'FF', 'IP', 'emp', 'unemp']\n",
    "\n",
    "# put the interest variable, CPI, in the format we want to predict: the percentage growth from last period\n",
    "df = df_raw.copy()\n",
    "\n",
    "dates = pd.to_datetime(data.index, format='%Y-%m-%d')\n",
    "plt.plot(dates, df['CPI'])\n",
    "ax.set_xlim([dates[0] - pd.DateOffset(months=6), dates[-1] + pd.DateOffset(months=6)])\n",
    "plt.savefig('../../latex/plots/CPI_raw.eps', format='eps', dpi=200)\n",
    "\n",
    "df['CPI'] = df_raw[['CPI']].pct_change()\n",
    "df = df.iloc[1:]\n",
    "\n",
    "fig, ax = plt.subplots(figsize=(8,5))\n",
    "\n",
    "dates = pd.to_datetime(data.index[1:], format='%Y-%m-%d')\n",
    "plt.plot(dates, df['CPI'])\n",
    "ax.set_xlim([dates[0] - pd.DateOffset(months=6), dates[-1] + pd.DateOffset(months=6)])\n",
    "plt.savefig('../../latex/plots/CPI.eps', format='eps', dpi=200)"
   ]
  },
  {
   "cell_type": "code",
   "execution_count": 20,
   "metadata": {},
   "outputs": [
    {
     "name": "stdout",
     "output_type": "stream",
     "text": [
      "p-value: 0.101430948561\n"
     ]
    }
   ],
   "source": [
    "import statsmodels.tsa.stattools as tsa\n",
    "\n",
    "_, pvalue, *_ = tsa.adfuller(df['CPI'])\n",
    "print(\"p-value: \" + str(pvalue))"
   ]
  },
  {
   "cell_type": "markdown",
   "metadata": {},
   "source": [
    "Kind of reject the unit root hypothesis => stationary"
   ]
  },
  {
   "cell_type": "code",
   "execution_count": 21,
   "metadata": {
    "collapsed": true
   },
   "outputs": [],
   "source": [
    "def splitTimeData(df, ratio):\n",
    "    rows = len(df.index)\n",
    "    trainRows = int(rows * (1 - ratio))\n",
    "    testRows = rows - trainRows\n",
    "    \n",
    "    train = df.iloc[0:trainRows-1]\n",
    "    test = df\n",
    "    start = trainRows\n",
    "    \n",
    "    return train, test, start\n",
    "\n",
    "df_train, df_test, start = splitTimeData(df, 0.18)"
   ]
  },
  {
   "cell_type": "code",
   "execution_count": 29,
   "metadata": {
    "collapsed": true
   },
   "outputs": [],
   "source": [
    "'''\n",
    "standard transformations\n",
    "'''\n",
    "from Transform import Transform as Transform\n",
    "\n",
    "cols = ['CPI', 'FF', 'IP', 'emp', 'unemp']\n",
    "\n",
    "t1 = Transform('log', ['IP', 'emp']) # not FF, nor the unemp\n",
    "\n",
    "o = {\n",
    "    'diffs': {\n",
    "        'unemp': 0,\n",
    "        'IP': 1,\n",
    "        'emp': 1,\n",
    "        'FF': 1\n",
    "    }\n",
    "}\n",
    "\n",
    "\n",
    "t2 = Transform('diff', cols, o)\n",
    "t3 = Transform('standardize', cols)\n",
    "# t3 = Transform('normalize', cols)\n",
    "\n",
    "transfs =  [t1, t2, t3]"
   ]
  },
  {
   "cell_type": "code",
   "execution_count": 24,
   "metadata": {
    "collapsed": true
   },
   "outputs": [],
   "source": [
    "'''\n",
    "standard scorefuns\n",
    "'''\n",
    "\n",
    "def RMSE(y_hat, y):\n",
    "    start = y_hat.first_valid_index()\n",
    "    errors = y.loc[start:] - y_hat\n",
    "    RMSE = np.sqrt(np.mean(np.square(errors)))[0]\n",
    "    return RMSE\n",
    "\n",
    "def MAE(y_hat, y):\n",
    "    start = y_hat.first_valid_index()\n",
    "    errors = y.loc[start:] - y_hat\n",
    "    MAE = np.mean(np.absolute(errors))[0]\n",
    "    return MAE"
   ]
  },
  {
   "cell_type": "code",
   "execution_count": 26,
   "metadata": {},
   "outputs": [
    {
     "data": {
      "text/plain": [
       "549"
      ]
     },
     "execution_count": 26,
     "metadata": {},
     "output_type": "execute_result"
    }
   ],
   "source": [
    "TEST_OFFSET = df_train.last_valid_index() + 1\n",
    "TEST_OFFSET"
   ]
  },
  {
   "cell_type": "code",
   "execution_count": 27,
   "metadata": {},
   "outputs": [
    {
     "data": {
      "text/plain": [
       "dict_keys([])"
      ]
     },
     "execution_count": 27,
     "metadata": {},
     "output_type": "execute_result"
    }
   ],
   "source": [
    "try:\n",
    "    with open(\"results.p\", \"rb\" ) as f:\n",
    "        results = pickle.load(f)\n",
    "except:\n",
    "    results = {}\n",
    "results.keys()"
   ]
  },
  {
   "cell_type": "markdown",
   "metadata": {},
   "source": [
    "# Baseline"
   ]
  },
  {
   "cell_type": "code",
   "execution_count": 30,
   "metadata": {},
   "outputs": [
    {
     "name": "stdout",
     "output_type": "stream",
     "text": [
      "step: 550\n",
      "step: 560\n",
      "step: 570\n",
      "step: 580\n",
      "step: 590\n",
      "step: 600\n",
      "step: 610\n",
      "step: 620\n",
      "step: 630\n",
      "step: 640\n",
      "step: 650\n",
      "step: 660\n",
      "step: 670\n",
      "step: 550\n",
      "step: 560\n",
      "step: 570\n",
      "step: 580\n",
      "step: 590\n",
      "step: 600\n",
      "step: 610\n",
      "step: 620\n",
      "step: 630\n",
      "step: 640\n",
      "step: 650\n",
      "step: 660\n",
      "step: 670\n",
      "step: 550\n",
      "step: 560\n",
      "step: 570\n",
      "step: 580\n",
      "step: 590\n",
      "step: 600\n",
      "step: 610\n",
      "step: 620\n",
      "step: 630\n",
      "step: 640\n",
      "step: 650\n",
      "step: 660\n",
      "step: 670\n"
     ]
    },
    {
     "data": {
      "text/plain": [
       "[0.0036895237436290577, 0.0050825064265630207, 0.0054766794523921037]"
      ]
     },
     "execution_count": 30,
     "metadata": {},
     "output_type": "execute_result"
    }
   ],
   "source": [
    "from LastPeriod import LastPeriod as LastPeriod\n",
    "\n",
    "# test\n",
    "cols = ['CPI']\n",
    "y_col = ['CPI']\n",
    "\n",
    "X_train, y_train = df_train[cols], df_train[y_col]\n",
    "X_test, y_test = df_test[cols], df_test[y_col]\n",
    "\n",
    "lags = 1\n",
    "\n",
    "def gen_x(X, start):\n",
    "    X = LastPeriod.gen_X(X, start)\n",
    "    return X\n",
    "\n",
    "def gen_y(y, start):\n",
    "    y = LastPeriod.gen_y(y, start)\n",
    "    return y\n",
    "\n",
    "model = LastPeriod()\n",
    "\n",
    "m = Model(model, transfs, gen_x, gen_y, RMSE)\n",
    "\n",
    "window =  [1, 4, 12]\n",
    "ret_base = m.expanding_window(X_test, y_test, TEST_OFFSET, window, 'direct')\n",
    "results['BASE'] = ret_base\n",
    "\n",
    "[ret_base[h][0] for h in window]"
   ]
  },
  {
   "cell_type": "markdown",
   "metadata": {},
   "source": [
    "# Univariate"
   ]
  },
  {
   "cell_type": "markdown",
   "metadata": {},
   "source": [
    "## AR"
   ]
  },
  {
   "cell_type": "code",
   "execution_count": 39,
   "metadata": {},
   "outputs": [
    {
     "name": "stdout",
     "output_type": "stream",
     "text": [
      "step: 540\n",
      "step: 545\n",
      "step: 550\n",
      "step: 555\n",
      "step: 560\n",
      "step: 565\n",
      "step: 570\n",
      "step: 575\n",
      "step: 580\n",
      "step: 585\n",
      "step: 590\n",
      "step: 595\n",
      "step: 600\n",
      "step: 605\n",
      "step: 610\n",
      "step: 615\n",
      "step: 620\n",
      "step: 625\n",
      "step: 630\n",
      "step: 635\n",
      "step: 640\n",
      "step: 645\n",
      "step: 650\n",
      "step: 655\n",
      "step: 660\n",
      "step: 665\n",
      "step: 670\n"
     ]
    },
    {
     "data": {
      "text/plain": [
       "[0.0033901453821205121, 0.0040276797506789679, 0.0037687363709764761]"
      ]
     },
     "execution_count": 39,
     "metadata": {},
     "output_type": "execute_result"
    }
   ],
   "source": [
    "from var_model import VAR as VAR\n",
    "\n",
    "cols = ['CPI']\n",
    "y_col = ['CPI']\n",
    "\n",
    "X_train, y_train = df_train[cols], df_train[y_col]\n",
    "X_test, y_test = df_test[cols], df_test[y_col]\n",
    "\n",
    "lags = 13\n",
    "\n",
    "\n",
    "def gen_x(X, start):\n",
    "    X = VAR.gen_X(X, lags, start)\n",
    "#     X = X[:, 1:] # remove constant\n",
    "    return X\n",
    "\n",
    "def gen_y(y, start):\n",
    "    y = VAR.gen_y(y, lags, start)\n",
    "    return y\n",
    "\n",
    "model = VAR()\n",
    "\n",
    "m = Model(model, transfs, gen_x, gen_y, RMSE)\n",
    "\n",
    "window = [1, 4, 12]\n",
    "ret_AR = m.expanding_window(X_test, y_test, TEST_OFFSET, window, 'dynamic')\n",
    "results['AR'] = ret_AR\n",
    "[ret_AR[h][0] for h in window]"
   ]
  },
  {
   "cell_type": "markdown",
   "metadata": {},
   "source": [
    "## MA"
   ]
  },
  {
   "cell_type": "code",
   "execution_count": 40,
   "metadata": {},
   "outputs": [
    {
     "name": "stdout",
     "output_type": "stream",
     "text": [
      "step: 540\n",
      "step: 545\n",
      "step: 550\n",
      "step: 555\n",
      "step: 560\n",
      "step: 565\n",
      "step: 570\n",
      "step: 575\n",
      "step: 580\n",
      "step: 585\n",
      "step: 590\n",
      "step: 595\n",
      "step: 600\n",
      "step: 605\n",
      "step: 610\n",
      "step: 615\n",
      "step: 620\n",
      "step: 625\n",
      "step: 630\n",
      "step: 635\n",
      "step: 640\n",
      "step: 645\n",
      "step: 650\n",
      "step: 655\n",
      "step: 660\n",
      "step: 665\n",
      "step: 670\n"
     ]
    },
    {
     "data": {
      "text/plain": [
       "[0.0034222992759186501, 0.0038188570946556828, 0.0038245968340473689]"
      ]
     },
     "execution_count": 40,
     "metadata": {},
     "output_type": "execute_result"
    }
   ],
   "source": [
    "from ARMA import ARMA as ARMA\n",
    "from var_model import VAR as VAR\n",
    "\n",
    "# test\n",
    "cols = ['CPI']\n",
    "y_col = ['CPI']\n",
    "\n",
    "X_train, y_train = df_train[cols], df_train[y_col]\n",
    "X_test, y_test = df_test[cols], df_test[y_col]\n",
    "\n",
    "\n",
    "lags = 1\n",
    "\n",
    "def gen_x(X, start):\n",
    "    X = VAR.gen_X(X, lags, start)\n",
    "    X = X[:, 1:] # remove constant\n",
    "    return X\n",
    "\n",
    "def gen_y(y, start):\n",
    "    y = VAR.gen_y(y, lags, start)\n",
    "    return y\n",
    "\n",
    "model = ARMA(0, 8)\n",
    "\n",
    "\n",
    "m = Model(model, transfs, gen_x, gen_y, RMSE)\n",
    "\n",
    "window =  [1, 4, 12]\n",
    "ret_MA = m.expanding_window(X_test, y_test, TEST_OFFSET, window, 'dynamic-ar')\n",
    "results['MA'] = ret_MA\n",
    "[ret_MA[h][0] for h in window]"
   ]
  },
  {
   "cell_type": "markdown",
   "metadata": {},
   "source": [
    "## ARMA"
   ]
  },
  {
   "cell_type": "code",
   "execution_count": 35,
   "metadata": {},
   "outputs": [
    {
     "name": "stdout",
     "output_type": "stream",
     "text": [
      "step: 540\n",
      "step: 545\n",
      "step: 550\n",
      "step: 555\n",
      "step: 560\n",
      "step: 565\n",
      "step: 570\n",
      "step: 575\n",
      "step: 580\n",
      "step: 585\n",
      "step: 590\n",
      "step: 595\n",
      "step: 600\n",
      "step: 605\n",
      "step: 610\n",
      "step: 615\n",
      "step: 620\n",
      "step: 625\n",
      "step: 630\n",
      "step: 635\n",
      "step: 640\n",
      "step: 645\n",
      "step: 650\n",
      "step: 655\n",
      "step: 660\n",
      "step: 665\n",
      "step: 670\n"
     ]
    },
    {
     "data": {
      "text/plain": [
       "[0.0033515275591373714, 0.0038422510994586558, 0.0037713821117202387]"
      ]
     },
     "execution_count": 35,
     "metadata": {},
     "output_type": "execute_result"
    }
   ],
   "source": [
    "from ARMA import ARMA as ARMA\n",
    "from var_model import VAR as VAR\n",
    "\n",
    "# test\n",
    "cols = ['CPI']\n",
    "y_col = ['CPI']\n",
    "\n",
    "X_train, y_train = df_train[cols], df_train[y_col]\n",
    "X_test, y_test = df_test[cols], df_test[y_col]\n",
    "\n",
    "\n",
    "lags = 1\n",
    "\n",
    "def gen_x(X, start):\n",
    "    X = VAR.gen_X(X, lags, start)\n",
    "    X = X[:, 1:] # remove constant\n",
    "    return X\n",
    "\n",
    "def gen_y(y, start):\n",
    "    y = VAR.gen_y(y, lags, start)\n",
    "    return y\n",
    "\n",
    "model = ARMA(4, 1)\n",
    "\n",
    "\n",
    "m = Model(model, transfs, gen_x, gen_y, RMSE)\n",
    "\n",
    "window =  [1, 4, 12]\n",
    "ret_ARMA = m.expanding_window(X_test, y_test, TEST_OFFSET, window, 'dynamic-ar')\n",
    "results['ARMA'] = ret_ARMA\n",
    "[ret_ARMA[h][0] for h in window]"
   ]
  },
  {
   "cell_type": "markdown",
   "metadata": {},
   "source": [
    "## MSAR"
   ]
  },
  {
   "cell_type": "code",
   "execution_count": 41,
   "metadata": {},
   "outputs": [
    {
     "name": "stdout",
     "output_type": "stream",
     "text": [
      "step: 540\n",
      "step: 545\n",
      "step: 550\n",
      "step: 555\n",
      "step: 560\n",
      "step: 565\n",
      "step: 570\n",
      "step: 575\n",
      "step: 580\n",
      "step: 585\n",
      "step: 590\n",
      "step: 595\n",
      "step: 600\n",
      "step: 605\n",
      "step: 610\n",
      "step: 615\n",
      "step: 620\n",
      "step: 625\n",
      "step: 630\n",
      "step: 635\n",
      "step: 640\n",
      "step: 645\n",
      "step: 650\n",
      "step: 655\n",
      "step: 660\n",
      "step: 665\n",
      "step: 670\n"
     ]
    },
    {
     "data": {
      "text/plain": [
       "[0.0034262320807235914, 0.004117571819408682, 0.0040428343892890718]"
      ]
     },
     "execution_count": 41,
     "metadata": {},
     "output_type": "execute_result"
    }
   ],
   "source": [
    "from MSReg import MSReg\n",
    "\n",
    "cols = ['CPI']\n",
    "y_col = ['CPI']\n",
    "\n",
    "X_train, y_train = df_train[cols], df_train[y_col]\n",
    "X_test, y_test = df_test[cols], df_test[y_col]\n",
    "\n",
    "lags = 4\n",
    "\n",
    "def gen_x(X, start):\n",
    "    X = VAR.gen_X(X, lags, start)\n",
    "#     X = X[:, 1:] # remove constant\n",
    "    return X\n",
    "\n",
    "def gen_y(y, start):\n",
    "    y = VAR.gen_y(y, lags, start)\n",
    "    return y\n",
    "\n",
    "model = MSReg(2)\n",
    "\n",
    "m = Model(model, transfs, gen_x, gen_y, RMSE)\n",
    "\n",
    "\n",
    "window = [1, 4, 12]\n",
    "ret_MSAR = m.expanding_window(X_test, y_test, TEST_OFFSET, window, 'dynamic-ar')\n",
    "results['MSAR'] = ret_MSAR\n",
    "[ret_MSAR[h][0] for h in window]"
   ]
  },
  {
   "cell_type": "markdown",
   "metadata": {},
   "source": [
    "## SPLITAR"
   ]
  },
  {
   "cell_type": "code",
   "execution_count": 137,
   "metadata": {},
   "outputs": [
    {
     "name": "stdout",
     "output_type": "stream",
     "text": [
      "step: 540\n",
      "step: 545\n",
      "step: 550\n",
      "step: 555\n",
      "step: 560\n",
      "step: 565\n",
      "step: 570\n",
      "step: 575\n",
      "step: 580\n",
      "step: 585\n",
      "step: 590\n",
      "step: 595\n",
      "step: 600\n",
      "step: 605\n",
      "step: 610\n",
      "step: 615\n",
      "step: 620\n",
      "step: 625\n",
      "step: 630\n",
      "step: 635\n",
      "step: 640\n",
      "step: 645\n",
      "step: 650\n",
      "step: 655\n",
      "step: 660\n",
      "step: 665\n",
      "step: 670\n"
     ]
    },
    {
     "data": {
      "text/plain": [
       "[0.0034198860038889829, 0.0039000259335836948, 0.0038068463393662751]"
      ]
     },
     "execution_count": 137,
     "metadata": {},
     "output_type": "execute_result"
    }
   ],
   "source": [
    "from splitVAR import splitVAR as splitVAR\n",
    "\n",
    "cols = ['CPI']\n",
    "y_col = ['CPI']\n",
    "\n",
    "X_train, y_train = df_train[cols], df_train[y_col]\n",
    "X_test, y_test = df_test[cols], df_test[y_col]\n",
    "\n",
    "lags = 4\n",
    "\n",
    "\n",
    "def gen_x(X, start):\n",
    "    X = VAR.gen_X(X, lags, start)\n",
    "#     X = X[:, 1:] # remove constant\n",
    "    return X\n",
    "\n",
    "def gen_y(y, start):\n",
    "    y = VAR.gen_y(y, lags, start)\n",
    "    return y\n",
    "\n",
    "model = splitVAR(2, proba = True, WLS = True, lags = lags, variables = cols, pred_vars = cols, reg_vars = cols)\n",
    "\n",
    "\n",
    "m = Model(model, transfs, gen_x, gen_y, RMSE)\n",
    "\n",
    "window = [1, 4, 12]\n",
    "ret_splitAR = m.expanding_window(X_test, y_test, TEST_OFFSET, window, 'dynamic')\n",
    "results['SPLITAR'] = ret_splitAR\n",
    "[ret_splitAR[h][0] for h in window]"
   ]
  },
  {
   "cell_type": "markdown",
   "metadata": {},
   "source": [
    "## MLPAR"
   ]
  },
  {
   "cell_type": "code",
   "execution_count": null,
   "metadata": {
    "collapsed": true,
    "scrolled": true
   },
   "outputs": [],
   "source": [
    "from MLP import MLP\n",
    "\n",
    "cols = ['CPI']\n",
    "y_col = ['CPI']\n",
    "\n",
    "X_train, y_train = df_train[cols], df_train[y_col]\n",
    "X_test, y_test = df_test[cols], df_test[y_col]\n",
    "\n",
    "lags = 13\n",
    "\n",
    "\n",
    "def gen_x(X, start):\n",
    "    X = VAR.gen_X(X, lags, start)\n",
    "#     X = X[:, 1:] # remove constant\n",
    "    return X\n",
    "\n",
    "def gen_y(y, start):\n",
    "    y = VAR.gen_y(y, lags, start)\n",
    "    return y\n",
    "\n",
    "model = MLP((4,), training_epochs = 5000, beta=0.5, debug = False)\n",
    "\n",
    "m = Model(model, transfs, gen_x, gen_y, RMSE)\n",
    "\n",
    "window = [1, 4, 12]\n",
    "ret_MLPAR = m.expanding_window(X_test, y_test, TEST_OFFSET, window, 'dynamic')\n",
    "results['MLPAR'] = ret_MLPAR\n",
    "[ret_MLPAR[h][0] for h in window]"
   ]
  },
  {
   "cell_type": "code",
   "execution_count": 62,
   "metadata": {},
   "outputs": [
    {
     "data": {
      "text/plain": [
       "[0.0032664101421922354, 0.0039481231790977596, 0.0037361716878747376]"
      ]
     },
     "execution_count": 62,
     "metadata": {},
     "output_type": "execute_result"
    }
   ],
   "source": [
    "# get it from the file\n",
    "with open(\"MLPAR.p\", \"rb\" ) as f:\n",
    "    ret_MLPAR = pickle.load(f)\n",
    "    results['MLPAR'] = ret_MLPAR\n",
    "[ret_MLPAR[h][0] for h in window]"
   ]
  },
  {
   "cell_type": "markdown",
   "metadata": {},
   "source": [
    "# Multivariate"
   ]
  },
  {
   "cell_type": "markdown",
   "metadata": {},
   "source": [
    "## VAR"
   ]
  },
  {
   "cell_type": "code",
   "execution_count": 47,
   "metadata": {
    "scrolled": false
   },
   "outputs": [
    {
     "name": "stdout",
     "output_type": "stream",
     "text": [
      "step: 540\n",
      "step: 545\n",
      "step: 550\n",
      "step: 555\n",
      "step: 560\n",
      "step: 565\n",
      "step: 570\n",
      "step: 575\n",
      "step: 580\n",
      "step: 585\n",
      "step: 590\n",
      "step: 595\n",
      "step: 600\n",
      "step: 605\n",
      "step: 610\n",
      "step: 615\n",
      "step: 620\n",
      "step: 625\n",
      "step: 630\n",
      "step: 635\n",
      "step: 640\n",
      "step: 645\n",
      "step: 650\n",
      "step: 655\n",
      "step: 660\n",
      "step: 665\n",
      "step: 670\n"
     ]
    },
    {
     "data": {
      "text/plain": [
       "[0.0034182109242037813, 0.0040359319518390169, 0.0039104013996406825]"
      ]
     },
     "execution_count": 47,
     "metadata": {},
     "output_type": "execute_result"
    }
   ],
   "source": [
    "from var_model import VAR as VAR\n",
    "\n",
    "cols = ['CPI', 'unemp']\n",
    "y_col = ['CPI']\n",
    "\n",
    "X_train, y_train = df_train[cols], df_train[y_col]\n",
    "X_test, y_test = df_test[cols], df_test[y_col]\n",
    "\n",
    "lags = 4\n",
    "\n",
    "\n",
    "def gen_x(X, start):\n",
    "    X = VAR.gen_X(X, lags, start)\n",
    "#     X = X[:, 1:] # remove constant\n",
    "    return X\n",
    "\n",
    "def gen_y(y, start):\n",
    "    y = VAR.gen_y(y, lags, start)\n",
    "    return y\n",
    "\n",
    "model = VAR()\n",
    "\n",
    "m = Model(model, transfs, gen_x, gen_y, RMSE)\n",
    "\n",
    "window = [1, 4, 12]\n",
    "ret_VAR = m.expanding_window(X_test, y_test, TEST_OFFSET, window, 'dynamic')\n",
    "results['VAR'] = ret_VAR\n",
    "[ret_VAR[h][0] for h in window]"
   ]
  },
  {
   "cell_type": "markdown",
   "metadata": {},
   "source": [
    "## MSVAR"
   ]
  },
  {
   "cell_type": "code",
   "execution_count": 78,
   "metadata": {},
   "outputs": [
    {
     "name": "stderr",
     "output_type": "stream",
     "text": [
      "/usr/local/lib/python3.6/site-packages/statsmodels/tsa/regime_switching/markov_switching.py:391: RuntimeWarning: invalid value encountered in true_divide\n",
      "  predicted_joint_probabilities[..., t+1])\n"
     ]
    },
    {
     "name": "stdout",
     "output_type": "stream",
     "text": [
      "step: 540\n",
      "step: 545\n",
      "step: 550\n",
      "step: 555\n",
      "step: 560\n"
     ]
    },
    {
     "name": "stderr",
     "output_type": "stream",
     "text": [
      "/usr/local/lib/python3.6/site-packages/statsmodels/base/model.py:496: ConvergenceWarning: Maximum Likelihood optimization failed to converge. Check mle_retvals\n",
      "  \"Check mle_retvals\", ConvergenceWarning)\n",
      "/usr/local/lib/python3.6/site-packages/statsmodels/base/model.py:496: ConvergenceWarning: Maximum Likelihood optimization failed to converge. Check mle_retvals\n",
      "  \"Check mle_retvals\", ConvergenceWarning)\n",
      "/usr/local/lib/python3.6/site-packages/statsmodels/base/model.py:496: ConvergenceWarning: Maximum Likelihood optimization failed to converge. Check mle_retvals\n",
      "  \"Check mle_retvals\", ConvergenceWarning)\n",
      "/usr/local/lib/python3.6/site-packages/statsmodels/base/model.py:496: ConvergenceWarning: Maximum Likelihood optimization failed to converge. Check mle_retvals\n",
      "  \"Check mle_retvals\", ConvergenceWarning)\n",
      "/usr/local/lib/python3.6/site-packages/statsmodels/base/model.py:496: ConvergenceWarning: Maximum Likelihood optimization failed to converge. Check mle_retvals\n",
      "  \"Check mle_retvals\", ConvergenceWarning)\n"
     ]
    },
    {
     "name": "stdout",
     "output_type": "stream",
     "text": [
      "step: 565\n",
      "step: 570\n",
      "step: 575\n",
      "step: 580\n",
      "step: 585\n",
      "step: 590\n",
      "step: 595\n"
     ]
    },
    {
     "name": "stderr",
     "output_type": "stream",
     "text": [
      "/usr/local/lib/python3.6/site-packages/statsmodels/base/model.py:496: ConvergenceWarning: Maximum Likelihood optimization failed to converge. Check mle_retvals\n",
      "  \"Check mle_retvals\", ConvergenceWarning)\n",
      "/usr/local/lib/python3.6/site-packages/statsmodels/base/model.py:496: ConvergenceWarning: Maximum Likelihood optimization failed to converge. Check mle_retvals\n",
      "  \"Check mle_retvals\", ConvergenceWarning)\n"
     ]
    },
    {
     "name": "stdout",
     "output_type": "stream",
     "text": [
      "step: 600\n"
     ]
    },
    {
     "name": "stderr",
     "output_type": "stream",
     "text": [
      "/usr/local/lib/python3.6/site-packages/statsmodels/base/model.py:496: ConvergenceWarning: Maximum Likelihood optimization failed to converge. Check mle_retvals\n",
      "  \"Check mle_retvals\", ConvergenceWarning)\n",
      "/usr/local/lib/python3.6/site-packages/statsmodels/base/model.py:496: ConvergenceWarning: Maximum Likelihood optimization failed to converge. Check mle_retvals\n",
      "  \"Check mle_retvals\", ConvergenceWarning)\n",
      "/usr/local/lib/python3.6/site-packages/statsmodels/base/model.py:496: ConvergenceWarning: Maximum Likelihood optimization failed to converge. Check mle_retvals\n",
      "  \"Check mle_retvals\", ConvergenceWarning)\n",
      "/usr/local/lib/python3.6/site-packages/statsmodels/base/model.py:496: ConvergenceWarning: Maximum Likelihood optimization failed to converge. Check mle_retvals\n",
      "  \"Check mle_retvals\", ConvergenceWarning)\n",
      "/usr/local/lib/python3.6/site-packages/statsmodels/base/model.py:496: ConvergenceWarning: Maximum Likelihood optimization failed to converge. Check mle_retvals\n",
      "  \"Check mle_retvals\", ConvergenceWarning)\n"
     ]
    },
    {
     "name": "stdout",
     "output_type": "stream",
     "text": [
      "step: 605\n"
     ]
    },
    {
     "name": "stderr",
     "output_type": "stream",
     "text": [
      "/usr/local/lib/python3.6/site-packages/statsmodels/base/model.py:496: ConvergenceWarning: Maximum Likelihood optimization failed to converge. Check mle_retvals\n",
      "  \"Check mle_retvals\", ConvergenceWarning)\n",
      "/usr/local/lib/python3.6/site-packages/statsmodels/base/model.py:496: ConvergenceWarning: Maximum Likelihood optimization failed to converge. Check mle_retvals\n",
      "  \"Check mle_retvals\", ConvergenceWarning)\n",
      "/usr/local/lib/python3.6/site-packages/statsmodels/base/model.py:496: ConvergenceWarning: Maximum Likelihood optimization failed to converge. Check mle_retvals\n",
      "  \"Check mle_retvals\", ConvergenceWarning)\n",
      "/usr/local/lib/python3.6/site-packages/statsmodels/base/model.py:496: ConvergenceWarning: Maximum Likelihood optimization failed to converge. Check mle_retvals\n",
      "  \"Check mle_retvals\", ConvergenceWarning)\n",
      "/usr/local/lib/python3.6/site-packages/statsmodels/base/model.py:496: ConvergenceWarning: Maximum Likelihood optimization failed to converge. Check mle_retvals\n",
      "  \"Check mle_retvals\", ConvergenceWarning)\n"
     ]
    },
    {
     "name": "stdout",
     "output_type": "stream",
     "text": [
      "step: 610\n"
     ]
    },
    {
     "name": "stderr",
     "output_type": "stream",
     "text": [
      "/usr/local/lib/python3.6/site-packages/statsmodels/base/model.py:496: ConvergenceWarning: Maximum Likelihood optimization failed to converge. Check mle_retvals\n",
      "  \"Check mle_retvals\", ConvergenceWarning)\n",
      "/usr/local/lib/python3.6/site-packages/statsmodels/base/model.py:496: ConvergenceWarning: Maximum Likelihood optimization failed to converge. Check mle_retvals\n",
      "  \"Check mle_retvals\", ConvergenceWarning)\n",
      "/usr/local/lib/python3.6/site-packages/statsmodels/base/model.py:496: ConvergenceWarning: Maximum Likelihood optimization failed to converge. Check mle_retvals\n",
      "  \"Check mle_retvals\", ConvergenceWarning)\n",
      "/usr/local/lib/python3.6/site-packages/statsmodels/base/model.py:496: ConvergenceWarning: Maximum Likelihood optimization failed to converge. Check mle_retvals\n",
      "  \"Check mle_retvals\", ConvergenceWarning)\n",
      "/usr/local/lib/python3.6/site-packages/statsmodels/base/model.py:496: ConvergenceWarning: Maximum Likelihood optimization failed to converge. Check mle_retvals\n",
      "  \"Check mle_retvals\", ConvergenceWarning)\n"
     ]
    },
    {
     "name": "stdout",
     "output_type": "stream",
     "text": [
      "step: 615\n"
     ]
    },
    {
     "name": "stderr",
     "output_type": "stream",
     "text": [
      "/usr/local/lib/python3.6/site-packages/statsmodels/base/model.py:496: ConvergenceWarning: Maximum Likelihood optimization failed to converge. Check mle_retvals\n",
      "  \"Check mle_retvals\", ConvergenceWarning)\n",
      "/usr/local/lib/python3.6/site-packages/statsmodels/base/model.py:496: ConvergenceWarning: Maximum Likelihood optimization failed to converge. Check mle_retvals\n",
      "  \"Check mle_retvals\", ConvergenceWarning)\n",
      "/usr/local/lib/python3.6/site-packages/statsmodels/base/model.py:496: ConvergenceWarning: Maximum Likelihood optimization failed to converge. Check mle_retvals\n",
      "  \"Check mle_retvals\", ConvergenceWarning)\n",
      "/usr/local/lib/python3.6/site-packages/statsmodels/base/model.py:496: ConvergenceWarning: Maximum Likelihood optimization failed to converge. Check mle_retvals\n",
      "  \"Check mle_retvals\", ConvergenceWarning)\n",
      "/usr/local/lib/python3.6/site-packages/statsmodels/base/model.py:496: ConvergenceWarning: Maximum Likelihood optimization failed to converge. Check mle_retvals\n",
      "  \"Check mle_retvals\", ConvergenceWarning)\n"
     ]
    },
    {
     "name": "stdout",
     "output_type": "stream",
     "text": [
      "step: 620\n"
     ]
    },
    {
     "name": "stderr",
     "output_type": "stream",
     "text": [
      "/usr/local/lib/python3.6/site-packages/statsmodels/base/model.py:496: ConvergenceWarning: Maximum Likelihood optimization failed to converge. Check mle_retvals\n",
      "  \"Check mle_retvals\", ConvergenceWarning)\n",
      "/usr/local/lib/python3.6/site-packages/statsmodels/base/model.py:496: ConvergenceWarning: Maximum Likelihood optimization failed to converge. Check mle_retvals\n",
      "  \"Check mle_retvals\", ConvergenceWarning)\n",
      "/usr/local/lib/python3.6/site-packages/statsmodels/base/model.py:496: ConvergenceWarning: Maximum Likelihood optimization failed to converge. Check mle_retvals\n",
      "  \"Check mle_retvals\", ConvergenceWarning)\n",
      "/usr/local/lib/python3.6/site-packages/statsmodels/base/model.py:496: ConvergenceWarning: Maximum Likelihood optimization failed to converge. Check mle_retvals\n",
      "  \"Check mle_retvals\", ConvergenceWarning)\n",
      "/usr/local/lib/python3.6/site-packages/statsmodels/base/model.py:496: ConvergenceWarning: Maximum Likelihood optimization failed to converge. Check mle_retvals\n",
      "  \"Check mle_retvals\", ConvergenceWarning)\n"
     ]
    },
    {
     "name": "stdout",
     "output_type": "stream",
     "text": [
      "step: 625\n"
     ]
    },
    {
     "name": "stderr",
     "output_type": "stream",
     "text": [
      "/usr/local/lib/python3.6/site-packages/statsmodels/base/model.py:496: ConvergenceWarning: Maximum Likelihood optimization failed to converge. Check mle_retvals\n",
      "  \"Check mle_retvals\", ConvergenceWarning)\n",
      "/usr/local/lib/python3.6/site-packages/statsmodels/base/model.py:496: ConvergenceWarning: Maximum Likelihood optimization failed to converge. Check mle_retvals\n",
      "  \"Check mle_retvals\", ConvergenceWarning)\n",
      "/usr/local/lib/python3.6/site-packages/statsmodels/base/model.py:496: ConvergenceWarning: Maximum Likelihood optimization failed to converge. Check mle_retvals\n",
      "  \"Check mle_retvals\", ConvergenceWarning)\n",
      "/usr/local/lib/python3.6/site-packages/statsmodels/base/model.py:496: ConvergenceWarning: Maximum Likelihood optimization failed to converge. Check mle_retvals\n",
      "  \"Check mle_retvals\", ConvergenceWarning)\n",
      "/usr/local/lib/python3.6/site-packages/statsmodels/base/model.py:496: ConvergenceWarning: Maximum Likelihood optimization failed to converge. Check mle_retvals\n",
      "  \"Check mle_retvals\", ConvergenceWarning)\n"
     ]
    },
    {
     "name": "stdout",
     "output_type": "stream",
     "text": [
      "step: 630\n"
     ]
    },
    {
     "name": "stderr",
     "output_type": "stream",
     "text": [
      "/usr/local/lib/python3.6/site-packages/statsmodels/base/model.py:496: ConvergenceWarning: Maximum Likelihood optimization failed to converge. Check mle_retvals\n",
      "  \"Check mle_retvals\", ConvergenceWarning)\n",
      "/usr/local/lib/python3.6/site-packages/statsmodels/base/model.py:496: ConvergenceWarning: Maximum Likelihood optimization failed to converge. Check mle_retvals\n",
      "  \"Check mle_retvals\", ConvergenceWarning)\n",
      "/usr/local/lib/python3.6/site-packages/statsmodels/base/model.py:496: ConvergenceWarning: Maximum Likelihood optimization failed to converge. Check mle_retvals\n",
      "  \"Check mle_retvals\", ConvergenceWarning)\n",
      "/usr/local/lib/python3.6/site-packages/statsmodels/base/model.py:496: ConvergenceWarning: Maximum Likelihood optimization failed to converge. Check mle_retvals\n",
      "  \"Check mle_retvals\", ConvergenceWarning)\n",
      "/usr/local/lib/python3.6/site-packages/statsmodels/base/model.py:496: ConvergenceWarning: Maximum Likelihood optimization failed to converge. Check mle_retvals\n",
      "  \"Check mle_retvals\", ConvergenceWarning)\n"
     ]
    },
    {
     "name": "stdout",
     "output_type": "stream",
     "text": [
      "step: 635\n"
     ]
    },
    {
     "name": "stderr",
     "output_type": "stream",
     "text": [
      "/usr/local/lib/python3.6/site-packages/statsmodels/base/model.py:496: ConvergenceWarning: Maximum Likelihood optimization failed to converge. Check mle_retvals\n",
      "  \"Check mle_retvals\", ConvergenceWarning)\n",
      "/usr/local/lib/python3.6/site-packages/statsmodels/base/model.py:496: ConvergenceWarning: Maximum Likelihood optimization failed to converge. Check mle_retvals\n",
      "  \"Check mle_retvals\", ConvergenceWarning)\n",
      "/usr/local/lib/python3.6/site-packages/statsmodels/base/model.py:496: ConvergenceWarning: Maximum Likelihood optimization failed to converge. Check mle_retvals\n",
      "  \"Check mle_retvals\", ConvergenceWarning)\n",
      "/usr/local/lib/python3.6/site-packages/statsmodels/base/model.py:496: ConvergenceWarning: Maximum Likelihood optimization failed to converge. Check mle_retvals\n",
      "  \"Check mle_retvals\", ConvergenceWarning)\n",
      "/usr/local/lib/python3.6/site-packages/statsmodels/base/model.py:496: ConvergenceWarning: Maximum Likelihood optimization failed to converge. Check mle_retvals\n",
      "  \"Check mle_retvals\", ConvergenceWarning)\n"
     ]
    },
    {
     "name": "stdout",
     "output_type": "stream",
     "text": [
      "step: 640\n"
     ]
    },
    {
     "name": "stderr",
     "output_type": "stream",
     "text": [
      "/usr/local/lib/python3.6/site-packages/statsmodels/base/model.py:496: ConvergenceWarning: Maximum Likelihood optimization failed to converge. Check mle_retvals\n",
      "  \"Check mle_retvals\", ConvergenceWarning)\n",
      "/usr/local/lib/python3.6/site-packages/statsmodels/base/model.py:496: ConvergenceWarning: Maximum Likelihood optimization failed to converge. Check mle_retvals\n",
      "  \"Check mle_retvals\", ConvergenceWarning)\n",
      "/usr/local/lib/python3.6/site-packages/statsmodels/base/model.py:496: ConvergenceWarning: Maximum Likelihood optimization failed to converge. Check mle_retvals\n",
      "  \"Check mle_retvals\", ConvergenceWarning)\n",
      "/usr/local/lib/python3.6/site-packages/statsmodels/base/model.py:496: ConvergenceWarning: Maximum Likelihood optimization failed to converge. Check mle_retvals\n",
      "  \"Check mle_retvals\", ConvergenceWarning)\n",
      "/usr/local/lib/python3.6/site-packages/statsmodels/base/model.py:496: ConvergenceWarning: Maximum Likelihood optimization failed to converge. Check mle_retvals\n",
      "  \"Check mle_retvals\", ConvergenceWarning)\n"
     ]
    },
    {
     "name": "stdout",
     "output_type": "stream",
     "text": [
      "step: 645\n"
     ]
    },
    {
     "name": "stderr",
     "output_type": "stream",
     "text": [
      "/usr/local/lib/python3.6/site-packages/statsmodels/base/model.py:496: ConvergenceWarning: Maximum Likelihood optimization failed to converge. Check mle_retvals\n",
      "  \"Check mle_retvals\", ConvergenceWarning)\n",
      "/usr/local/lib/python3.6/site-packages/statsmodels/base/model.py:496: ConvergenceWarning: Maximum Likelihood optimization failed to converge. Check mle_retvals\n",
      "  \"Check mle_retvals\", ConvergenceWarning)\n",
      "/usr/local/lib/python3.6/site-packages/statsmodels/base/model.py:496: ConvergenceWarning: Maximum Likelihood optimization failed to converge. Check mle_retvals\n",
      "  \"Check mle_retvals\", ConvergenceWarning)\n",
      "/usr/local/lib/python3.6/site-packages/statsmodels/base/model.py:496: ConvergenceWarning: Maximum Likelihood optimization failed to converge. Check mle_retvals\n",
      "  \"Check mle_retvals\", ConvergenceWarning)\n",
      "/usr/local/lib/python3.6/site-packages/statsmodels/base/model.py:496: ConvergenceWarning: Maximum Likelihood optimization failed to converge. Check mle_retvals\n",
      "  \"Check mle_retvals\", ConvergenceWarning)\n"
     ]
    },
    {
     "name": "stdout",
     "output_type": "stream",
     "text": [
      "step: 650\n"
     ]
    },
    {
     "name": "stderr",
     "output_type": "stream",
     "text": [
      "/usr/local/lib/python3.6/site-packages/statsmodels/base/model.py:496: ConvergenceWarning: Maximum Likelihood optimization failed to converge. Check mle_retvals\n",
      "  \"Check mle_retvals\", ConvergenceWarning)\n",
      "/usr/local/lib/python3.6/site-packages/statsmodels/base/model.py:496: ConvergenceWarning: Maximum Likelihood optimization failed to converge. Check mle_retvals\n",
      "  \"Check mle_retvals\", ConvergenceWarning)\n",
      "/usr/local/lib/python3.6/site-packages/statsmodels/base/model.py:496: ConvergenceWarning: Maximum Likelihood optimization failed to converge. Check mle_retvals\n",
      "  \"Check mle_retvals\", ConvergenceWarning)\n",
      "/usr/local/lib/python3.6/site-packages/statsmodels/base/model.py:496: ConvergenceWarning: Maximum Likelihood optimization failed to converge. Check mle_retvals\n",
      "  \"Check mle_retvals\", ConvergenceWarning)\n",
      "/usr/local/lib/python3.6/site-packages/statsmodels/base/model.py:496: ConvergenceWarning: Maximum Likelihood optimization failed to converge. Check mle_retvals\n",
      "  \"Check mle_retvals\", ConvergenceWarning)\n"
     ]
    },
    {
     "name": "stdout",
     "output_type": "stream",
     "text": [
      "step: 655\n"
     ]
    },
    {
     "name": "stderr",
     "output_type": "stream",
     "text": [
      "/usr/local/lib/python3.6/site-packages/statsmodels/base/model.py:496: ConvergenceWarning: Maximum Likelihood optimization failed to converge. Check mle_retvals\n",
      "  \"Check mle_retvals\", ConvergenceWarning)\n",
      "/usr/local/lib/python3.6/site-packages/statsmodels/base/model.py:496: ConvergenceWarning: Maximum Likelihood optimization failed to converge. Check mle_retvals\n",
      "  \"Check mle_retvals\", ConvergenceWarning)\n",
      "/usr/local/lib/python3.6/site-packages/statsmodels/base/model.py:496: ConvergenceWarning: Maximum Likelihood optimization failed to converge. Check mle_retvals\n",
      "  \"Check mle_retvals\", ConvergenceWarning)\n",
      "/usr/local/lib/python3.6/site-packages/statsmodels/base/model.py:496: ConvergenceWarning: Maximum Likelihood optimization failed to converge. Check mle_retvals\n",
      "  \"Check mle_retvals\", ConvergenceWarning)\n",
      "/usr/local/lib/python3.6/site-packages/statsmodels/base/model.py:496: ConvergenceWarning: Maximum Likelihood optimization failed to converge. Check mle_retvals\n",
      "  \"Check mle_retvals\", ConvergenceWarning)\n"
     ]
    },
    {
     "name": "stdout",
     "output_type": "stream",
     "text": [
      "step: 660\n"
     ]
    },
    {
     "name": "stderr",
     "output_type": "stream",
     "text": [
      "/usr/local/lib/python3.6/site-packages/statsmodels/base/model.py:496: ConvergenceWarning: Maximum Likelihood optimization failed to converge. Check mle_retvals\n",
      "  \"Check mle_retvals\", ConvergenceWarning)\n",
      "/usr/local/lib/python3.6/site-packages/statsmodels/base/model.py:496: ConvergenceWarning: Maximum Likelihood optimization failed to converge. Check mle_retvals\n",
      "  \"Check mle_retvals\", ConvergenceWarning)\n"
     ]
    },
    {
     "name": "stdout",
     "output_type": "stream",
     "text": [
      "step: 665\n",
      "step: 670\n"
     ]
    },
    {
     "data": {
      "text/plain": [
       "[0.0034868687770182602, 0.0039660919816378124, 0.0039072271275987069]"
      ]
     },
     "execution_count": 78,
     "metadata": {},
     "output_type": "execute_result"
    }
   ],
   "source": [
    "from var_model import VAR as VAR\n",
    "\n",
    "cols = ['CPI', 'unemp']\n",
    "y_col = ['CPI']\n",
    "\n",
    "X_train, y_train = df_train[cols], df_train[y_col]\n",
    "X_test, y_test = df_test[cols], df_test[y_col]\n",
    "\n",
    "lags = 4\n",
    "\n",
    "\n",
    "def gen_x(X, start):\n",
    "    X = VAR.gen_X(X, lags, start)\n",
    "#     X = X[:, 1:] # remove constant\n",
    "    return X\n",
    "\n",
    "def gen_y(y, start):\n",
    "    y = VAR.gen_y(y, lags, start)\n",
    "    return y\n",
    "\n",
    "model = MSReg(2)\n",
    "\n",
    "m = Model(model, transfs, gen_x, gen_y, RMSE)\n",
    "\n",
    "window = [1, 4, 12]\n",
    "ret_MSVAR = m.expanding_window(X_test, y_test, TEST_OFFSET, window, 'dynamic-ar')\n",
    "results['MSVAR'] = ret_MSVAR\n",
    "[ret_MSVAR[h][0] for h in window]"
   ]
  },
  {
   "cell_type": "markdown",
   "metadata": {},
   "source": [
    "## SPLITVAR"
   ]
  },
  {
   "cell_type": "code",
   "execution_count": 136,
   "metadata": {},
   "outputs": [
    {
     "name": "stdout",
     "output_type": "stream",
     "text": [
      "step: 540\n",
      "step: 545\n",
      "step: 550\n",
      "step: 555\n",
      "step: 560\n",
      "step: 565\n",
      "step: 570\n",
      "step: 575\n",
      "step: 580\n",
      "step: 585\n",
      "step: 590\n",
      "step: 595\n",
      "step: 600\n",
      "step: 605\n",
      "step: 610\n",
      "step: 615\n",
      "step: 620\n",
      "step: 625\n",
      "step: 630\n",
      "step: 635\n",
      "step: 640\n",
      "step: 645\n",
      "step: 650\n",
      "step: 655\n",
      "step: 660\n",
      "step: 665\n",
      "step: 670\n"
     ]
    },
    {
     "data": {
      "text/plain": [
       "[0.0033992424470741475, 0.0039327821341028461, 0.0038585427484197415]"
      ]
     },
     "execution_count": 136,
     "metadata": {},
     "output_type": "execute_result"
    }
   ],
   "source": [
    "from var_model import VAR as VAR\n",
    "\n",
    "cols = ['CPI', 'unemp']\n",
    "y_col = ['CPI']\n",
    "\n",
    "X_train, y_train = df_train[cols], df_train[y_col]\n",
    "X_test, y_test = df_test[cols], df_test[y_col]\n",
    "\n",
    "lags = 4\n",
    "\n",
    "\n",
    "def gen_x(X, start):\n",
    "    X = VAR.gen_X(X, lags, start)\n",
    "#     X = X[:, 1:] # remove constant\n",
    "    return X\n",
    "\n",
    "def gen_y(y, start):\n",
    "    y = VAR.gen_y(y, lags, start)\n",
    "    return y\n",
    "\n",
    "model = splitVAR(2, proba = True, WLS = True, lags = lags, variables = cols, pred_vars = cols, reg_vars = cols)\n",
    "\n",
    "m = Model(model, transfs, gen_x, gen_y, RMSE)\n",
    "\n",
    "window = [1, 4, 12]\n",
    "ret_SPLITVAR = m.expanding_window(X_test, y_test, TEST_OFFSET, window, 'dynamic')\n",
    "results['SPLITVAR'] = ret_SPLITVAR\n",
    "[ret_SPLITVAR[h][0] for h in window]"
   ]
  },
  {
   "cell_type": "markdown",
   "metadata": {},
   "source": [
    "## MLPVAR"
   ]
  },
  {
   "cell_type": "code",
   "execution_count": null,
   "metadata": {
    "collapsed": true
   },
   "outputs": [],
   "source": [
    "from MLP import MLP\n",
    "\n",
    "cols = ['CPI', 'unemp']\n",
    "y_col = ['CPI']\n",
    "\n",
    "X_train, y_train = df_train[cols], df_train[y_col]\n",
    "X_test, y_test = df_test[cols], df_test[y_col]\n",
    "\n",
    "lags = 4\n",
    "\n",
    "\n",
    "def gen_x(X, start):\n",
    "    X = VAR.gen_X(X, lags, start)\n",
    "#     X = X[:, 1:] # remove constant\n",
    "    return X\n",
    "\n",
    "def gen_y(y, start):\n",
    "    y = VAR.gen_y(y, lags, start)\n",
    "    return y\n",
    "\n",
    "model = MLP((4,), training_epochs = 5000, beta=0.5, debug = True)\n",
    "\n",
    "m = Model(model, transfs, gen_x, gen_y, RMSE)\n",
    "\n",
    "window = [1, 4, 12]\n",
    "ret_MLPVAR = m.expanding_window(X_test, y_test, TEST_OFFSET, window, 'dynamic')\n",
    "results['MLPVAR'] = ret_MLPVAR\n",
    "[ret_MLPVAR[h][0] for h in window]"
   ]
  },
  {
   "cell_type": "code",
   "execution_count": 68,
   "metadata": {},
   "outputs": [
    {
     "data": {
      "text/plain": [
       "[0.0034263467387137276, 0.0039550720673171731, 0.003864825296878204]"
      ]
     },
     "execution_count": 68,
     "metadata": {},
     "output_type": "execute_result"
    }
   ],
   "source": [
    "# get it from the file\n",
    "with open(\"MLPVAR.p\", \"rb\" ) as f:\n",
    "    ret_MLPVAR = pickle.load(f)\n",
    "    results['MLPVAR'] = ret_MLPVAR\n",
    "    \n",
    "[ret_MLPVAR[h][0] for h in window]"
   ]
  },
  {
   "cell_type": "markdown",
   "metadata": {},
   "source": [
    "# Factors"
   ]
  },
  {
   "cell_type": "markdown",
   "metadata": {},
   "source": [
    "## FAVAR"
   ]
  },
  {
   "cell_type": "code",
   "execution_count": 52,
   "metadata": {},
   "outputs": [
    {
     "name": "stdout",
     "output_type": "stream",
     "text": [
      "step: 540\n",
      "step: 545\n",
      "step: 550\n",
      "step: 555\n",
      "step: 560\n",
      "step: 565\n",
      "step: 570\n",
      "step: 575\n",
      "step: 580\n",
      "step: 585\n",
      "step: 590\n",
      "step: 595\n",
      "step: 600\n",
      "step: 605\n",
      "step: 610\n",
      "step: 615\n",
      "step: 620\n",
      "step: 625\n",
      "step: 630\n",
      "step: 635\n",
      "step: 640\n",
      "step: 645\n",
      "step: 650\n",
      "step: 655\n",
      "step: 660\n",
      "step: 665\n",
      "step: 670\n"
     ]
    },
    {
     "data": {
      "text/plain": [
       "[0.0034251271747871796, 0.0040777985876607565, 0.0039193545789352538]"
      ]
     },
     "execution_count": 52,
     "metadata": {},
     "output_type": "execute_result"
    }
   ],
   "source": [
    "import FAVAR\n",
    "reload(FAVAR)\n",
    "FAVAR = 1\n",
    "from FAVAR import FAVAR\n",
    "\n",
    "import Model\n",
    "reload(Model)\n",
    "Model = 1\n",
    "from Model import Model\n",
    "\n",
    "\n",
    "favar = FAVAR(factors_q)\n",
    "cols = ['CPI']\n",
    "y_col = ['CPI']\n",
    "\n",
    "\n",
    "X_train, y_train = df_train[cols], df_train[y_col]\n",
    "X_test, y_test = df_test[cols], df_test[y_col]\n",
    "\n",
    "\n",
    "n_factors = 1\n",
    "X_train = favar.addFactors(X_train, n_factors)\n",
    "X_test = favar.addFactors(X_test, n_factors)\n",
    "\n",
    "\n",
    "lags = 4\n",
    "\n",
    "\n",
    "def gen_x(X, start):\n",
    "    X = VAR.gen_X(X, lags, start)\n",
    "    X = X[:, 1:] # remove constant\n",
    "    return X\n",
    "\n",
    "def gen_y(y, start):\n",
    "    y = VAR.gen_y(y, lags, start)\n",
    "    return y\n",
    "\n",
    "model = VAR()\n",
    "\n",
    "m = Model(model, transfs, gen_x, gen_y, RMSE)\n",
    "\n",
    "window = [1, 4, 12]\n",
    "ret_FAVAR = m.expanding_window(X_test, y_test, TEST_OFFSET, window, 'dynamic')\n",
    "results['FAVAR'] = ret_FAVAR\n",
    "[ret_FAVAR[h][0] for h in window]"
   ]
  },
  {
   "cell_type": "markdown",
   "metadata": {},
   "source": [
    "## MSFAVAR"
   ]
  },
  {
   "cell_type": "code",
   "execution_count": 79,
   "metadata": {},
   "outputs": [
    {
     "name": "stderr",
     "output_type": "stream",
     "text": [
      "/usr/local/lib/python3.6/site-packages/statsmodels/tsa/regime_switching/markov_switching.py:391: RuntimeWarning: invalid value encountered in true_divide\n",
      "  predicted_joint_probabilities[..., t+1])\n"
     ]
    },
    {
     "name": "stdout",
     "output_type": "stream",
     "text": [
      "step: 540\n",
      "step: 545\n",
      "step: 550\n",
      "step: 555\n",
      "step: 560\n",
      "step: 565\n",
      "step: 570\n",
      "step: 575\n",
      "step: 580\n",
      "step: 585\n",
      "step: 590\n",
      "step: 595\n"
     ]
    },
    {
     "name": "stderr",
     "output_type": "stream",
     "text": [
      "/usr/local/lib/python3.6/site-packages/statsmodels/base/model.py:496: ConvergenceWarning: Maximum Likelihood optimization failed to converge. Check mle_retvals\n",
      "  \"Check mle_retvals\", ConvergenceWarning)\n",
      "/usr/local/lib/python3.6/site-packages/statsmodels/base/model.py:496: ConvergenceWarning: Maximum Likelihood optimization failed to converge. Check mle_retvals\n",
      "  \"Check mle_retvals\", ConvergenceWarning)\n"
     ]
    },
    {
     "name": "stdout",
     "output_type": "stream",
     "text": [
      "step: 600\n"
     ]
    },
    {
     "name": "stderr",
     "output_type": "stream",
     "text": [
      "/usr/local/lib/python3.6/site-packages/statsmodels/base/model.py:496: ConvergenceWarning: Maximum Likelihood optimization failed to converge. Check mle_retvals\n",
      "  \"Check mle_retvals\", ConvergenceWarning)\n",
      "/usr/local/lib/python3.6/site-packages/statsmodels/base/model.py:496: ConvergenceWarning: Maximum Likelihood optimization failed to converge. Check mle_retvals\n",
      "  \"Check mle_retvals\", ConvergenceWarning)\n"
     ]
    },
    {
     "name": "stdout",
     "output_type": "stream",
     "text": [
      "step: 605\n",
      "step: 610\n",
      "step: 615\n",
      "step: 620\n",
      "step: 625\n",
      "step: 630\n",
      "step: 635\n",
      "step: 640\n",
      "step: 645\n",
      "step: 650\n",
      "step: 655\n",
      "step: 660\n",
      "step: 665\n",
      "step: 670\n"
     ]
    },
    {
     "data": {
      "text/plain": [
       "[0.0035458141364374642, 0.004000657932079617, 0.0038703462388519298]"
      ]
     },
     "execution_count": 79,
     "metadata": {},
     "output_type": "execute_result"
    }
   ],
   "source": [
    "cols = ['CPI']\n",
    "y_col = ['CPI']\n",
    "\n",
    "X_train, y_train = df_train[cols], df_train[y_col]\n",
    "X_test, y_test = df_test[cols], df_test[y_col]\n",
    "\n",
    "n_factors = 1\n",
    "X_train = favar.addFactors(X_train, n_factors)\n",
    "X_test = favar.addFactors(X_test, n_factors)\n",
    "\n",
    "lags = 4\n",
    "\n",
    "def gen_x(X, start):\n",
    "    X = VAR.gen_X(X, lags, start)\n",
    "#     X = X[:, 1:] # remove constant\n",
    "    return X\n",
    "\n",
    "def gen_y(y, start):\n",
    "    y = VAR.gen_y(y, lags, start)\n",
    "    return y\n",
    "\n",
    "model = MSReg(2)\n",
    "m = Model(model, transfs, gen_x, gen_y, RMSE)\n",
    "\n",
    "window = [1, 4, 12]\n",
    "ret_MSFAVAR = m.expanding_window(X_test, y_test, TEST_OFFSET, window, 'dynamic-ar')\n",
    "results['MSFAVAR'] = ret_MSFAVAR\n",
    "[ret_MSFAVAR[h][0] for h in window]"
   ]
  },
  {
   "cell_type": "markdown",
   "metadata": {},
   "source": [
    "## SPLITFAVAR"
   ]
  },
  {
   "cell_type": "code",
   "execution_count": 135,
   "metadata": {},
   "outputs": [
    {
     "name": "stdout",
     "output_type": "stream",
     "text": [
      "step: 540\n",
      "step: 545\n",
      "step: 550\n",
      "step: 555\n",
      "step: 560\n",
      "step: 565\n",
      "step: 570\n",
      "step: 575\n",
      "step: 580\n",
      "step: 585\n",
      "step: 590\n",
      "step: 595\n",
      "step: 600\n",
      "step: 605\n",
      "step: 610\n",
      "step: 615\n",
      "step: 620\n",
      "step: 625\n",
      "step: 630\n",
      "step: 635\n",
      "step: 640\n",
      "step: 645\n",
      "step: 650\n",
      "step: 655\n",
      "step: 660\n",
      "step: 665\n",
      "step: 670\n"
     ]
    },
    {
     "data": {
      "text/plain": [
       "[0.0033947691141423771, 0.0039750629296103806, 0.0037980588889101673]"
      ]
     },
     "execution_count": 135,
     "metadata": {},
     "output_type": "execute_result"
    }
   ],
   "source": [
    "import splitVAR\n",
    "reload(splitVAR)\n",
    "splitVAR = 1\n",
    "from splitVAR import splitVAR\n",
    "\n",
    "cols = ['CPI']\n",
    "y_col = ['CPI']\n",
    "\n",
    "X_train, y_train = df_train[cols], df_train[y_col]\n",
    "X_test, y_test = df_test[cols], df_test[y_col]\n",
    "\n",
    "n_factors = 1\n",
    "X_train = favar.addFactors(X_train, n_factors)\n",
    "X_test = favar.addFactors(X_test, n_factors)\n",
    "\n",
    "lags = 4\n",
    "\n",
    "def gen_x(X, start):\n",
    "    X = VAR.gen_X(X, lags, start)\n",
    "#     X = X[:, 1:] # remove constant\n",
    "    return X\n",
    "\n",
    "def gen_y(y, start):\n",
    "    y = VAR.gen_y(y, lags, start)\n",
    "    return y\n",
    "\n",
    "model = splitVAR(2, proba = True, WLS = True, lags = lags, variables = cols, pred_vars = cols, reg_vars = cols)\n",
    "m = Model(model, transfs, gen_x, gen_y, RMSE)\n",
    "\n",
    "window = [1, 4, 12]\n",
    "ret_SPLITFAVAR = m.expanding_window(X_test, y_test, TEST_OFFSET, window, 'dynamic')\n",
    "results['SPLITFAVAR'] = ret_SPLITFAVAR\n",
    "[ret_SPLITFAVAR[h][0] for h in window]"
   ]
  },
  {
   "cell_type": "markdown",
   "metadata": {},
   "source": [
    "## MLPFAVAR"
   ]
  },
  {
   "cell_type": "code",
   "execution_count": null,
   "metadata": {
    "collapsed": true
   },
   "outputs": [],
   "source": [
    "favar = FAVAR(factors_q)\n",
    "\n",
    "cols = ['CPI']\n",
    "y_col = ['CPI']\n",
    "\n",
    "# x_cols, y_col = get_cols(cols, 'GDP')\n",
    "X_train, y_train = df_train[cols], df_train[y_col]\n",
    "X_test, y_test = df_test[cols], df_test[y_col]\n",
    "\n",
    "n_factors = 1\n",
    "X_train = favar.addFactors(X_train, n_factors)\n",
    "X_test = favar.addFactors(X_test, n_factors)\n",
    "\n",
    "lags = 4\n",
    "\n",
    "def gen_x(X, start):\n",
    "    X = VAR.gen_X(X, lags, start)\n",
    "#     X = X[:, 1:] # remove constant\n",
    "    return X\n",
    "\n",
    "def gen_y(y, start):\n",
    "    y = VAR.gen_y(y, lags, start)\n",
    "    return y\n",
    "\n",
    "model = MLP((4,), training_epochs = 5000, beta=0.5, debug = False)\n",
    "m = Model(model, transfs, gen_x, gen_y, RMSE)\n",
    "\n",
    "window = [1, 4, 12]\n",
    "ret_MLPFAVAR = m.expanding_window(X_test, y_test, TEST_OFFSET, window, 'dynamic')\n",
    "results['MLPFAVAR'] = ret_MLPFAVAR\n",
    "[ret_MLPFAVAR[h][0] for h in window]"
   ]
  },
  {
   "cell_type": "code",
   "execution_count": 63,
   "metadata": {},
   "outputs": [
    {
     "data": {
      "text/plain": [
       "[0.0033652172312903443, 0.0039088851954676247, 0.003802272265548687]"
      ]
     },
     "execution_count": 63,
     "metadata": {},
     "output_type": "execute_result"
    }
   ],
   "source": [
    "# get it from the file\n",
    "with open(\"MLPFAVAR.p\", \"rb\" ) as f:\n",
    "    ret_MLPFAVAR = pickle.load(f)\n",
    "    results['MLPFAVAR'] = ret_MLPFAVAR\n",
    "[ret_MLPFAVAR[h][0] for h in window]"
   ]
  },
  {
   "cell_type": "code",
   "execution_count": null,
   "metadata": {
    "collapsed": true
   },
   "outputs": [],
   "source": []
  },
  {
   "cell_type": "markdown",
   "metadata": {},
   "source": [
    "# Results"
   ]
  },
  {
   "cell_type": "code",
   "execution_count": 139,
   "metadata": {},
   "outputs": [
    {
     "name": "stdout",
     "output_type": "stream",
     "text": [
      "                  AR        MA      ARMA       MSAR    SPLITAR     MLPAR  \\\n",
      "BASE       -0.795284 -0.850471 -0.893693  -0.788931  -0.745596  -1.29412   \n",
      "AR               NaN  0.208891 -0.330883   0.242458   0.200584 -0.973376   \n",
      "MA               NaN       NaN -0.664799  0.0392327 -0.0212928 -0.934217   \n",
      "ARMA             NaN       NaN       NaN   0.847808   0.902903 -0.525112   \n",
      "MSAR             NaN       NaN       NaN        NaN  -0.116567  -1.03792   \n",
      "SPLITAR          NaN       NaN       NaN        NaN        NaN -0.966541   \n",
      "MLPAR            NaN       NaN       NaN        NaN        NaN       NaN   \n",
      "VAR              NaN       NaN       NaN        NaN        NaN       NaN   \n",
      "MSVAR            NaN       NaN       NaN        NaN        NaN       NaN   \n",
      "SPLITVAR         NaN       NaN       NaN        NaN        NaN       NaN   \n",
      "MLPVAR           NaN       NaN       NaN        NaN        NaN       NaN   \n",
      "FAVAR            NaN       NaN       NaN        NaN        NaN       NaN   \n",
      "MSFAVAR          NaN       NaN       NaN        NaN        NaN       NaN   \n",
      "SPLITFAVAR       NaN       NaN       NaN        NaN        NaN       NaN   \n",
      "\n",
      "                 VAR     MSVAR   SPLITVAR     MLPVAR      FAVAR   MSFAVAR  \\\n",
      "BASE       -0.885747 -0.674785  -0.815542  -0.752842  -0.859385 -0.370936   \n",
      "AR          0.165149  0.547785  0.0600251   0.245958   0.206787   0.93425   \n",
      "MA          -0.03344  0.532528  -0.224926  0.0365245  0.0245064  0.901933   \n",
      "ARMA        0.524272  0.982513   0.612031    1.03731   0.616161   2.29304   \n",
      "MSAR       -0.103748  0.862795  -0.517809  0.0022255 -0.0178643   1.23555   \n",
      "SPLITAR    -0.015204  0.613835  -0.586267  0.0982817  0.0566669   1.39404   \n",
      "MLPAR       0.954491   1.31443   0.812445   0.942608    1.03359    1.2847   \n",
      "VAR              NaN   1.21425  -0.196945   0.101302   0.212231  0.870417   \n",
      "MSVAR            NaN       NaN  -0.906522  -0.660723   -1.12078  0.401259   \n",
      "SPLITVAR         NaN       NaN        NaN   0.459987   0.311368   1.51138   \n",
      "MLPVAR           NaN       NaN        NaN        NaN -0.0161099   1.50476   \n",
      "FAVAR            NaN       NaN        NaN        NaN        NaN  0.885609   \n",
      "MSFAVAR          NaN       NaN        NaN        NaN        NaN       NaN   \n",
      "SPLITFAVAR       NaN       NaN        NaN        NaN        NaN       NaN   \n",
      "\n",
      "           SPLITFAVAR  MLPFAVAR  \n",
      "BASE        -0.826461  -1.01811  \n",
      "AR          0.0301073 -0.147946  \n",
      "MA          -0.250426 -0.419557  \n",
      "ARMA          0.58108  0.109313  \n",
      "MSAR        -0.590205 -0.685778  \n",
      "SPLITAR     -0.908213 -0.611264  \n",
      "MLPAR        0.798021  0.812496  \n",
      "VAR         -0.225357 -0.508721  \n",
      "MSVAR       -0.864778  -1.14881  \n",
      "SPLITVAR    -0.111763 -0.360207  \n",
      "MLPVAR      -0.512795 -0.556275  \n",
      "FAVAR       -0.359491  -0.69816  \n",
      "MSFAVAR      -1.67444  -1.13078  \n",
      "SPLITFAVAR        NaN -0.345777  \n",
      "                 AR        MA      ARMA      MSAR   SPLITAR     MLPAR  \\\n",
      "BASE       -1.94464  -2.30536  -2.45424  -1.67117  -2.44705  -2.14373   \n",
      "AR              NaN -0.788883  -0.96018  0.448482 -0.495987  -0.51491   \n",
      "MA              NaN       NaN  0.149796   1.03741  0.345153   0.59707   \n",
      "ARMA            NaN       NaN       NaN   1.09315  0.443451  0.655326   \n",
      "MSAR            NaN       NaN       NaN       NaN -0.610697   -1.1788   \n",
      "SPLITAR         NaN       NaN       NaN       NaN       NaN  0.185861   \n",
      "MLPAR           NaN       NaN       NaN       NaN       NaN       NaN   \n",
      "VAR             NaN       NaN       NaN       NaN       NaN       NaN   \n",
      "MSVAR           NaN       NaN       NaN       NaN       NaN       NaN   \n",
      "SPLITVAR        NaN       NaN       NaN       NaN       NaN       NaN   \n",
      "MLPVAR          NaN       NaN       NaN       NaN       NaN       NaN   \n",
      "FAVAR           NaN       NaN       NaN       NaN       NaN       NaN   \n",
      "MSFAVAR         NaN       NaN       NaN       NaN       NaN       NaN   \n",
      "SPLITFAVAR      NaN       NaN       NaN       NaN       NaN       NaN   \n",
      "\n",
      "                  VAR     MSVAR   SPLITVAR     MLPVAR     FAVAR   MSFAVAR  \\\n",
      "BASE         -2.46745   -2.4714   -2.36135   -2.39548  -2.38194  -2.34794   \n",
      "AR          0.0353265 -0.264548  -0.385447  -0.315905  0.203463 -0.106292   \n",
      "MA            1.33055   1.01801   0.575906   0.790935    1.2357  0.869045   \n",
      "ARMA          1.92769   1.50096   0.838165    1.47713   2.07989   1.39139   \n",
      "MSAR        -0.286855 -0.519804   -0.54966  -0.533778 -0.124436 -0.344132   \n",
      "SPLITAR      0.949676  0.516711   0.685877   0.650318   1.96757   1.81262   \n",
      "MLPAR        0.473515  0.093098 -0.0639472  0.0341732  0.588746  0.219892   \n",
      "VAR               NaN  -1.62042  -0.853963   -1.06116  0.570862 -0.329621   \n",
      "MSVAR             NaN       NaN  -0.336966  -0.205582   1.41062  0.373123   \n",
      "SPLITVAR          NaN       NaN        NaN   0.378092   1.63055   1.18989   \n",
      "MLPVAR            NaN       NaN        NaN        NaN   1.84212   0.78467   \n",
      "FAVAR             NaN       NaN        NaN        NaN       NaN  -1.47229   \n",
      "MSFAVAR           NaN       NaN        NaN        NaN       NaN       NaN   \n",
      "SPLITFAVAR        NaN       NaN        NaN        NaN       NaN       NaN   \n",
      "\n",
      "           SPLITFAVAR  MLPFAVAR  \n",
      "BASE         -2.32966  -2.43736  \n",
      "AR          -0.182005 -0.451918  \n",
      "MA           0.546917  0.427472  \n",
      "ARMA         0.737018  0.541679  \n",
      "MSAR        -0.363268 -0.587152  \n",
      "SPLITAR       1.23999   0.16993  \n",
      "MLPAR       0.0904594  -0.15406  \n",
      "VAR         -0.329667 -0.988164  \n",
      "MSVAR       0.0514374 -0.539688  \n",
      "SPLITVAR     0.427195 -0.506214  \n",
      "MLPVAR       0.148924 -0.658415  \n",
      "FAVAR       -0.867408  -2.03652  \n",
      "MSFAVAR     -0.285379  -2.18346  \n",
      "SPLITFAVAR        NaN -0.750046  \n"
     ]
    },
    {
     "data": {
      "text/html": [
       "<div>\n",
       "<style>\n",
       "    .dataframe thead tr:only-child th {\n",
       "        text-align: right;\n",
       "    }\n",
       "\n",
       "    .dataframe thead th {\n",
       "        text-align: left;\n",
       "    }\n",
       "\n",
       "    .dataframe tbody tr th {\n",
       "        vertical-align: top;\n",
       "    }\n",
       "</style>\n",
       "<table border=\"1\" class=\"dataframe\">\n",
       "  <thead>\n",
       "    <tr style=\"text-align: right;\">\n",
       "      <th></th>\n",
       "      <th>AR</th>\n",
       "      <th>MA</th>\n",
       "      <th>ARMA</th>\n",
       "      <th>MSAR</th>\n",
       "      <th>SPLITAR</th>\n",
       "      <th>MLPAR</th>\n",
       "      <th>VAR</th>\n",
       "      <th>MSVAR</th>\n",
       "      <th>SPLITVAR</th>\n",
       "      <th>MLPVAR</th>\n",
       "      <th>FAVAR</th>\n",
       "      <th>MSFAVAR</th>\n",
       "      <th>SPLITFAVAR</th>\n",
       "      <th>MLPFAVAR</th>\n",
       "    </tr>\n",
       "  </thead>\n",
       "  <tbody>\n",
       "    <tr>\n",
       "      <th>BASE</th>\n",
       "      <td>-2.77775</td>\n",
       "      <td>-2.71293</td>\n",
       "      <td>-2.82259</td>\n",
       "      <td>-2.11153</td>\n",
       "      <td>-2.79163</td>\n",
       "      <td>-2.85639</td>\n",
       "      <td>-2.57826</td>\n",
       "      <td>-2.60281</td>\n",
       "      <td>-2.73657</td>\n",
       "      <td>-2.66788</td>\n",
       "      <td>-2.60602</td>\n",
       "      <td>-2.66488</td>\n",
       "      <td>-2.82223</td>\n",
       "      <td>-2.78398</td>\n",
       "    </tr>\n",
       "    <tr>\n",
       "      <th>AR</th>\n",
       "      <td>NaN</td>\n",
       "      <td>0.594442</td>\n",
       "      <td>0.0391697</td>\n",
       "      <td>0.633617</td>\n",
       "      <td>0.294941</td>\n",
       "      <td>-0.533995</td>\n",
       "      <td>1.73459</td>\n",
       "      <td>1.52151</td>\n",
       "      <td>0.652159</td>\n",
       "      <td>1.0922</td>\n",
       "      <td>2.18447</td>\n",
       "      <td>1.53408</td>\n",
       "      <td>0.155315</td>\n",
       "      <td>0.264485</td>\n",
       "    </tr>\n",
       "    <tr>\n",
       "      <th>MA</th>\n",
       "      <td>NaN</td>\n",
       "      <td>NaN</td>\n",
       "      <td>-0.498852</td>\n",
       "      <td>0.559329</td>\n",
       "      <td>-0.138998</td>\n",
       "      <td>-0.936356</td>\n",
       "      <td>2.11301</td>\n",
       "      <td>1.13145</td>\n",
       "      <td>0.279779</td>\n",
       "      <td>0.489536</td>\n",
       "      <td>1.13873</td>\n",
       "      <td>0.603761</td>\n",
       "      <td>-0.132125</td>\n",
       "      <td>-0.166505</td>\n",
       "    </tr>\n",
       "    <tr>\n",
       "      <th>ARMA</th>\n",
       "      <td>NaN</td>\n",
       "      <td>NaN</td>\n",
       "      <td>NaN</td>\n",
       "      <td>0.662606</td>\n",
       "      <td>0.418878</td>\n",
       "      <td>-0.459631</td>\n",
       "      <td>1.67989</td>\n",
       "      <td>1.71156</td>\n",
       "      <td>0.852058</td>\n",
       "      <td>1.46799</td>\n",
       "      <td>2.38891</td>\n",
       "      <td>1.66644</td>\n",
       "      <td>0.182437</td>\n",
       "      <td>0.390504</td>\n",
       "    </tr>\n",
       "    <tr>\n",
       "      <th>MSAR</th>\n",
       "      <td>NaN</td>\n",
       "      <td>NaN</td>\n",
       "      <td>NaN</td>\n",
       "      <td>NaN</td>\n",
       "      <td>-0.603128</td>\n",
       "      <td>-0.763317</td>\n",
       "      <td>-0.3468</td>\n",
       "      <td>-0.351115</td>\n",
       "      <td>-0.508792</td>\n",
       "      <td>-0.461895</td>\n",
       "      <td>-0.29721</td>\n",
       "      <td>-0.421144</td>\n",
       "      <td>-0.591742</td>\n",
       "      <td>-0.621686</td>\n",
       "    </tr>\n",
       "    <tr>\n",
       "      <th>SPLITAR</th>\n",
       "      <td>NaN</td>\n",
       "      <td>NaN</td>\n",
       "      <td>NaN</td>\n",
       "      <td>NaN</td>\n",
       "      <td>NaN</td>\n",
       "      <td>-0.506242</td>\n",
       "      <td>1.07576</td>\n",
       "      <td>1.47778</td>\n",
       "      <td>0.779913</td>\n",
       "      <td>0.979097</td>\n",
       "      <td>1.31367</td>\n",
       "      <td>0.743314</td>\n",
       "      <td>-0.10311</td>\n",
       "      <td>-0.0855115</td>\n",
       "    </tr>\n",
       "    <tr>\n",
       "      <th>MLPAR</th>\n",
       "      <td>NaN</td>\n",
       "      <td>NaN</td>\n",
       "      <td>NaN</td>\n",
       "      <td>NaN</td>\n",
       "      <td>NaN</td>\n",
       "      <td>NaN</td>\n",
       "      <td>1.97458</td>\n",
       "      <td>1.56649</td>\n",
       "      <td>0.961682</td>\n",
       "      <td>1.30107</td>\n",
       "      <td>1.83569</td>\n",
       "      <td>1.4821</td>\n",
       "      <td>0.298023</td>\n",
       "      <td>0.504712</td>\n",
       "    </tr>\n",
       "    <tr>\n",
       "      <th>VAR</th>\n",
       "      <td>NaN</td>\n",
       "      <td>NaN</td>\n",
       "      <td>NaN</td>\n",
       "      <td>NaN</td>\n",
       "      <td>NaN</td>\n",
       "      <td>NaN</td>\n",
       "      <td>NaN</td>\n",
       "      <td>-0.0782944</td>\n",
       "      <td>-0.569102</td>\n",
       "      <td>-0.952365</td>\n",
       "      <td>0.148813</td>\n",
       "      <td>-0.785692</td>\n",
       "      <td>-0.666808</td>\n",
       "      <td>-1.06006</td>\n",
       "    </tr>\n",
       "    <tr>\n",
       "      <th>MSVAR</th>\n",
       "      <td>NaN</td>\n",
       "      <td>NaN</td>\n",
       "      <td>NaN</td>\n",
       "      <td>NaN</td>\n",
       "      <td>NaN</td>\n",
       "      <td>NaN</td>\n",
       "      <td>NaN</td>\n",
       "      <td>NaN</td>\n",
       "      <td>-0.588451</td>\n",
       "      <td>-1.43458</td>\n",
       "      <td>0.236956</td>\n",
       "      <td>-0.791642</td>\n",
       "      <td>-0.82105</td>\n",
       "      <td>-1.297</td>\n",
       "    </tr>\n",
       "    <tr>\n",
       "      <th>SPLITVAR</th>\n",
       "      <td>NaN</td>\n",
       "      <td>NaN</td>\n",
       "      <td>NaN</td>\n",
       "      <td>NaN</td>\n",
       "      <td>NaN</td>\n",
       "      <td>NaN</td>\n",
       "      <td>NaN</td>\n",
       "      <td>NaN</td>\n",
       "      <td>NaN</td>\n",
       "      <td>0.0858786</td>\n",
       "      <td>0.555383</td>\n",
       "      <td>0.115138</td>\n",
       "      <td>-0.463405</td>\n",
       "      <td>-0.778393</td>\n",
       "    </tr>\n",
       "    <tr>\n",
       "      <th>MLPVAR</th>\n",
       "      <td>NaN</td>\n",
       "      <td>NaN</td>\n",
       "      <td>NaN</td>\n",
       "      <td>NaN</td>\n",
       "      <td>NaN</td>\n",
       "      <td>NaN</td>\n",
       "      <td>NaN</td>\n",
       "      <td>NaN</td>\n",
       "      <td>NaN</td>\n",
       "      <td>NaN</td>\n",
       "      <td>1.06071</td>\n",
       "      <td>0.125796</td>\n",
       "      <td>-0.515587</td>\n",
       "      <td>-0.93839</td>\n",
       "    </tr>\n",
       "    <tr>\n",
       "      <th>FAVAR</th>\n",
       "      <td>NaN</td>\n",
       "      <td>NaN</td>\n",
       "      <td>NaN</td>\n",
       "      <td>NaN</td>\n",
       "      <td>NaN</td>\n",
       "      <td>NaN</td>\n",
       "      <td>NaN</td>\n",
       "      <td>NaN</td>\n",
       "      <td>NaN</td>\n",
       "      <td>NaN</td>\n",
       "      <td>NaN</td>\n",
       "      <td>-3.14742</td>\n",
       "      <td>-0.846903</td>\n",
       "      <td>-1.36787</td>\n",
       "    </tr>\n",
       "    <tr>\n",
       "      <th>MSFAVAR</th>\n",
       "      <td>NaN</td>\n",
       "      <td>NaN</td>\n",
       "      <td>NaN</td>\n",
       "      <td>NaN</td>\n",
       "      <td>NaN</td>\n",
       "      <td>NaN</td>\n",
       "      <td>NaN</td>\n",
       "      <td>NaN</td>\n",
       "      <td>NaN</td>\n",
       "      <td>NaN</td>\n",
       "      <td>NaN</td>\n",
       "      <td>NaN</td>\n",
       "      <td>-0.487008</td>\n",
       "      <td>-0.829087</td>\n",
       "    </tr>\n",
       "    <tr>\n",
       "      <th>SPLITFAVAR</th>\n",
       "      <td>NaN</td>\n",
       "      <td>NaN</td>\n",
       "      <td>NaN</td>\n",
       "      <td>NaN</td>\n",
       "      <td>NaN</td>\n",
       "      <td>NaN</td>\n",
       "      <td>NaN</td>\n",
       "      <td>NaN</td>\n",
       "      <td>NaN</td>\n",
       "      <td>NaN</td>\n",
       "      <td>NaN</td>\n",
       "      <td>NaN</td>\n",
       "      <td>NaN</td>\n",
       "      <td>0.0414023</td>\n",
       "    </tr>\n",
       "  </tbody>\n",
       "</table>\n",
       "</div>"
      ],
      "text/plain": [
       "                 AR        MA       ARMA      MSAR   SPLITAR     MLPAR  \\\n",
       "BASE       -2.77775  -2.71293   -2.82259  -2.11153  -2.79163  -2.85639   \n",
       "AR              NaN  0.594442  0.0391697  0.633617  0.294941 -0.533995   \n",
       "MA              NaN       NaN  -0.498852  0.559329 -0.138998 -0.936356   \n",
       "ARMA            NaN       NaN        NaN  0.662606  0.418878 -0.459631   \n",
       "MSAR            NaN       NaN        NaN       NaN -0.603128 -0.763317   \n",
       "SPLITAR         NaN       NaN        NaN       NaN       NaN -0.506242   \n",
       "MLPAR           NaN       NaN        NaN       NaN       NaN       NaN   \n",
       "VAR             NaN       NaN        NaN       NaN       NaN       NaN   \n",
       "MSVAR           NaN       NaN        NaN       NaN       NaN       NaN   \n",
       "SPLITVAR        NaN       NaN        NaN       NaN       NaN       NaN   \n",
       "MLPVAR          NaN       NaN        NaN       NaN       NaN       NaN   \n",
       "FAVAR           NaN       NaN        NaN       NaN       NaN       NaN   \n",
       "MSFAVAR         NaN       NaN        NaN       NaN       NaN       NaN   \n",
       "SPLITFAVAR      NaN       NaN        NaN       NaN       NaN       NaN   \n",
       "\n",
       "                VAR      MSVAR  SPLITVAR     MLPVAR     FAVAR   MSFAVAR  \\\n",
       "BASE       -2.57826   -2.60281  -2.73657   -2.66788  -2.60602  -2.66488   \n",
       "AR          1.73459    1.52151  0.652159     1.0922   2.18447   1.53408   \n",
       "MA          2.11301    1.13145  0.279779   0.489536   1.13873  0.603761   \n",
       "ARMA        1.67989    1.71156  0.852058    1.46799   2.38891   1.66644   \n",
       "MSAR        -0.3468  -0.351115 -0.508792  -0.461895  -0.29721 -0.421144   \n",
       "SPLITAR     1.07576    1.47778  0.779913   0.979097   1.31367  0.743314   \n",
       "MLPAR       1.97458    1.56649  0.961682    1.30107   1.83569    1.4821   \n",
       "VAR             NaN -0.0782944 -0.569102  -0.952365  0.148813 -0.785692   \n",
       "MSVAR           NaN        NaN -0.588451   -1.43458  0.236956 -0.791642   \n",
       "SPLITVAR        NaN        NaN       NaN  0.0858786  0.555383  0.115138   \n",
       "MLPVAR          NaN        NaN       NaN        NaN   1.06071  0.125796   \n",
       "FAVAR           NaN        NaN       NaN        NaN       NaN  -3.14742   \n",
       "MSFAVAR         NaN        NaN       NaN        NaN       NaN       NaN   \n",
       "SPLITFAVAR      NaN        NaN       NaN        NaN       NaN       NaN   \n",
       "\n",
       "           SPLITFAVAR   MLPFAVAR  \n",
       "BASE         -2.82223   -2.78398  \n",
       "AR           0.155315   0.264485  \n",
       "MA          -0.132125  -0.166505  \n",
       "ARMA         0.182437   0.390504  \n",
       "MSAR        -0.591742  -0.621686  \n",
       "SPLITAR      -0.10311 -0.0855115  \n",
       "MLPAR        0.298023   0.504712  \n",
       "VAR         -0.666808   -1.06006  \n",
       "MSVAR        -0.82105     -1.297  \n",
       "SPLITVAR    -0.463405  -0.778393  \n",
       "MLPVAR      -0.515587   -0.93839  \n",
       "FAVAR       -0.846903   -1.36787  \n",
       "MSFAVAR     -0.487008  -0.829087  \n",
       "SPLITFAVAR        NaN  0.0414023  "
      ]
     },
     "execution_count": 139,
     "metadata": {},
     "output_type": "execute_result"
    }
   ],
   "source": [
    "def SE(pred, real):\n",
    "    return (pred - real)*(pred - real)\n",
    "\n",
    "def AE(pred, real):\n",
    "    return abs(pred - real)\n",
    "    \n",
    "def DM(results, y, loss, cols = None):\n",
    "    if cols is None:\n",
    "        cols = list(results.keys())\n",
    "    \n",
    "    ret = {}\n",
    "    for h in [1, 4, 12]:\n",
    "        ret[h] = pd.DataFrame(columns=cols[1:], index=cols[0:-1])\n",
    "        for i in range(len(cols)-1):\n",
    "            row = {}\n",
    "            col1 = cols[i]\n",
    "            for j in range(i+1, len(cols)):\n",
    "                col2 = cols[j]\n",
    "                pred1 = results[col1][h][1]\n",
    "                pred2 = results[col2][h][1]\n",
    "                row[col2] = DM_comparison(pred2, pred1, y, loss, h)\n",
    "            ret[h].loc[col1] = pd.Series(row)\n",
    "            \n",
    "            \n",
    "    return ret\n",
    "\n",
    "def DM_comparison(pred1, pred2, real, loss, h):\n",
    "    first = pred1.first_valid_index()\n",
    "    # remove the y values that were used for training\n",
    "    real = real.loc[first:]\n",
    "    \n",
    "    # apply the loss function to every element \n",
    "    def f(row):\n",
    "        return loss(row.iloc[0], row.iloc[1])\n",
    "\n",
    "    loss1 = pd.concat([pred1, real], axis=1).apply(f, axis=1)\n",
    "    loss2 = pd.concat([pred2, real], axis=1).apply(f, axis=1)\n",
    "    d = loss1 - loss2\n",
    "    d = d.reset_index(drop=True)\n",
    "#     print(d)\n",
    "    T = len(d)\n",
    "    Z = np.mean(d) / np.sqrt(NW(d, h)/T)\n",
    "#     return NW(d, h)\n",
    "    return Z\n",
    "\n",
    "def autocov(d, tau):\n",
    "    T = len(d)\n",
    "    mu = np.mean(d)\n",
    "    return np.mean([(d[i] - mu)*(d[i-tau] - mu) for i in range(tau, T)])\n",
    "    \n",
    "def NW(d, h):\n",
    "    q = h-1\n",
    "    V = autocov(d, 0) + 2*np.sum([(1 - (nu)/(q+1)) * autocov(d, nu) for nu in range(1, q)])\n",
    "    return V\n",
    "    \n",
    "\n",
    "\n",
    "ret_DM = DM(results, y_test, SE)#, ['FAVAR', 'MSFAVAR', 'ARMA'])\n",
    "\n",
    "print(ret_DM[1])\n",
    "print(ret_DM[4])\n",
    "ret_DM[12]"
   ]
  },
  {
   "cell_type": "code",
   "execution_count": 138,
   "metadata": {
    "collapsed": true
   },
   "outputs": [],
   "source": [
    "pickle.dump(results, open( \"results.p\", \"wb\" ) )"
   ]
  },
  {
   "cell_type": "code",
   "execution_count": 140,
   "metadata": {
    "collapsed": true
   },
   "outputs": [],
   "source": [
    "import io\n",
    "import math\n",
    "\n",
    "\n",
    "def process_val(val):\n",
    "    if math.isnan(val):\n",
    "        return '-'\n",
    "    else:\n",
    "        if abs(val) > 1.96:\n",
    "            return '\\\\textbf{ ' + '{:.2f}'.format(round(val, 2)) + '}'\n",
    "        else:\n",
    "            return '{:.2f}'.format(round(val, 2))\n",
    "\n",
    "                                   \n",
    "def convertToLaTeX(df, alignment=\"c\", title=''):\n",
    "    \"\"\"\n",
    "    Convert a pandas dataframe to a LaTeX tabular.\n",
    "    Prints labels in bold, does not use math mode\n",
    "    \"\"\"\n",
    "    numColumns = df.shape[1]\n",
    "    numRows = df.shape[0]\n",
    "    output = io.StringIO()\n",
    "    colFormat = (\"%s|%s\" % ('r', alignment * numColumns))\n",
    "    #Write header\n",
    "    output.write(\"\\\\begin{tabular}{%s}\\n\" % colFormat)\n",
    "    columnLabels = [\"\\\\rot{ \\\\textbf{%s} }\" % label for label in df.columns]\n",
    "    output.write(\"%s& %s\\\\\\\\\\\\hline\\n\" % (title, \" & \".join(columnLabels)))\n",
    "    #Write data lines\n",
    "    for i in range(numRows):\n",
    "        output.write(\"\\\\textbf{%s} & %s\\\\\\\\\\n\"\n",
    "                     % (df.index[i], \" & \".join([process_val(val) for val in df.iloc[i]])))\n",
    "    #Write footer\n",
    "    output.write(\"\\\\end{tabular}\")\n",
    "    return output.getvalue()\n",
    "\n",
    "out = 'CPI'\n",
    "for h in [1, 4, 12]:\n",
    "    with open('../../latex/tabs/DM_' + out + '_' + str(h) + '.tex', \"w\" ) as f:\n",
    "        f.write(convertToLaTeX(ret_DM[h], title=out + ': ' + str(h) + ' ahead'))"
   ]
  },
  {
   "cell_type": "code",
   "execution_count": 141,
   "metadata": {},
   "outputs": [
    {
     "data": {
      "text/html": [
       "<div>\n",
       "<style>\n",
       "    .dataframe thead tr:only-child th {\n",
       "        text-align: right;\n",
       "    }\n",
       "\n",
       "    .dataframe thead th {\n",
       "        text-align: left;\n",
       "    }\n",
       "\n",
       "    .dataframe tbody tr th {\n",
       "        vertical-align: top;\n",
       "    }\n",
       "</style>\n",
       "<table border=\"1\" class=\"dataframe\">\n",
       "  <thead>\n",
       "    <tr>\n",
       "      <th>Loss</th>\n",
       "      <th colspan=\"3\" halign=\"left\">RMSE</th>\n",
       "      <th colspan=\"3\" halign=\"left\">MAE</th>\n",
       "    </tr>\n",
       "    <tr>\n",
       "      <th>Periods ahead</th>\n",
       "      <th>1</th>\n",
       "      <th>4</th>\n",
       "      <th>12</th>\n",
       "      <th>1</th>\n",
       "      <th>4</th>\n",
       "      <th>12</th>\n",
       "    </tr>\n",
       "  </thead>\n",
       "  <tbody>\n",
       "    <tr>\n",
       "      <th>BASE</th>\n",
       "      <td>1.000000</td>\n",
       "      <td>1.377551</td>\n",
       "      <td>1.484387</td>\n",
       "      <td>1.000000</td>\n",
       "      <td>1.302951</td>\n",
       "      <td>1.488913</td>\n",
       "    </tr>\n",
       "    <tr>\n",
       "      <th>AR</th>\n",
       "      <td>0.918857</td>\n",
       "      <td>1.091653</td>\n",
       "      <td>1.021470</td>\n",
       "      <td>0.858323</td>\n",
       "      <td>1.022584</td>\n",
       "      <td>0.952531</td>\n",
       "    </tr>\n",
       "    <tr>\n",
       "      <th>MA</th>\n",
       "      <td>0.927572</td>\n",
       "      <td>1.035054</td>\n",
       "      <td>1.036610</td>\n",
       "      <td>0.874194</td>\n",
       "      <td>1.008575</td>\n",
       "      <td>1.012870</td>\n",
       "    </tr>\n",
       "    <tr>\n",
       "      <th>ARMA</th>\n",
       "      <td>0.908390</td>\n",
       "      <td>1.041395</td>\n",
       "      <td>1.022187</td>\n",
       "      <td>0.837603</td>\n",
       "      <td>0.936154</td>\n",
       "      <td>0.949173</td>\n",
       "    </tr>\n",
       "    <tr>\n",
       "      <th>MSAR</th>\n",
       "      <td>0.928638</td>\n",
       "      <td>1.116017</td>\n",
       "      <td>1.095761</td>\n",
       "      <td>0.840958</td>\n",
       "      <td>1.107058</td>\n",
       "      <td>1.097140</td>\n",
       "    </tr>\n",
       "    <tr>\n",
       "      <th>SPLITAR</th>\n",
       "      <td>0.926918</td>\n",
       "      <td>1.057054</td>\n",
       "      <td>1.031799</td>\n",
       "      <td>0.846705</td>\n",
       "      <td>0.922754</td>\n",
       "      <td>0.966589</td>\n",
       "    </tr>\n",
       "    <tr>\n",
       "      <th>MLPAR</th>\n",
       "      <td>0.885320</td>\n",
       "      <td>1.070090</td>\n",
       "      <td>1.012643</td>\n",
       "      <td>0.835921</td>\n",
       "      <td>0.967465</td>\n",
       "      <td>0.963098</td>\n",
       "    </tr>\n",
       "    <tr>\n",
       "      <th>VAR</th>\n",
       "      <td>0.926464</td>\n",
       "      <td>1.093890</td>\n",
       "      <td>1.059866</td>\n",
       "      <td>0.857562</td>\n",
       "      <td>1.026813</td>\n",
       "      <td>1.038511</td>\n",
       "    </tr>\n",
       "    <tr>\n",
       "      <th>MSVAR</th>\n",
       "      <td>0.945073</td>\n",
       "      <td>1.074960</td>\n",
       "      <td>1.059006</td>\n",
       "      <td>0.861138</td>\n",
       "      <td>1.003154</td>\n",
       "      <td>1.024839</td>\n",
       "    </tr>\n",
       "    <tr>\n",
       "      <th>SPLITVAR</th>\n",
       "      <td>0.921323</td>\n",
       "      <td>1.065932</td>\n",
       "      <td>1.045811</td>\n",
       "      <td>0.857115</td>\n",
       "      <td>0.965617</td>\n",
       "      <td>1.014866</td>\n",
       "    </tr>\n",
       "    <tr>\n",
       "      <th>MLPVAR</th>\n",
       "      <td>0.928669</td>\n",
       "      <td>1.071974</td>\n",
       "      <td>1.047513</td>\n",
       "      <td>0.852069</td>\n",
       "      <td>0.978946</td>\n",
       "      <td>0.997208</td>\n",
       "    </tr>\n",
       "    <tr>\n",
       "      <th>FAVAR</th>\n",
       "      <td>0.928339</td>\n",
       "      <td>1.105237</td>\n",
       "      <td>1.062293</td>\n",
       "      <td>0.862299</td>\n",
       "      <td>1.013330</td>\n",
       "      <td>1.020517</td>\n",
       "    </tr>\n",
       "    <tr>\n",
       "      <th>MSFAVAR</th>\n",
       "      <td>0.961049</td>\n",
       "      <td>1.084329</td>\n",
       "      <td>1.049010</td>\n",
       "      <td>0.863897</td>\n",
       "      <td>0.977454</td>\n",
       "      <td>1.000428</td>\n",
       "    </tr>\n",
       "    <tr>\n",
       "      <th>SPLITFAVAR</th>\n",
       "      <td>0.920110</td>\n",
       "      <td>1.077392</td>\n",
       "      <td>1.029417</td>\n",
       "      <td>0.845805</td>\n",
       "      <td>0.926225</td>\n",
       "      <td>0.948944</td>\n",
       "    </tr>\n",
       "    <tr>\n",
       "      <th>MLPFAVAR</th>\n",
       "      <td>0.912101</td>\n",
       "      <td>1.059455</td>\n",
       "      <td>1.030559</td>\n",
       "      <td>0.850905</td>\n",
       "      <td>0.924221</td>\n",
       "      <td>0.983994</td>\n",
       "    </tr>\n",
       "  </tbody>\n",
       "</table>\n",
       "</div>"
      ],
      "text/plain": [
       "Loss               RMSE                           MAE                    \n",
       "Periods ahead        1         4         12        1         4         12\n",
       "BASE           1.000000  1.377551  1.484387  1.000000  1.302951  1.488913\n",
       "AR             0.918857  1.091653  1.021470  0.858323  1.022584  0.952531\n",
       "MA             0.927572  1.035054  1.036610  0.874194  1.008575  1.012870\n",
       "ARMA           0.908390  1.041395  1.022187  0.837603  0.936154  0.949173\n",
       "MSAR           0.928638  1.116017  1.095761  0.840958  1.107058  1.097140\n",
       "SPLITAR        0.926918  1.057054  1.031799  0.846705  0.922754  0.966589\n",
       "MLPAR          0.885320  1.070090  1.012643  0.835921  0.967465  0.963098\n",
       "VAR            0.926464  1.093890  1.059866  0.857562  1.026813  1.038511\n",
       "MSVAR          0.945073  1.074960  1.059006  0.861138  1.003154  1.024839\n",
       "SPLITVAR       0.921323  1.065932  1.045811  0.857115  0.965617  1.014866\n",
       "MLPVAR         0.928669  1.071974  1.047513  0.852069  0.978946  0.997208\n",
       "FAVAR          0.928339  1.105237  1.062293  0.862299  1.013330  1.020517\n",
       "MSFAVAR        0.961049  1.084329  1.049010  0.863897  0.977454  1.000428\n",
       "SPLITFAVAR     0.920110  1.077392  1.029417  0.845805  0.926225  0.948944\n",
       "MLPFAVAR       0.912101  1.059455  1.030559  0.850905  0.924221  0.983994"
      ]
     },
     "execution_count": 141,
     "metadata": {},
     "output_type": "execute_result"
    }
   ],
   "source": [
    "def cost_comparison(results, y, losses, losses_names, models=None):\n",
    "    if models is None:\n",
    "        models = list(results.keys())\n",
    "        \n",
    "    hs = results[models[0]].keys()\n",
    "\n",
    "    tuples = [(loss, h) for loss in losses_names for h in hs]\n",
    "    index = pd.MultiIndex.from_tuples(tuples, names=['Loss', 'Periods ahead'])\n",
    "    ret = pd.DataFrame(columns = index)\n",
    "#     ret.loc['base'] = pd.Series(np.random.randn(6), index=index)\n",
    "    for model in models:\n",
    "        s = pd.Series(index=index)\n",
    "        for loss_idx in range(len(losses)):\n",
    "            for h in hs:\n",
    "                loss = losses[loss_idx]\n",
    "                s.loc[(losses_names[loss_idx], h)] = loss(results[model][h][1], y)                \n",
    "        ret.loc[model] = s\n",
    "        \n",
    "    \n",
    "    return ret\n",
    "    \n",
    "\n",
    "def scale_losses(ret_losses):\n",
    "    losses = list(ret_losses.columns.get_level_values(0).unique())\n",
    "    hs = list(ret_losses.columns.get_level_values(1).unique())\n",
    "    \n",
    "    for loss in losses:\n",
    "        ref = ret_losses[loss][hs[0]].iloc[0]\n",
    "        ret_losses[loss] = ret_losses[loss] / ref\n",
    "    \n",
    "    return ret_losses\n",
    "    \n",
    "def is_col_min(df):\n",
    "    return df == df.min()\n",
    "    \n",
    "ret_losses_r = cost_comparison(results, y_test, [RMSE, MAE], ['RMSE', 'MAE'])\n",
    "\n",
    "# scale the results so that the 1 period loss is always 1\n",
    "\n",
    "ret_losses = scale_losses(ret_losses_r.copy())\n",
    "\n",
    "ret_losses_is_min = is_col_min(ret_losses)\n",
    "\n",
    "pickle.dump(ret_losses, open( \"../agg/CPI.p\", \"wb\" ) )\n",
    "\n",
    "ret_losses"
   ]
  },
  {
   "cell_type": "code",
   "execution_count": 142,
   "metadata": {
    "collapsed": true
   },
   "outputs": [],
   "source": [
    "from itertools import groupby\n",
    "\n",
    "def process_val(val, i, j):\n",
    "    if ret_losses_is_min.iloc[i, j]: # is col min\n",
    "        return '{\\\\color{red} \\\\textbf{' + str(round(val, 2)) + '}}'\n",
    "    else:\n",
    "        return str(round(val, 2))\n",
    "\n",
    "def convertToLaTeX(df, alignment=\"c\"):\n",
    "    \"\"\"\n",
    "    Convert a pandas dataframe to a LaTeX tabular.\n",
    "    Prints labels in bold, does not use math mode\n",
    "    \"\"\"\n",
    "    first = list(df.columns.get_level_values(0))\n",
    "    first_group = [(key, len(list(group))) for key, group in groupby(first)]\n",
    "    second = list(df.columns.get_level_values(1))\n",
    "    \n",
    "    numColumns = df.shape[1]\n",
    "    numRows = df.shape[0]\n",
    "    output = io.StringIO()\n",
    "    cols_align = \"|\".join([\"%s\" % (alignment * l) for key, l in first_group])\n",
    "    colFormat = (\"%s|%s\" % ('l', cols_align))\n",
    "    #Write header\n",
    "    output.write(\"\\\\begin{tabular}{%s}\\n\" % colFormat)\n",
    "    output.write('\\\\toprule\\n')\n",
    "        \n",
    "    # top cols    \n",
    "    columnLabels = [\"\\multicolumn{%i}{c}{%s}\" % (l, label) for label, l in first_group]\n",
    "    output.write(\"%s & %s\\\\\\\\\\n\" % (df.columns.names[0],\" & \".join(columnLabels)))\n",
    "    \n",
    "    # second col\n",
    "    columnLabels = [\"%s\" % label for label in second]\n",
    "    output.write(\"%s & %s\\\\\\\\\\\\hline\\n\" % (df.columns.names[1],\" & \".join(columnLabels)))\n",
    "\n",
    "#     columnLabels = [\"\\\\rot{ \\\\textbf{%s} }\" % label for label in df.columns]\n",
    "#     output.write(\"& %s\\\\\\\\\\\\hline\\n\" % \" & \".join(columnLabels))\n",
    "    #Write data lines\n",
    "    for i in range(numRows):\n",
    "        output.write(\"%s & %s\\\\\\\\\\n\"\n",
    "                     % (df.index[i], \" & \".join([process_val(df.iloc[i, j], i, j) for j in range(numColumns)])))\n",
    "    #Write footer\n",
    "    output.write(\"\\\\end{tabular}\")\n",
    "    return output.getvalue()\n",
    "\n",
    "with open('../../latex/tabs/CPI_losses.tex', \"w\" ) as f:\n",
    "    f.write(convertToLaTeX(ret_losses))"
   ]
  },
  {
   "cell_type": "code",
   "execution_count": 148,
   "metadata": {},
   "outputs": [
    {
     "data": {
      "image/png": "[encoded data removed]",
      "text/plain": [
       "<matplotlib.figure.Figure at 0x1104305c0>"
      ]
     },
     "metadata": {},
     "output_type": "display_data"
    }
   ],
   "source": [
    "import matplotlib.patches as mpatches\n",
    "\n",
    "\n",
    "df = ret_losses_r['RMSE'].transpose()\n",
    "\n",
    "plt.plot(df['BASE'], color='y', linestyle = ':')\n",
    "plt.plot(df['AR'], color='r')\n",
    "plt.plot(df['MA'], color='r')\n",
    "plt.plot(df['ARMA'], color='r', linestyle = '-')\n",
    "plt.plot(df['MSAR'], color='r', linestyle = '--')\n",
    "plt.plot(df['SPLITAR'], color='r', linestyle = '-.')\n",
    "plt.plot(df['MLPAR'], color='r', linestyle = ':')\n",
    "plt.plot(df['VAR'], color='b', linestyle = '-')\n",
    "plt.plot(df['MSVAR'], color='b', linestyle = '--')\n",
    "plt.plot(df['SPLITVAR'], color='b', linestyle = '-.')\n",
    "plt.plot(df['MLPVAR'], color='b', linestyle = ':')\n",
    "plt.plot(df['FAVAR'], color='c', linestyle = '-')\n",
    "plt.plot(df['MSFAVAR'], color='c', linestyle = '--')\n",
    "plt.plot(df['SPLITFAVAR'], color='c', linestyle = '-.')\n",
    "plt.plot(df['MLPFAVAR'], color='c', linestyle = ':')\n",
    "\n",
    "plt.xticks([1, 4, 12])\n",
    "plt.xlabel('periods ahead')\n",
    "plt.ylabel('RMSE')\n",
    "\n",
    "RW = mpatches.Patch(color='y', label='Random Walk')\n",
    "uni = mpatches.Patch(color='red', label='Univariate')\n",
    "multi = mpatches.Patch(color='blue', label='Multivariate')\n",
    "factors = mpatches.Patch(color='cyan', label='Factors')\n",
    "\n",
    "\n",
    "\n",
    "plt.legend(handles=[RW, uni, multi, factors], loc='lower right', frameon=True)\n",
    "\n",
    "\n",
    "plt.title('CPI')\n",
    "plt.savefig('../../latex/plots/CPI_all.eps', format='eps', dpi=200)"
   ]
  },
  {
   "cell_type": "code",
   "execution_count": 149,
   "metadata": {},
   "outputs": [
    {
     "data": {
      "image/png": "[encoded data removed]",
      "text/plain": [
       "<matplotlib.figure.Figure at 0x110029160>"
      ]
     },
     "metadata": {},
     "output_type": "display_data"
    }
   ],
   "source": [
    "import matplotlib.patches as mpatches\n",
    "\n",
    "\n",
    "df = ret_losses_r['RMSE'].transpose()\n",
    "\n",
    "plt.plot(df['AR'], color='r')\n",
    "plt.plot(df['MA'], color='r')\n",
    "plt.plot(df['ARMA'], color='r', linestyle = '-')\n",
    "plt.plot(df['MSAR'], color='r', linestyle = '--')\n",
    "plt.plot(df['SPLITAR'], color='r', linestyle = '-.')\n",
    "plt.plot(df['MLPAR'], color='r', linestyle = ':')\n",
    "plt.plot(df['VAR'], color='b', linestyle = '-')\n",
    "plt.plot(df['MSVAR'], color='b', linestyle = '--')\n",
    "plt.plot(df['SPLITVAR'], color='b', linestyle = '-.')\n",
    "plt.plot(df['MLPVAR'], color='b', linestyle = ':')\n",
    "plt.plot(df['FAVAR'], color='c', linestyle = '-')\n",
    "plt.plot(df['MSFAVAR'], color='c', linestyle = '--')\n",
    "plt.plot(df['SPLITFAVAR'], color='c', linestyle = '-.')\n",
    "plt.plot(df['MLPFAVAR'], color='c', linestyle = ':')\n",
    "\n",
    "plt.xticks([1, 4, 12])\n",
    "plt.xlabel('periods ahead')\n",
    "plt.ylabel('RMSE')\n",
    "\n",
    "uni = mpatches.Patch(color='red', label='Univariate')\n",
    "multi = mpatches.Patch(color='blue', label='Multivariate')\n",
    "factors = mpatches.Patch(color='cyan', label='Factors')\n",
    "\n",
    "\n",
    "\n",
    "plt.legend(handles=[uni, multi, factors], loc='lower right', frameon=True)\n",
    "\n",
    "\n",
    "plt.title('CPI')\n",
    "plt.savefig('../../latex/plots/CPI_all_zoomed.eps', format='eps', dpi=200)"
   ]
  },
  {
   "cell_type": "code",
   "execution_count": 145,
   "metadata": {},
   "outputs": [
    {
     "data": {
      "image/png": "[encoded data removed]",
      "text/plain": [
       "<matplotlib.figure.Figure at 0x10e90fc50>"
      ]
     },
     "metadata": {},
     "output_type": "display_data"
    }
   ],
   "source": [
    "fig, ax = plt.subplots(figsize=(8,5))\n",
    "\n",
    "\n",
    "plt.plot(df['FAVAR'], label='FAVAR')\n",
    "plt.plot(df['MSFAVAR'], label='MSFAVAR')\n",
    "plt.plot(df['SPLITFAVAR'], label='SPLITFAVAR')\n",
    "plt.plot(df['MLPFAVAR'], label='MLPFAVAR')\n",
    "\n",
    "plt.xticks([1, 4, 12])\n",
    "plt.xlabel('periods ahead')\n",
    "plt.ylabel('RMSE')\n",
    "\n",
    "legend = ax.legend(loc='lower right', frameon=True)\n",
    "\n",
    "plt.savefig('../../latex/plots/CPI_favar.eps', format='eps', dpi=200)"
   ]
  }
 ],
 "metadata": {
  "kernelspec": {
   "display_name": "Python 3",
   "language": "python",
   "name": "python3"
  },
  "language_info": {
   "codemirror_mode": {
    "name": "ipython",
    "version": 3
   },
   "file_extension": ".py",
   "mimetype": "text/x-python",
   "name": "python",
   "nbconvert_exporter": "python",
   "pygments_lexer": "ipython3",
   "version": "3.6.1"
  }
 },
 "nbformat": 4,
 "nbformat_minor": 2
}
